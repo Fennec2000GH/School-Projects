{
 "cells": [
  {
   "cell_type": "markdown",
   "metadata": {},
   "source": [
    "#SVM (O'Reilly) "
   ]
  },
  {
   "cell_type": "code",
   "execution_count": 7,
   "metadata": {},
   "outputs": [
    {
     "name": "stdout",
     "output_type": "stream",
     "text": [
      "Pipeline(memory=None,\n",
      "         steps=[('scaler',\n",
      "                 StandardScaler(copy=True, with_mean=True, with_std=True)),\n",
      "                ('linear_svc',\n",
      "                 LinearSVC(C=1, class_weight=None, dual=True,\n",
      "                           fit_intercept=True, intercept_scaling=1,\n",
      "                           loss='hinge', max_iter=1000, multi_class='ovr',\n",
      "                           penalty='l2', random_state=None, tol=0.0001,\n",
      "                           verbose=0))],\n",
      "         verbose=False)\n",
      "[1.]\n"
     ]
    }
   ],
   "source": [
    "import numpy as np \n",
    "from sklearn.datasets import load_iris \n",
    "from sklearn.pipeline import Pipeline \n",
    "from sklearn.preprocessing import StandardScaler \n",
    "from sklearn.svm import LinearSVC \n",
    "\n",
    "iris=load_iris()\n",
    "# print(\"iris shape\", iris.shape)\n",
    "X=iris['data'][:, (2, 3)] #petal length and petal width \n",
    "y=(iris['target']==2).astype(np.float64) #iris-virginica \n",
    "svm_clf=Pipeline([\n",
    "            ('scaler', StandardScaler()), \n",
    "            ('linear_svc', LinearSVC(C=1, loss='hinge'))\n",
    "])\n",
    "\n",
    "print(svm_clf)\n",
    "svm_clf.fit(X=X, y=y)\n",
    "svm_p=svm_clf.predict(X=[[5.5, 1.7]])\n",
    "print(svm_p)"
   ]
  },
  {
   "cell_type": "code",
   "execution_count": 8,
   "metadata": {},
   "outputs": [
    {
     "name": "stdout",
     "output_type": "stream",
     "text": [
      "Pipeline(memory=None,\n",
      "         steps=[('poly_features',\n",
      "                 PolynomialFeatures(degree=3, include_bias=True,\n",
      "                                    interaction_only=False, order='C')),\n",
      "                ('scaler',\n",
      "                 StandardScaler(copy=True, with_mean=True, with_std=True)),\n",
      "                ('svm_clf',\n",
      "                 LinearSVC(C=10, class_weight=None, dual=True,\n",
      "                           fit_intercept=True, intercept_scaling=1,\n",
      "                           loss='hinge', max_iter=1000, multi_class='ovr',\n",
      "                           penalty='l2', random_state=None, tol=0.0001,\n",
      "                           verbose=0))],\n",
      "         verbose=False)\n",
      "[0. 0. 0. 0. 0. 0. 0. 0. 0. 0. 0. 0. 0. 0. 0. 0. 0. 0. 0. 0. 0. 0. 0. 0.\n",
      " 0. 0. 0. 0. 0. 0. 0. 0. 0. 0. 0. 0. 0. 0. 0. 0. 0. 0. 0. 0. 0. 0. 0. 0.\n",
      " 0. 0. 0. 0. 0. 0. 0. 0. 0. 0. 0. 0. 0. 0. 0. 0. 0. 0. 0. 0. 0. 0. 1. 0.\n",
      " 0. 0. 0. 0. 0. 1. 0. 0. 0. 0. 0. 1. 0. 0. 0. 0. 0. 0. 0. 0. 0. 0. 0. 0.\n",
      " 0. 0. 0. 0. 1. 1. 1. 1. 1. 1. 0. 1. 1. 1. 1. 1. 1. 1. 1. 1. 1. 1. 1. 0.\n",
      " 1. 1. 1. 1. 1. 1. 1. 1. 1. 1. 1. 1. 1. 0. 1. 1. 1. 1. 1. 1. 1. 1. 1. 1.\n",
      " 1. 1. 1. 1. 1. 1.]\n"
     ]
    }
   ],
   "source": [
    "from sklearn.datasets import make_moons \n",
    "from sklearn.svm import LinearSVC \n",
    "from sklearn.pipeline import Pipeline \n",
    "from sklearn.preprocessing import StandardScaler \n",
    "from sklearn.preprocessing import PolynomialFeatures \n",
    "\n",
    "polynomial_svm_clf=Pipeline([\n",
    "                ('poly_features', PolynomialFeatures(degree=3)), \n",
    "                ('scaler', StandardScaler()), \n",
    "                ('svm_clf', LinearSVC(C=10, loss='hinge'))\n",
    "]) \n",
    "\n",
    "print(polynomial_svm_clf)\n",
    "polynomial_svm_clf.fit(X=X, y=y)\n",
    "polynomial_svm_clf_p=polynomial_svm_clf.predict(X=X)\n",
    "print(polynomial_svm_clf_p)"
   ]
  },
  {
   "cell_type": "code",
   "execution_count": null,
   "metadata": {},
   "outputs": [],
   "source": []
  }
 ],
 "metadata": {
  "kernelspec": {
   "display_name": "Python 3",
   "language": "python",
   "name": "python3"
  },
  "language_info": {
   "codemirror_mode": {
    "name": "ipython",
    "version": 3
   },
   "file_extension": ".py",
   "mimetype": "text/x-python",
   "name": "python",
   "nbconvert_exporter": "python",
   "pygments_lexer": "ipython3",
   "version": "3.7.3"
  }
 },
 "nbformat": 4,
 "nbformat_minor": 4
}
