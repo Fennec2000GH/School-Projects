{
 "cells" : [
  {
   "cell_type" : "code",
   "execution_count" : 2,
   "metadata" : {
    "pycharm" : {
     "name" : "#%%\n"
    }
   },
   "outputs" : [
    {
     "name" : "stdout",
     "output_type" : "stream",
     "text" : [
      "[[[ 0  1  2  3  4]\n",
      "  [ 5  6  7  8  9]]\n",
      "\n",
      " [[10 11 12 13 14]\n",
      "  [15 16 17 18 19]]]\n"
     ]
    }
   ],
   "source" : [
    "#Dealing with missing values\n",
    "import numpy as np\n",
    "import pandas as pd\n",
    "\n",
    "ex = np.array(np.arange(0, 20).reshape(2, 2, 5))\n",
    "print(ex)\n"
   ]
  },
  {
   "cell_type" : "code",
   "execution_count" : null,
   "outputs" : [ ],
   "source" : [ ],
   "metadata" : {
    "collapsed" : false,
    "pycharm" : {
     "name" : "#%%\n"
    }
   }
  },
  {
   "cell_type" : "code",
   "execution_count" : null,
   "metadata" : { },
   "outputs" : [ ],
   "source" : [ ]
  }
 ],
 "metadata" : {
  "kernelspec" : {
   "display_name" : "Python 3",
   "language" : "python",
   "name" : "python3"
  },
  "language_info" : {
   "codemirror_mode" : {
    "name" : "ipython",
    "version" : 3
   },
   "file_extension" : ".py",
   "mimetype" : "text/x-python",
   "name" : "python",
   "nbconvert_exporter" : "python",
   "pygments_lexer" : "ipython3",
   "version" : "3.7.3"
  },
  "pycharm" : {
   "stem_cell" : {
    "cell_type" : "raw",
    "source" : [
     "###Building Good Training Sets - Data Proprocessing\n"
    ],
    "metadata" : {
     "collapsed" : false
    }
   }
  }
 },
 "nbformat" : 4,
 "nbformat_minor" : 1
}