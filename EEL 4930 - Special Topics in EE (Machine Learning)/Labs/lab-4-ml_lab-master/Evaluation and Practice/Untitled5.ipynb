{
 "cells": [
  {
   "cell_type": "code",
   "execution_count": 1,
   "metadata": {},
   "outputs": [],
   "source": [
    "## Import libraries\n",
    "import numpy as np\n",
    "import matplotlib.pyplot as plt\n",
    "%matplotlib inline\n",
    "from skimage.color import rgb2gray\n",
    "import pylab as pl\n",
    "import pandas as pd"
   ]
  },
  {
   "cell_type": "code",
   "execution_count": 2,
   "metadata": {},
   "outputs": [
    {
     "data": {
      "text/plain": [
       "((1844, 100, 100, 3), (1844, 1))"
      ]
     },
     "execution_count": 2,
     "metadata": {},
     "output_type": "execute_result"
    }
   ],
   "source": [
    "Xtrain = np.load('train_data.npy')\n",
    "Ytrain = np.load('train_labels.npy')\n",
    "labels = ['A','B','C','D','E','F','G','H','I']\n",
    "Xtrain.shape, Ytrain.shape"
   ]
  },
  {
   "cell_type": "code",
   "execution_count": 3,
   "metadata": {},
   "outputs": [
    {
     "data": {
      "text/plain": [
       "((1844, 10000), (1844, 100, 100, 3), 1844)"
      ]
     },
     "execution_count": 3,
     "metadata": {},
     "output_type": "execute_result"
    }
   ],
   "source": [
    "# Vectorize origional data so other preprocessing techniques can be used. \n",
    "Xtrain2 = []\n",
    "for k in range(len(Xtrain)):   \n",
    "        X_train1 = rgb2gray(Xtrain[k,:,:,:])\n",
    "        Xtrain2 += [X_train1.ravel()]\n",
    "Xtrain2 = np.array(Xtrain2)\n",
    "Xtrain2.shape, Xtrain.shape, len(Xtrain)"
   ]
  },
  {
   "cell_type": "code",
   "execution_count": 4,
   "metadata": {},
   "outputs": [
    {
     "data": {
      "text/plain": [
       "((1475, 10000), (369, 10000), (1475,), (369,))"
      ]
     },
     "execution_count": 4,
     "metadata": {},
     "output_type": "execute_result"
    }
   ],
   "source": [
    "## Normalize and separate data into training and validation sets.\n",
    "from sklearn.model_selection import train_test_split\n",
    "\n",
    "X_train_norm = Xtrain2/float(255)\n",
    "\n",
    "X_train, X_test, y_train, y_test = train_test_split(X_train_norm, Ytrain, test_size=0.2)\n",
    "y_train = np.array(y_train.ravel()) \n",
    "y_test = np.array(y_test.ravel())\n",
    "X_train.shape, X_test.shape, y_train.shape, y_test.shape"
   ]
  },
  {
   "cell_type": "code",
   "execution_count": 5,
   "metadata": {},
   "outputs": [
    {
     "name": "stdout",
     "output_type": "stream",
     "text": [
      "C_values: [ 5 10 15 20 25 30]\n",
      "gamma_values: [ 100  200  300  400  500  600  700  800  900 1000]\n"
     ]
    },
    {
     "name": "stderr",
     "output_type": "stream",
     "text": [
      "C:\\Users\\Paranoid_Android\\Anaconda3\\lib\\site-packages\\sklearn\\svm\\base.py:193: FutureWarning: The default value of gamma will change from 'auto' to 'scale' in version 0.22 to account better for unscaled features. Set gamma explicitly to 'auto' or 'scale' to avoid this warning.\n",
      "  \"avoid this warning.\", FutureWarning)\n"
     ]
    },
    {
     "ename": "KeyboardInterrupt",
     "evalue": "",
     "output_type": "error",
     "traceback": [
      "\u001b[1;31m---------------------------------------------------------------------------\u001b[0m",
      "\u001b[1;31mKeyboardInterrupt\u001b[0m                         Traceback (most recent call last)",
      "\u001b[1;32m<ipython-input-5-5b36fc7be2cb>\u001b[0m in \u001b[0;36m<module>\u001b[1;34m\u001b[0m\n\u001b[0;32m     24\u001b[0m \u001b[1;32mfor\u001b[0m \u001b[0mC\u001b[0m \u001b[1;32min\u001b[0m \u001b[0mC_values\u001b[0m\u001b[1;33m:\u001b[0m\u001b[1;33m\u001b[0m\u001b[1;33m\u001b[0m\u001b[0m\n\u001b[0;32m     25\u001b[0m     \u001b[0msvc\u001b[0m \u001b[1;33m=\u001b[0m \u001b[0mSVC\u001b[0m\u001b[1;33m(\u001b[0m\u001b[0mC\u001b[0m\u001b[1;33m=\u001b[0m\u001b[0mC\u001b[0m\u001b[1;33m,\u001b[0m \u001b[0mkernel\u001b[0m\u001b[1;33m=\u001b[0m\u001b[1;34m'rbf'\u001b[0m\u001b[1;33m)\u001b[0m\u001b[1;33m\u001b[0m\u001b[1;33m\u001b[0m\u001b[0m\n\u001b[1;32m---> 26\u001b[1;33m     \u001b[0msvc\u001b[0m\u001b[1;33m.\u001b[0m\u001b[0mfit\u001b[0m\u001b[1;33m(\u001b[0m\u001b[0mX\u001b[0m\u001b[1;33m=\u001b[0m\u001b[0mX_train\u001b[0m\u001b[1;33m,\u001b[0m \u001b[0my\u001b[0m\u001b[1;33m=\u001b[0m\u001b[0my_train\u001b[0m\u001b[1;33m)\u001b[0m\u001b[1;33m\u001b[0m\u001b[1;33m\u001b[0m\u001b[0m\n\u001b[0m\u001b[0;32m     27\u001b[0m     \u001b[0mscores_svc_C_train\u001b[0m\u001b[1;33m.\u001b[0m\u001b[0mappend\u001b[0m\u001b[1;33m(\u001b[0m\u001b[0msvc\u001b[0m\u001b[1;33m.\u001b[0m\u001b[0mscore\u001b[0m\u001b[1;33m(\u001b[0m\u001b[0mX\u001b[0m\u001b[1;33m=\u001b[0m\u001b[0mX_train\u001b[0m\u001b[1;33m,\u001b[0m \u001b[0my\u001b[0m\u001b[1;33m=\u001b[0m\u001b[0my_train\u001b[0m\u001b[1;33m)\u001b[0m\u001b[1;33m)\u001b[0m\u001b[1;33m\u001b[0m\u001b[1;33m\u001b[0m\u001b[0m\n\u001b[0;32m     28\u001b[0m \u001b[1;33m\u001b[0m\u001b[0m\n",
      "\u001b[1;32m~\\Anaconda3\\lib\\site-packages\\sklearn\\svm\\base.py\u001b[0m in \u001b[0;36mfit\u001b[1;34m(self, X, y, sample_weight)\u001b[0m\n\u001b[0;32m    207\u001b[0m \u001b[1;33m\u001b[0m\u001b[0m\n\u001b[0;32m    208\u001b[0m         \u001b[0mseed\u001b[0m \u001b[1;33m=\u001b[0m \u001b[0mrnd\u001b[0m\u001b[1;33m.\u001b[0m\u001b[0mrandint\u001b[0m\u001b[1;33m(\u001b[0m\u001b[0mnp\u001b[0m\u001b[1;33m.\u001b[0m\u001b[0miinfo\u001b[0m\u001b[1;33m(\u001b[0m\u001b[1;34m'i'\u001b[0m\u001b[1;33m)\u001b[0m\u001b[1;33m.\u001b[0m\u001b[0mmax\u001b[0m\u001b[1;33m)\u001b[0m\u001b[1;33m\u001b[0m\u001b[1;33m\u001b[0m\u001b[0m\n\u001b[1;32m--> 209\u001b[1;33m         \u001b[0mfit\u001b[0m\u001b[1;33m(\u001b[0m\u001b[0mX\u001b[0m\u001b[1;33m,\u001b[0m \u001b[0my\u001b[0m\u001b[1;33m,\u001b[0m \u001b[0msample_weight\u001b[0m\u001b[1;33m,\u001b[0m \u001b[0msolver_type\u001b[0m\u001b[1;33m,\u001b[0m \u001b[0mkernel\u001b[0m\u001b[1;33m,\u001b[0m \u001b[0mrandom_seed\u001b[0m\u001b[1;33m=\u001b[0m\u001b[0mseed\u001b[0m\u001b[1;33m)\u001b[0m\u001b[1;33m\u001b[0m\u001b[1;33m\u001b[0m\u001b[0m\n\u001b[0m\u001b[0;32m    210\u001b[0m         \u001b[1;31m# see comment on the other call to np.iinfo in this file\u001b[0m\u001b[1;33m\u001b[0m\u001b[1;33m\u001b[0m\u001b[1;33m\u001b[0m\u001b[0m\n\u001b[0;32m    211\u001b[0m \u001b[1;33m\u001b[0m\u001b[0m\n",
      "\u001b[1;32m~\\Anaconda3\\lib\\site-packages\\sklearn\\svm\\base.py\u001b[0m in \u001b[0;36m_dense_fit\u001b[1;34m(self, X, y, sample_weight, solver_type, kernel, random_seed)\u001b[0m\n\u001b[0;32m    266\u001b[0m                 \u001b[0mcache_size\u001b[0m\u001b[1;33m=\u001b[0m\u001b[0mself\u001b[0m\u001b[1;33m.\u001b[0m\u001b[0mcache_size\u001b[0m\u001b[1;33m,\u001b[0m \u001b[0mcoef0\u001b[0m\u001b[1;33m=\u001b[0m\u001b[0mself\u001b[0m\u001b[1;33m.\u001b[0m\u001b[0mcoef0\u001b[0m\u001b[1;33m,\u001b[0m\u001b[1;33m\u001b[0m\u001b[1;33m\u001b[0m\u001b[0m\n\u001b[0;32m    267\u001b[0m                 \u001b[0mgamma\u001b[0m\u001b[1;33m=\u001b[0m\u001b[0mself\u001b[0m\u001b[1;33m.\u001b[0m\u001b[0m_gamma\u001b[0m\u001b[1;33m,\u001b[0m \u001b[0mepsilon\u001b[0m\u001b[1;33m=\u001b[0m\u001b[0mself\u001b[0m\u001b[1;33m.\u001b[0m\u001b[0mepsilon\u001b[0m\u001b[1;33m,\u001b[0m\u001b[1;33m\u001b[0m\u001b[1;33m\u001b[0m\u001b[0m\n\u001b[1;32m--> 268\u001b[1;33m                 max_iter=self.max_iter, random_seed=random_seed)\n\u001b[0m\u001b[0;32m    269\u001b[0m \u001b[1;33m\u001b[0m\u001b[0m\n\u001b[0;32m    270\u001b[0m         \u001b[0mself\u001b[0m\u001b[1;33m.\u001b[0m\u001b[0m_warn_from_fit_status\u001b[0m\u001b[1;33m(\u001b[0m\u001b[1;33m)\u001b[0m\u001b[1;33m\u001b[0m\u001b[1;33m\u001b[0m\u001b[0m\n",
      "\u001b[1;31mKeyboardInterrupt\u001b[0m: "
     ]
    }
   ],
   "source": [
    "#Warning: takes long time to load \n",
    "import matplotlib.pyplot as plt \n",
    "import numpy as np \n",
    "import seaborn as sns \n",
    "from sklearn.model_selection import train_test_split \n",
    "from sklearn.svm import SVC \n",
    "%matplotlib inline \n",
    "\n",
    "#accuracy of testing SVC-rbf model on training set \n",
    "C_values = np.arange(5, 35, 5) #specific C values to test \n",
    "gamma_values = np.arange(100, 1100, 100) #specific gamma values to test \n",
    "# score_training = np.empty(shape=(C_values.size, gamma_values.size)) #matrix for score heatmap (training set)  \n",
    "# score_testing = np.empty(shape=(C_values.size, gamma_values.size)) #matrix for score heatmap (testing set)\n",
    "\n",
    "#in case user does not append values in sorted order above \n",
    "np.sort(a=C_values, axis=None)\n",
    "np.sort(a=gamma_values, axis=None)\n",
    "\n",
    "print(\"C_values: {}\".format(C_values)) \n",
    "print(\"gamma_values: {}\".format(gamma_values)) \n",
    "\n",
    "# computing accuracy against C (gamma='default'); predicted on train data \n",
    "scores_svc_C_train = []\n",
    "for C in C_values: \n",
    "    svc = SVC(C=C, kernel='rbf')\n",
    "    svc.fit(X=X_train, y=y_train)\n",
    "    scores_svc_C_train.append(svc.score(X=X_train, y=y_train)) \n",
    "    \n",
    "print(\"scores_svc_C_train: \\n{}\".format(scores_svc_C_train))\n",
    "\n",
    "# computing accuracy against C (gamma='default'); predicted on test data \n",
    "# scores_svc_C_test = []\n",
    "# for C in C_values: \n",
    "#     svc = SVC(C=C, kernel='rbf')\n",
    "#     svc.fit(X=X_train, y=y_train)\n",
    "#     scores_svc_C_test.append(svc.score(X=X_test, y=y_test))\n",
    "    \n",
    "# print(\"scores_svc_C_test: \\n{}\".format(scores_svc_C_test)) \n",
    "\n",
    "#computing accuracy against gamma (C=1); predicted on train data \n",
    "scores_svc_gamma_train = []\n",
    "for gamma in gamma_values: \n",
    "    svc = SVC(gamma=gamma, kernel='rbf')\n",
    "    svc.fit(X=X_train, y=y_train)\n",
    "    scores_svc_gamma_train.append(svc.score(X=X_train, y=y_train))\n",
    "\n",
    "print(\"scores_svc_gamma_train: \\n{}\".format(scores_svc_gamma_train))\n",
    "\n",
    "#computing accuracy against gamma (C=1); predicted on test data \n",
    "# scores_svc_gamma_test = []\n",
    "# for gamma in gamma_values: \n",
    "#     svc = SVC(gamma=gamma, kernel='rbf')\n",
    "#     svc.fit(X=X_train, y=y_train)\n",
    "#     scores_svc_gamma_test.append(svc.score(X=X_test, y=y_test))\n",
    "\n",
    "# print(\"scores_svc_gamma_test: \\n{}\".format(scores_svc_gamma_test))\n",
    "              \n",
    "#setting up for plots \n",
    "sns.set_style(style='darkgrid') \n",
    "fig, (ax1, ax2) = plt.subplots(nrows=1, ncols=2, figsize=(12, 12))\n",
    "\n",
    "#plotting accuracy vs. C (predicted on train set)\n",
    "sns.lineplot(x=C_values, y=scores_svc_C_train, color='blue', marker='o', ax=ax1)\n",
    "ax1.set_title(label='Accuracy of SVC vs. C', fontsize=24)\n",
    "ax1.set_xlabel(xlabel='C', fontsize=18)\n",
    "ax1.set_ylabel(ylabel='Score', fontsize=18)\n",
    "\n",
    "# #plotting accuracy vs. C (predicted on test set)\n",
    "# sns.lineplot(x=C_values, y=scores_svc_C_test, color='green', marker='o', ax=ax1)\n",
    "# ax1.legend(labels=['Train Set', 'Test Set'], loc='lower right')\n",
    "\n",
    "#plotting accuracy vs. Gamma (predicted on test set) \n",
    "sns.lineplot(x=gamma_values, y=scores_svc_gamma_train, color='blue', marker='s', ax=ax2)\n",
    "ax2.set_title(label='Accuracy of SVC vs.Gamma', fontsize=24)\n",
    "ax2.set_xlabel(xlabel='Gamma', fontsize=18)\n",
    "ax2.set_ylabel(ylabel='Score', fontsize=18)\n",
    "\n",
    "# #plotting accuracy vs. Gamma (predicted on test set)\n",
    "# sns.lineplot(x=gamma_values, y=scores_svc_gamma_test, color='green', marker='s', ax=ax2)\n",
    "# ax2.legend(labels=['Train Set', 'Test Set'], loc='lower right')\n",
    "\n",
    "plt.grid(b=True, which='major', axis='both')\n",
    "plt.show()"
   ]
  },
  {
   "cell_type": "code",
   "execution_count": 6,
   "metadata": {},
   "outputs": [],
   "source": [
    "from sklearn.svm import SVC\n",
    "from sklearn.pipeline import make_pipeline\n",
    "\n",
    "svc = SVC(kernel='rbf', class_weight='balanced')\n",
    "model = make_pipeline(svc)"
   ]
  },
  {
   "cell_type": "code",
   "execution_count": null,
   "metadata": {},
   "outputs": [
    {
     "name": "stderr",
     "output_type": "stream",
     "text": [
      "C:\\Users\\Paranoid_Android\\Anaconda3\\lib\\site-packages\\sklearn\\model_selection\\_split.py:1978: FutureWarning: The default value of cv will change from 3 to 5 in version 0.22. Specify it explicitly to silence this warning.\n",
      "  warnings.warn(CV_WARNING, FutureWarning)\n"
     ]
    }
   ],
   "source": [
    "from sklearn.model_selection import GridSearchCV\n",
    "param_grid = {'svc__C': [5, 10, 15, 20, 30, 35],\n",
    "              'svc__gamma': [300, 400, 500, 600, 700, 800, 900, 1000]}\n",
    "grid = GridSearchCV(model, param_grid)\n",
    "\n",
    "%time grid.fit(X_train, y_train)\n",
    "print(grid.best_params_)"
   ]
  },
  {
   "cell_type": "code",
   "execution_count": null,
   "metadata": {},
   "outputs": [],
   "source": []
  }
 ],
 "metadata": {
  "kernelspec": {
   "display_name": "Python 3",
   "language": "python",
   "name": "python3"
  },
  "language_info": {
   "codemirror_mode": {
    "name": "ipython",
    "version": 3
   },
   "file_extension": ".py",
   "mimetype": "text/x-python",
   "name": "python",
   "nbconvert_exporter": "python",
   "pygments_lexer": "ipython3",
   "version": "3.7.4"
  }
 },
 "nbformat": 4,
 "nbformat_minor": 4
}
