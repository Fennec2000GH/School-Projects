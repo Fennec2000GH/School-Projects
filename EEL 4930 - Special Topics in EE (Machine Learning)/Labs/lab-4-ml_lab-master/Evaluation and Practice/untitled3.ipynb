{
 "cells": [
  {
   "cell_type": "markdown",
   "metadata": {},
   "source": [
    "# Lab 4 - Final Pipeline for ASL Data Classification\n",
    "\n",
    "This is a project group assignment.\n",
    "\n",
    "**Due: Friday, April 10, 11:59 PM**\n",
    "\n",
    "## Grading Rubric\n",
    "\n",
    "1. **Problem 1 (10 pts):** you have included a screenshot of your Zoom meeting/s.\n",
    "    \n",
    "2. **Problem 2 (90 pts):** you have finalized your end-to-end machine learning pipeline, have included a set of experiments to evaluate the performance of your model and included a discussion of your results.\n",
    "\n",
    "**Total: 100 pts**"
   ]
  },
  {
   "cell_type": "code",
   "execution_count": 1,
   "metadata": {},
   "outputs": [],
   "source": [
    "# Create custom dataset. Idea supplied by Mat Cook\n",
    "\n",
    "from __future__ import print_function, division\n",
    "import os\n",
    "import torch\n",
    "import pandas as pd\n",
    "from skimage import io, transform\n",
    "import numpy as np\n",
    "import matplotlib.pyplot as plt\n",
    "from torch.utils.data import Dataset, DataLoader\n",
    "from torchvision import transforms, utils\n",
    "\n",
    "# Ignore warnings\n",
    "import warnings\n",
    "warnings.filterwarnings(\"ignore\")\n",
    "\n",
    "plt.ion()   # interactive mode"
   ]
  },
  {
   "cell_type": "code",
   "execution_count": null,
   "metadata": {},
   "outputs": [],
   "source": []
  },
  {
   "cell_type": "code",
   "execution_count": null,
   "metadata": {},
   "outputs": [],
   "source": []
  },
  {
   "cell_type": "code",
   "execution_count": null,
   "metadata": {},
   "outputs": [],
   "source": []
  },
  {
   "cell_type": "code",
   "execution_count": null,
   "metadata": {},
   "outputs": [],
   "source": []
  },
  {
   "cell_type": "code",
   "execution_count": null,
   "metadata": {},
   "outputs": [],
   "source": []
  },
  {
   "cell_type": "code",
   "execution_count": null,
   "metadata": {},
   "outputs": [],
   "source": []
  },
  {
   "cell_type": "code",
   "execution_count": 2,
   "metadata": {},
   "outputs": [],
   "source": [
    "from matplotlib import pyplot as plt\n",
    "import numpy as np\n",
    "import collections\n",
    "import numpy as np\n",
    "from skimage.color import rgb2gray\n",
    "\n",
    "import torch\n",
    "import torch.nn as nn\n",
    "import torch.nn.functional as F\n",
    "import torch.optim as optim\n",
    "from torchvision import transforms\n"
   ]
  },
  {
   "cell_type": "code",
   "execution_count": 3,
   "metadata": {},
   "outputs": [],
   "source": [
    "numpy_data = np.load('train_data.npy')\n",
    "numpy_target = np.load('train_labels.npy')"
   ]
  },
  {
   "cell_type": "code",
   "execution_count": 4,
   "metadata": {},
   "outputs": [],
   "source": [
    "from sklearn.preprocessing import LabelEncoder\n",
    "le = LabelEncoder()\n",
    "le.fit(numpy_target)\n",
    "target = le.transform(numpy_target)\n",
    "target  = target + 1"
   ]
  },
  {
   "cell_type": "code",
   "execution_count": 5,
   "metadata": {},
   "outputs": [],
   "source": [
    "# Creat Custom dataset. Idea supplied by Dr. Silva\n",
    "class MyDataset(Dataset):\n",
    "    def __init__(self, data, target, transform=None):\n",
    "        self.data = torch.from_numpy(data).float()\n",
    "        self.target = torch.from_numpy(target).long()\n",
    "        self.transform = transform\n",
    "        \n",
    "    def __getitem__(self, index):\n",
    "        x = self.data[index]\n",
    "        y = self.target[index]\n",
    "        \n",
    "        if self.transform:\n",
    "            x = self.transform(x)\n",
    "        \n",
    "        return x, y\n",
    "    \n",
    "    def __len__(self):\n",
    "        return len(self.data)"
   ]
  },
  {
   "cell_type": "code",
   "execution_count": 6,
   "metadata": {},
   "outputs": [
    {
     "data": {
      "text/plain": [
       "<torch._C.Generator at 0x234bf562170>"
      ]
     },
     "execution_count": 6,
     "metadata": {},
     "output_type": "execute_result"
    }
   ],
   "source": [
    "n_epochs = 3\n",
    "batch_size_train = 64\n",
    "batch_size_test = 1000\n",
    "learning_rate = 0.01\n",
    "momentum = 0.5\n",
    "log_interval = 10\n",
    "\n",
    "random_seed = 1\n",
    "torch.backends.cudnn.enabled = False\n",
    "torch.manual_seed(random_seed)"
   ]
  },
  {
   "cell_type": "code",
   "execution_count": 7,
   "metadata": {},
   "outputs": [],
   "source": [
    "dataset = MyDataset(numpy_data, target)\n",
    "loader = DataLoader(\n",
    "    dataset,\n",
    "    batch_size=64,\n",
    "    shuffle=True,\n",
    "    num_workers=2,\n",
    "    pin_memory=torch.cuda.is_available()\n",
    ")"
   ]
  },
  {
   "cell_type": "code",
   "execution_count": 8,
   "metadata": {},
   "outputs": [
    {
     "ename": "RuntimeError",
     "evalue": "DataLoader worker (pid(s) 10932, 1276) exited unexpectedly",
     "output_type": "error",
     "traceback": [
      "\u001b[1;31m---------------------------------------------------------------------------\u001b[0m",
      "\u001b[1;31mEmpty\u001b[0m                                     Traceback (most recent call last)",
      "\u001b[1;32m~\\Anaconda3\\lib\\site-packages\\torch\\utils\\data\\dataloader.py\u001b[0m in \u001b[0;36m_try_get_data\u001b[1;34m(self, timeout)\u001b[0m\n\u001b[0;32m    760\u001b[0m         \u001b[1;32mtry\u001b[0m\u001b[1;33m:\u001b[0m\u001b[1;33m\u001b[0m\u001b[1;33m\u001b[0m\u001b[0m\n\u001b[1;32m--> 761\u001b[1;33m             \u001b[0mdata\u001b[0m \u001b[1;33m=\u001b[0m \u001b[0mself\u001b[0m\u001b[1;33m.\u001b[0m\u001b[0m_data_queue\u001b[0m\u001b[1;33m.\u001b[0m\u001b[0mget\u001b[0m\u001b[1;33m(\u001b[0m\u001b[0mtimeout\u001b[0m\u001b[1;33m=\u001b[0m\u001b[0mtimeout\u001b[0m\u001b[1;33m)\u001b[0m\u001b[1;33m\u001b[0m\u001b[1;33m\u001b[0m\u001b[0m\n\u001b[0m\u001b[0;32m    762\u001b[0m             \u001b[1;32mreturn\u001b[0m \u001b[1;33m(\u001b[0m\u001b[1;32mTrue\u001b[0m\u001b[1;33m,\u001b[0m \u001b[0mdata\u001b[0m\u001b[1;33m)\u001b[0m\u001b[1;33m\u001b[0m\u001b[1;33m\u001b[0m\u001b[0m\n",
      "\u001b[1;32m~\\Anaconda3\\lib\\queue.py\u001b[0m in \u001b[0;36mget\u001b[1;34m(self, block, timeout)\u001b[0m\n\u001b[0;32m    177\u001b[0m                     \u001b[1;32mif\u001b[0m \u001b[0mremaining\u001b[0m \u001b[1;33m<=\u001b[0m \u001b[1;36m0.0\u001b[0m\u001b[1;33m:\u001b[0m\u001b[1;33m\u001b[0m\u001b[1;33m\u001b[0m\u001b[0m\n\u001b[1;32m--> 178\u001b[1;33m                         \u001b[1;32mraise\u001b[0m \u001b[0mEmpty\u001b[0m\u001b[1;33m\u001b[0m\u001b[1;33m\u001b[0m\u001b[0m\n\u001b[0m\u001b[0;32m    179\u001b[0m                     \u001b[0mself\u001b[0m\u001b[1;33m.\u001b[0m\u001b[0mnot_empty\u001b[0m\u001b[1;33m.\u001b[0m\u001b[0mwait\u001b[0m\u001b[1;33m(\u001b[0m\u001b[0mremaining\u001b[0m\u001b[1;33m)\u001b[0m\u001b[1;33m\u001b[0m\u001b[1;33m\u001b[0m\u001b[0m\n",
      "\u001b[1;31mEmpty\u001b[0m: ",
      "\nDuring handling of the above exception, another exception occurred:\n",
      "\u001b[1;31mRuntimeError\u001b[0m                              Traceback (most recent call last)",
      "\u001b[1;32m<ipython-input-8-00b513293839>\u001b[0m in \u001b[0;36m<module>\u001b[1;34m\u001b[0m\n\u001b[1;32m----> 1\u001b[1;33m \u001b[1;32mfor\u001b[0m \u001b[0mbatch_idx\u001b[0m\u001b[1;33m,\u001b[0m \u001b[1;33m(\u001b[0m\u001b[0mdata\u001b[0m\u001b[1;33m,\u001b[0m \u001b[0mtarget\u001b[0m\u001b[1;33m)\u001b[0m \u001b[1;32min\u001b[0m \u001b[0menumerate\u001b[0m\u001b[1;33m(\u001b[0m\u001b[0mloader\u001b[0m\u001b[1;33m)\u001b[0m\u001b[1;33m:\u001b[0m\u001b[1;33m\u001b[0m\u001b[1;33m\u001b[0m\u001b[0m\n\u001b[0m\u001b[0;32m      2\u001b[0m     print('Batch idx {}, data shape {}, target shape {}'.format(\n\u001b[0;32m      3\u001b[0m         batch_idx, data.shape, target.shape))\n",
      "\u001b[1;32m~\\Anaconda3\\lib\\site-packages\\torch\\utils\\data\\dataloader.py\u001b[0m in \u001b[0;36m__next__\u001b[1;34m(self)\u001b[0m\n\u001b[0;32m    343\u001b[0m \u001b[1;33m\u001b[0m\u001b[0m\n\u001b[0;32m    344\u001b[0m     \u001b[1;32mdef\u001b[0m \u001b[0m__next__\u001b[0m\u001b[1;33m(\u001b[0m\u001b[0mself\u001b[0m\u001b[1;33m)\u001b[0m\u001b[1;33m:\u001b[0m\u001b[1;33m\u001b[0m\u001b[1;33m\u001b[0m\u001b[0m\n\u001b[1;32m--> 345\u001b[1;33m         \u001b[0mdata\u001b[0m \u001b[1;33m=\u001b[0m \u001b[0mself\u001b[0m\u001b[1;33m.\u001b[0m\u001b[0m_next_data\u001b[0m\u001b[1;33m(\u001b[0m\u001b[1;33m)\u001b[0m\u001b[1;33m\u001b[0m\u001b[1;33m\u001b[0m\u001b[0m\n\u001b[0m\u001b[0;32m    346\u001b[0m         \u001b[0mself\u001b[0m\u001b[1;33m.\u001b[0m\u001b[0m_num_yielded\u001b[0m \u001b[1;33m+=\u001b[0m \u001b[1;36m1\u001b[0m\u001b[1;33m\u001b[0m\u001b[1;33m\u001b[0m\u001b[0m\n\u001b[0;32m    347\u001b[0m         \u001b[1;32mif\u001b[0m \u001b[0mself\u001b[0m\u001b[1;33m.\u001b[0m\u001b[0m_dataset_kind\u001b[0m \u001b[1;33m==\u001b[0m \u001b[0m_DatasetKind\u001b[0m\u001b[1;33m.\u001b[0m\u001b[0mIterable\u001b[0m \u001b[1;32mand\u001b[0m\u001b[0;31m \u001b[0m\u001b[0;31m\\\u001b[0m\u001b[1;33m\u001b[0m\u001b[1;33m\u001b[0m\u001b[0m\n",
      "\u001b[1;32m~\\Anaconda3\\lib\\site-packages\\torch\\utils\\data\\dataloader.py\u001b[0m in \u001b[0;36m_next_data\u001b[1;34m(self)\u001b[0m\n\u001b[0;32m    839\u001b[0m \u001b[1;33m\u001b[0m\u001b[0m\n\u001b[0;32m    840\u001b[0m             \u001b[1;32massert\u001b[0m \u001b[1;32mnot\u001b[0m \u001b[0mself\u001b[0m\u001b[1;33m.\u001b[0m\u001b[0m_shutdown\u001b[0m \u001b[1;32mand\u001b[0m \u001b[0mself\u001b[0m\u001b[1;33m.\u001b[0m\u001b[0m_tasks_outstanding\u001b[0m \u001b[1;33m>\u001b[0m \u001b[1;36m0\u001b[0m\u001b[1;33m\u001b[0m\u001b[1;33m\u001b[0m\u001b[0m\n\u001b[1;32m--> 841\u001b[1;33m             \u001b[0midx\u001b[0m\u001b[1;33m,\u001b[0m \u001b[0mdata\u001b[0m \u001b[1;33m=\u001b[0m \u001b[0mself\u001b[0m\u001b[1;33m.\u001b[0m\u001b[0m_get_data\u001b[0m\u001b[1;33m(\u001b[0m\u001b[1;33m)\u001b[0m\u001b[1;33m\u001b[0m\u001b[1;33m\u001b[0m\u001b[0m\n\u001b[0m\u001b[0;32m    842\u001b[0m             \u001b[0mself\u001b[0m\u001b[1;33m.\u001b[0m\u001b[0m_tasks_outstanding\u001b[0m \u001b[1;33m-=\u001b[0m \u001b[1;36m1\u001b[0m\u001b[1;33m\u001b[0m\u001b[1;33m\u001b[0m\u001b[0m\n\u001b[0;32m    843\u001b[0m \u001b[1;33m\u001b[0m\u001b[0m\n",
      "\u001b[1;32m~\\Anaconda3\\lib\\site-packages\\torch\\utils\\data\\dataloader.py\u001b[0m in \u001b[0;36m_get_data\u001b[1;34m(self)\u001b[0m\n\u001b[0;32m    796\u001b[0m         \u001b[1;32melif\u001b[0m \u001b[0mself\u001b[0m\u001b[1;33m.\u001b[0m\u001b[0m_pin_memory\u001b[0m\u001b[1;33m:\u001b[0m\u001b[1;33m\u001b[0m\u001b[1;33m\u001b[0m\u001b[0m\n\u001b[0;32m    797\u001b[0m             \u001b[1;32mwhile\u001b[0m \u001b[0mself\u001b[0m\u001b[1;33m.\u001b[0m\u001b[0m_pin_memory_thread\u001b[0m\u001b[1;33m.\u001b[0m\u001b[0mis_alive\u001b[0m\u001b[1;33m(\u001b[0m\u001b[1;33m)\u001b[0m\u001b[1;33m:\u001b[0m\u001b[1;33m\u001b[0m\u001b[1;33m\u001b[0m\u001b[0m\n\u001b[1;32m--> 798\u001b[1;33m                 \u001b[0msuccess\u001b[0m\u001b[1;33m,\u001b[0m \u001b[0mdata\u001b[0m \u001b[1;33m=\u001b[0m \u001b[0mself\u001b[0m\u001b[1;33m.\u001b[0m\u001b[0m_try_get_data\u001b[0m\u001b[1;33m(\u001b[0m\u001b[1;33m)\u001b[0m\u001b[1;33m\u001b[0m\u001b[1;33m\u001b[0m\u001b[0m\n\u001b[0m\u001b[0;32m    799\u001b[0m                 \u001b[1;32mif\u001b[0m \u001b[0msuccess\u001b[0m\u001b[1;33m:\u001b[0m\u001b[1;33m\u001b[0m\u001b[1;33m\u001b[0m\u001b[0m\n\u001b[0;32m    800\u001b[0m                     \u001b[1;32mreturn\u001b[0m \u001b[0mdata\u001b[0m\u001b[1;33m\u001b[0m\u001b[1;33m\u001b[0m\u001b[0m\n",
      "\u001b[1;32m~\\Anaconda3\\lib\\site-packages\\torch\\utils\\data\\dataloader.py\u001b[0m in \u001b[0;36m_try_get_data\u001b[1;34m(self, timeout)\u001b[0m\n\u001b[0;32m    772\u001b[0m             \u001b[1;32mif\u001b[0m \u001b[0mlen\u001b[0m\u001b[1;33m(\u001b[0m\u001b[0mfailed_workers\u001b[0m\u001b[1;33m)\u001b[0m \u001b[1;33m>\u001b[0m \u001b[1;36m0\u001b[0m\u001b[1;33m:\u001b[0m\u001b[1;33m\u001b[0m\u001b[1;33m\u001b[0m\u001b[0m\n\u001b[0;32m    773\u001b[0m                 \u001b[0mpids_str\u001b[0m \u001b[1;33m=\u001b[0m \u001b[1;34m', '\u001b[0m\u001b[1;33m.\u001b[0m\u001b[0mjoin\u001b[0m\u001b[1;33m(\u001b[0m\u001b[0mstr\u001b[0m\u001b[1;33m(\u001b[0m\u001b[0mw\u001b[0m\u001b[1;33m.\u001b[0m\u001b[0mpid\u001b[0m\u001b[1;33m)\u001b[0m \u001b[1;32mfor\u001b[0m \u001b[0mw\u001b[0m \u001b[1;32min\u001b[0m \u001b[0mfailed_workers\u001b[0m\u001b[1;33m)\u001b[0m\u001b[1;33m\u001b[0m\u001b[1;33m\u001b[0m\u001b[0m\n\u001b[1;32m--> 774\u001b[1;33m                 \u001b[1;32mraise\u001b[0m \u001b[0mRuntimeError\u001b[0m\u001b[1;33m(\u001b[0m\u001b[1;34m'DataLoader worker (pid(s) {}) exited unexpectedly'\u001b[0m\u001b[1;33m.\u001b[0m\u001b[0mformat\u001b[0m\u001b[1;33m(\u001b[0m\u001b[0mpids_str\u001b[0m\u001b[1;33m)\u001b[0m\u001b[1;33m)\u001b[0m\u001b[1;33m\u001b[0m\u001b[1;33m\u001b[0m\u001b[0m\n\u001b[0m\u001b[0;32m    775\u001b[0m             \u001b[1;32mif\u001b[0m \u001b[0misinstance\u001b[0m\u001b[1;33m(\u001b[0m\u001b[0me\u001b[0m\u001b[1;33m,\u001b[0m \u001b[0mqueue\u001b[0m\u001b[1;33m.\u001b[0m\u001b[0mEmpty\u001b[0m\u001b[1;33m)\u001b[0m\u001b[1;33m:\u001b[0m\u001b[1;33m\u001b[0m\u001b[1;33m\u001b[0m\u001b[0m\n\u001b[0;32m    776\u001b[0m                 \u001b[1;32mreturn\u001b[0m \u001b[1;33m(\u001b[0m\u001b[1;32mFalse\u001b[0m\u001b[1;33m,\u001b[0m \u001b[1;32mNone\u001b[0m\u001b[1;33m)\u001b[0m\u001b[1;33m\u001b[0m\u001b[1;33m\u001b[0m\u001b[0m\n",
      "\u001b[1;31mRuntimeError\u001b[0m: DataLoader worker (pid(s) 10932, 1276) exited unexpectedly"
     ]
    }
   ],
   "source": [
    "for batch_idx, (data, target) in enumerate(loader):\n",
    "    print('Batch idx {}, data shape {}, target shape {}'.format(\n",
    "        batch_idx, data.shape, target.shape))"
   ]
  },
  {
   "cell_type": "code",
   "execution_count": null,
   "metadata": {},
   "outputs": [],
   "source": [
    "# # Vectorize origional data so other preprocessing techniques can be used. \n",
    "# Xtrain2 = []\n",
    "# for k in range(len(Xtrain)):   \n",
    "#         X_train1 = rgb2gray(Xtrain[k,:,:,:])\n",
    "#         Xtrain2 += [X_train1.ravel()]\n",
    "# Xtrain2 = np.array(Xtrain2)\n",
    "\n",
    "# Xtrain2.shape, Xtrain.shape, len(Xtrain)"
   ]
  },
  {
   "cell_type": "code",
   "execution_count": 9,
   "metadata": {},
   "outputs": [
    {
     "ename": "NameError",
     "evalue": "name 'Xtrain' is not defined",
     "output_type": "error",
     "traceback": [
      "\u001b[1;31m---------------------------------------------------------------------------\u001b[0m",
      "\u001b[1;31mNameError\u001b[0m                                 Traceback (most recent call last)",
      "\u001b[1;32m<ipython-input-9-2f222c820d7d>\u001b[0m in \u001b[0;36m<module>\u001b[1;34m\u001b[0m\n\u001b[0;32m      1\u001b[0m \u001b[1;32mfrom\u001b[0m \u001b[0msklearn\u001b[0m\u001b[1;33m.\u001b[0m\u001b[0mmodel_selection\u001b[0m \u001b[1;32mimport\u001b[0m \u001b[0mtrain_test_split\u001b[0m\u001b[1;33m\u001b[0m\u001b[1;33m\u001b[0m\u001b[0m\n\u001b[0;32m      2\u001b[0m \u001b[1;33m\u001b[0m\u001b[0m\n\u001b[1;32m----> 3\u001b[1;33m \u001b[0mX_train_norm\u001b[0m \u001b[1;33m=\u001b[0m \u001b[0mXtrain\u001b[0m\u001b[1;33m/\u001b[0m\u001b[1;36m255\u001b[0m\u001b[1;33m\u001b[0m\u001b[1;33m\u001b[0m\u001b[0m\n\u001b[0m\u001b[0;32m      4\u001b[0m \u001b[1;33m\u001b[0m\u001b[0m\n\u001b[0;32m      5\u001b[0m \u001b[0mX_train\u001b[0m\u001b[1;33m,\u001b[0m \u001b[0mX_test\u001b[0m\u001b[1;33m,\u001b[0m \u001b[0my_train\u001b[0m\u001b[1;33m,\u001b[0m \u001b[0my_test\u001b[0m \u001b[1;33m=\u001b[0m \u001b[0mtrain_test_split\u001b[0m\u001b[1;33m(\u001b[0m\u001b[0mX_train_norm\u001b[0m\u001b[1;33m,\u001b[0m \u001b[0mytrain\u001b[0m\u001b[1;33m,\u001b[0m \u001b[0mtest_size\u001b[0m\u001b[1;33m=\u001b[0m\u001b[1;36m0.2\u001b[0m\u001b[1;33m)\u001b[0m\u001b[1;33m\u001b[0m\u001b[1;33m\u001b[0m\u001b[0m\n",
      "\u001b[1;31mNameError\u001b[0m: name 'Xtrain' is not defined"
     ]
    }
   ],
   "source": [
    "from sklearn.model_selection import train_test_split\n",
    "\n",
    "X_train_norm = Xtrain/255\n",
    "\n",
    "X_train, X_test, y_train, y_test = train_test_split(X_train_norm, ytrain, test_size=0.2)\n",
    "X_train.shape, X_test.shape, y_train.shape, y_test.shape"
   ]
  },
  {
   "cell_type": "code",
   "execution_count": 10,
   "metadata": {},
   "outputs": [
    {
     "ename": "NameError",
     "evalue": "name 'X_train' is not defined",
     "output_type": "error",
     "traceback": [
      "\u001b[1;31m---------------------------------------------------------------------------\u001b[0m",
      "\u001b[1;31mNameError\u001b[0m                                 Traceback (most recent call last)",
      "\u001b[1;32m<ipython-input-10-fd2f787205c2>\u001b[0m in \u001b[0;36m<module>\u001b[1;34m\u001b[0m\n\u001b[1;32m----> 1\u001b[1;33m \u001b[0mtransp\u001b[0m \u001b[1;33m=\u001b[0m \u001b[0mX_train\u001b[0m\u001b[1;33m.\u001b[0m\u001b[0mtranspose\u001b[0m\u001b[1;33m(\u001b[0m\u001b[1;36m0\u001b[0m\u001b[1;33m,\u001b[0m\u001b[1;36m3\u001b[0m\u001b[1;33m,\u001b[0m\u001b[1;36m2\u001b[0m\u001b[1;33m,\u001b[0m\u001b[1;36m1\u001b[0m\u001b[1;33m)\u001b[0m\u001b[1;33m\u001b[0m\u001b[1;33m\u001b[0m\u001b[0m\n\u001b[0m\u001b[0;32m      2\u001b[0m \u001b[0mx_train\u001b[0m \u001b[1;33m=\u001b[0m \u001b[0mtorch\u001b[0m\u001b[1;33m.\u001b[0m\u001b[0mtensor\u001b[0m\u001b[1;33m(\u001b[0m\u001b[0mtransp\u001b[0m\u001b[1;33m)\u001b[0m\u001b[1;33m\u001b[0m\u001b[1;33m\u001b[0m\u001b[0m\n\u001b[0;32m      3\u001b[0m \u001b[0mtransp_test\u001b[0m \u001b[1;33m=\u001b[0m \u001b[0mX_test\u001b[0m\u001b[1;33m.\u001b[0m\u001b[0mtranspose\u001b[0m\u001b[1;33m(\u001b[0m\u001b[1;36m0\u001b[0m\u001b[1;33m,\u001b[0m\u001b[1;36m3\u001b[0m\u001b[1;33m,\u001b[0m\u001b[1;36m2\u001b[0m\u001b[1;33m,\u001b[0m\u001b[1;36m1\u001b[0m\u001b[1;33m)\u001b[0m\u001b[1;33m\u001b[0m\u001b[1;33m\u001b[0m\u001b[0m\n\u001b[0;32m      4\u001b[0m \u001b[0mx_test\u001b[0m \u001b[1;33m=\u001b[0m \u001b[0mtorch\u001b[0m\u001b[1;33m.\u001b[0m\u001b[0mtensor\u001b[0m\u001b[1;33m(\u001b[0m\u001b[0mtransp_test\u001b[0m\u001b[1;33m)\u001b[0m\u001b[1;33m\u001b[0m\u001b[1;33m\u001b[0m\u001b[0m\n\u001b[0;32m      5\u001b[0m \u001b[1;33m\u001b[0m\u001b[0m\n",
      "\u001b[1;31mNameError\u001b[0m: name 'X_train' is not defined"
     ]
    }
   ],
   "source": [
    "transp = X_train.transpose(0,3,2,1)\n",
    "x_train = torch.tensor(transp)\n",
    "transp_test = X_test.transpose(0,3,2,1)\n",
    "x_test = torch.tensor(transp_test)\n",
    "\n",
    "x_train.shape, x_test.shape"
   ]
  },
  {
   "cell_type": "code",
   "execution_count": null,
   "metadata": {},
   "outputs": [],
   "source": [
    "# # Loading MNIST data set\n",
    "# image_size = 28 # width and length\n",
    "# no_of_different_labels = 10 #  i.e. 0, 1, 2, 3, ..., 9\n",
    "# image_pixels = image_size * image_size\n",
    "\n",
    "# # Loading Training Samples\n",
    "# train_data = np.loadtxt(\"sign_mnist_train.csv\", delimiter=\",\")\n",
    "# X_train = train_data[:,1:]\n",
    "# y_train = train_data[:,0]\n",
    "\n",
    "# # Loading Test Samples\n",
    "# test_data = np.loadtxt(\"sign_mnist_test.csv\", delimiter=\",\") \n",
    "# X_test = test_data[:,1:]\n",
    "# y_test = test_data[:,0]\n",
    "\n",
    "# X_train.shape, y_train.shape, X_test.shape, y_test.shape"
   ]
  },
  {
   "cell_type": "code",
   "execution_count": null,
   "metadata": {},
   "outputs": [],
   "source": [
    "# from sklearn.neural_network import MLPClassifier\n",
    "# from sklearn.model_selection import learning_curve\n",
    "# from sklearn.model_selection import ShuffleSplit\n"
   ]
  },
  {
   "cell_type": "code",
   "execution_count": null,
   "metadata": {},
   "outputs": [],
   "source": [
    "# # Analysis of batch sizes \n",
    "# train_sizes, train_scores, test_scores = learning_curve(MLPClassifier(activation='logistic', batch_size=1400, learning_rate_init=0.001, momentum=0, random_state=0,nesterovs_momentum=False, hidden_layer_sizes=(10)), Xtrain2, ytrain,cv=10, scoring='accuracy', n_jobs=-1)\n",
    "    \n",
    "# train_scores_mean = np.mean(train_scores, axis=1)\n",
    "# train_scores_std  = np.std(train_scores, axis=1)\n",
    "# test_scores_mean  = np.mean(test_scores, axis=1)\n",
    "# test_scores_std   = np.std(test_scores, axis=1)\n",
    "    \n",
    "# plt.plot(train_sizes, train_scores_mean)\n",
    "# plt.legend()\n",
    "    \n",
    "# plt.title('Learning Curve')\n",
    "# plt.xlabel('Training Size') \n",
    "# plt.ylabel('Score');"
   ]
  },
  {
   "cell_type": "code",
   "execution_count": null,
   "metadata": {},
   "outputs": [],
   "source": []
  },
  {
   "cell_type": "code",
   "execution_count": 11,
   "metadata": {},
   "outputs": [
    {
     "data": {
      "text/plain": [
       "<torch._C.Generator at 0x234bf562170>"
      ]
     },
     "execution_count": 11,
     "metadata": {},
     "output_type": "execute_result"
    }
   ],
   "source": [
    "n_epochs = 3\n",
    "batch_size_train = 64\n",
    "batch_size_test = 1000\n",
    "learning_rate = 0.01\n",
    "momentum = 0.5\n",
    "log_interval = 10\n",
    "\n",
    "random_seed = 1\n",
    "torch.backends.cudnn.enabled = False\n",
    "torch.manual_seed(random_seed)"
   ]
  },
  {
   "cell_type": "code",
   "execution_count": 12,
   "metadata": {},
   "outputs": [],
   "source": [
    "import torchvision"
   ]
  },
  {
   "cell_type": "code",
   "execution_count": 13,
   "metadata": {},
   "outputs": [],
   "source": [
    "# FROM THIS POINT ONWARD IS AN EXAMPLE I FOUND ONLINE\n",
    "\n",
    "train_loader = torch.utils.data.DataLoader(\n",
    "  torchvision.datasets.MNIST('/files/', train=True, download=True,\n",
    "                             transform=torchvision.transforms.Compose([\n",
    "                               torchvision.transforms.ToTensor(),\n",
    "                               torchvision.transforms.Normalize(\n",
    "                                 (0.1307,), (0.3081,))\n",
    "                             ])),\n",
    "  batch_size=batch_size_train, shuffle=True)\n",
    "\n",
    "test_loader = torch.utils.data.DataLoader(\n",
    "  torchvision.datasets.MNIST('/files/', train=False, download=True,\n",
    "                             transform=torchvision.transforms.Compose([\n",
    "                               torchvision.transforms.ToTensor(),\n",
    "                               torchvision.transforms.Normalize(\n",
    "                                 (0.1307,), (0.3081,))\n",
    "                             ])),\n",
    "  batch_size=batch_size_test, shuffle=True)"
   ]
  },
  {
   "cell_type": "code",
   "execution_count": 14,
   "metadata": {},
   "outputs": [],
   "source": [
    "examples = enumerate(test_loader)\n",
    "batch_idx, (example_data, example_targets) = next(examples)"
   ]
  },
  {
   "cell_type": "code",
   "execution_count": 15,
   "metadata": {},
   "outputs": [
    {
     "data": {
      "text/plain": [
       "torch.Size([1000, 1, 28, 28])"
      ]
     },
     "execution_count": 15,
     "metadata": {},
     "output_type": "execute_result"
    }
   ],
   "source": [
    "example_data.shape"
   ]
  },
  {
   "cell_type": "code",
   "execution_count": null,
   "metadata": {},
   "outputs": [],
   "source": []
  },
  {
   "cell_type": "code",
   "execution_count": null,
   "metadata": {},
   "outputs": [],
   "source": []
  },
  {
   "cell_type": "code",
   "execution_count": 16,
   "metadata": {},
   "outputs": [
    {
     "ename": "NameError",
     "evalue": "name 'x_test' is not defined",
     "output_type": "error",
     "traceback": [
      "\u001b[1;31m---------------------------------------------------------------------------\u001b[0m",
      "\u001b[1;31mNameError\u001b[0m                                 Traceback (most recent call last)",
      "\u001b[1;32m<ipython-input-16-b3ee1fe7399d>\u001b[0m in \u001b[0;36m<module>\u001b[1;34m\u001b[0m\n\u001b[0;32m      3\u001b[0m     \u001b[0mplt\u001b[0m\u001b[1;33m.\u001b[0m\u001b[0msubplot\u001b[0m\u001b[1;33m(\u001b[0m\u001b[1;36m2\u001b[0m\u001b[1;33m,\u001b[0m\u001b[1;36m3\u001b[0m\u001b[1;33m,\u001b[0m\u001b[0mi\u001b[0m\u001b[1;33m+\u001b[0m\u001b[1;36m1\u001b[0m\u001b[1;33m)\u001b[0m\u001b[1;33m\u001b[0m\u001b[1;33m\u001b[0m\u001b[0m\n\u001b[0;32m      4\u001b[0m     \u001b[0mplt\u001b[0m\u001b[1;33m.\u001b[0m\u001b[0mtight_layout\u001b[0m\u001b[1;33m(\u001b[0m\u001b[1;33m)\u001b[0m\u001b[1;33m\u001b[0m\u001b[1;33m\u001b[0m\u001b[0m\n\u001b[1;32m----> 5\u001b[1;33m     \u001b[0mplt\u001b[0m\u001b[1;33m.\u001b[0m\u001b[0mimshow\u001b[0m\u001b[1;33m(\u001b[0m\u001b[0mx_test\u001b[0m\u001b[1;33m[\u001b[0m\u001b[0mi\u001b[0m\u001b[1;33m]\u001b[0m\u001b[1;33m[\u001b[0m\u001b[1;36m0\u001b[0m\u001b[1;33m]\u001b[0m\u001b[1;33m,\u001b[0m \u001b[0mcmap\u001b[0m\u001b[1;33m=\u001b[0m\u001b[1;34m'gray'\u001b[0m\u001b[1;33m,\u001b[0m \u001b[0minterpolation\u001b[0m\u001b[1;33m=\u001b[0m\u001b[1;34m'none'\u001b[0m\u001b[1;33m)\u001b[0m\u001b[1;33m\u001b[0m\u001b[1;33m\u001b[0m\u001b[0m\n\u001b[0m\u001b[0;32m      6\u001b[0m     \u001b[0mplt\u001b[0m\u001b[1;33m.\u001b[0m\u001b[0mtitle\u001b[0m\u001b[1;33m(\u001b[0m\u001b[1;34m\"Ground Truth: {}\"\u001b[0m\u001b[1;33m.\u001b[0m\u001b[0mformat\u001b[0m\u001b[1;33m(\u001b[0m\u001b[0my_test\u001b[0m\u001b[1;33m[\u001b[0m\u001b[0mi\u001b[0m\u001b[1;33m]\u001b[0m\u001b[1;33m)\u001b[0m\u001b[1;33m)\u001b[0m\u001b[1;33m\u001b[0m\u001b[1;33m\u001b[0m\u001b[0m\n\u001b[0;32m      7\u001b[0m     \u001b[0mplt\u001b[0m\u001b[1;33m.\u001b[0m\u001b[0mxticks\u001b[0m\u001b[1;33m(\u001b[0m\u001b[1;33m[\u001b[0m\u001b[1;33m]\u001b[0m\u001b[1;33m)\u001b[0m\u001b[1;33m\u001b[0m\u001b[1;33m\u001b[0m\u001b[0m\n",
      "\u001b[1;31mNameError\u001b[0m: name 'x_test' is not defined"
     ]
    },
    {
     "data": {
      "image/png": "[encoded data removed]",
      "text/plain": [
       "<Figure size 432x288 with 1 Axes>"
      ]
     },
     "metadata": {
      "needs_background": "light"
     },
     "output_type": "display_data"
    }
   ],
   "source": [
    "\n",
    "fig = plt.figure()\n",
    "for i in range(6):\n",
    "    plt.subplot(2,3,i+1)\n",
    "    plt.tight_layout()\n",
    "    plt.imshow(x_test[i][0], cmap='gray', interpolation='none')\n",
    "    plt.title(\"Ground Truth: {}\".format(y_test[i]))\n",
    "    plt.xticks([])\n",
    "    plt.yticks([])\n",
    "fig"
   ]
  },
  {
   "cell_type": "code",
   "execution_count": 17,
   "metadata": {},
   "outputs": [],
   "source": [
    "class Net(nn.Module):\n",
    "    def __init__(self):\n",
    "        super(Net, self).__init__()\n",
    "        self.conv1 = nn.Conv2d(1, 10, kernel_size=5)\n",
    "        self.conv2 = nn.Conv2d(10, 20, kernel_size=5)\n",
    "        self.conv2_drop = nn.Dropout2d()\n",
    "        self.fc1 = nn.Linear(320, 50)\n",
    "        self.fc2 = nn.Linear(50, 10)\n",
    "\n",
    "    def forward(self, x):\n",
    "        x = F.relu(F.max_pool2d(self.conv1(x), 2))\n",
    "        x = F.relu(F.max_pool2d(self.conv2_drop(self.conv2(x)), 2))\n",
    "        x = x.view(-1, 320)\n",
    "        x = F.relu(self.fc1(x))\n",
    "        x = F.dropout(x, training=self.training)\n",
    "        x = self.fc2(x)\n",
    "        return F.log_softmax(x)"
   ]
  },
  {
   "cell_type": "code",
   "execution_count": 18,
   "metadata": {},
   "outputs": [],
   "source": [
    "network = Net()\n",
    "optimizer = optim.SGD(network.parameters(), lr=learning_rate,\n",
    "                      momentum=momentum)"
   ]
  },
  {
   "cell_type": "code",
   "execution_count": 19,
   "metadata": {},
   "outputs": [],
   "source": [
    "train_losses = []\n",
    "train_counter = []\n",
    "test_losses = []\n",
    "test_counter = [i*len(train_loader.dataset) for i in range(n_epochs + 1)]"
   ]
  },
  {
   "cell_type": "code",
   "execution_count": 20,
   "metadata": {},
   "outputs": [],
   "source": [
    "def train(epoch):\n",
    "    network.train()\n",
    "    for batch_idx, (data, target) in enumerate(train_loader):\n",
    "        optimizer.zero_grad()\n",
    "        output = network(data)\n",
    "        loss = F.nll_loss(output, target)\n",
    "        loss.backward()\n",
    "        optimizer.step()\n",
    "        if batch_idx % log_interval == 0:\n",
    "            print('Train Epoch: {} [{}/{} ({:.0f}%)]\\tLoss: {:.6f}'.format(\n",
    "                epoch, batch_idx * len(data), len(train_loader.dataset),\n",
    "                100. * batch_idx / len(train_loader), loss.item()))\n",
    "            train_losses.append(loss.item())\n",
    "            train_counter.append(\n",
    "                (batch_idx*64) + ((epoch-1)*len(train_loader.dataset)))\n",
    "#             torch.save(network.state_dict(),'\\results\\model.pth')\n",
    "#             torch.save(optimizer.state_dict(),'\\results\\optimizer.pth')"
   ]
  },
  {
   "cell_type": "code",
   "execution_count": 21,
   "metadata": {},
   "outputs": [],
   "source": [
    "def test():\n",
    "    network.eval()\n",
    "    test_loss = 0\n",
    "    correct = 0\n",
    "    with torch.no_grad():\n",
    "        for data, target in test_loader:\n",
    "            output = network(data)\n",
    "            test_loss += F.nll_loss(output, target, size_average=False).item()\n",
    "            pred = output.data.max(1, keepdim=True)[1]\n",
    "            correct += pred.eq(target.data.view_as(pred)).sum()\n",
    "    test_loss /= len(test_loader.dataset)\n",
    "    test_losses.append(test_loss)\n",
    "    print('\\nTest set: Avg. loss: {:.4f}, Accuracy: {}/{} ({:.0f}%)\\n'.format(\n",
    "    test_loss, correct, len(test_loader.dataset),\n",
    "    100. * correct / len(test_loader.dataset)))"
   ]
  },
  {
   "cell_type": "code",
   "execution_count": 22,
   "metadata": {},
   "outputs": [
    {
     "name": "stdout",
     "output_type": "stream",
     "text": [
      "\n",
      "Test set: Avg. loss: 2.3004, Accuracy: 751/10000 (8%)\n",
      "\n",
      "Train Epoch: 1 [0/60000 (0%)]\tLoss: 2.268457\n",
      "Train Epoch: 1 [640/60000 (1%)]\tLoss: 2.268337\n",
      "Train Epoch: 1 [1280/60000 (2%)]\tLoss: 2.274000\n",
      "Train Epoch: 1 [1920/60000 (3%)]\tLoss: 2.251669\n",
      "Train Epoch: 1 [2560/60000 (4%)]\tLoss: 2.236826\n",
      "Train Epoch: 1 [3200/60000 (5%)]\tLoss: 2.223578\n",
      "Train Epoch: 1 [3840/60000 (6%)]\tLoss: 2.153432\n",
      "Train Epoch: 1 [4480/60000 (7%)]\tLoss: 2.096480\n",
      "Train Epoch: 1 [5120/60000 (9%)]\tLoss: 1.974480\n",
      "Train Epoch: 1 [5760/60000 (10%)]\tLoss: 1.944769\n",
      "Train Epoch: 1 [6400/60000 (11%)]\tLoss: 1.839859\n",
      "Train Epoch: 1 [7040/60000 (12%)]\tLoss: 1.767560\n",
      "Train Epoch: 1 [7680/60000 (13%)]\tLoss: 1.698696\n",
      "Train Epoch: 1 [8320/60000 (14%)]\tLoss: 1.683217\n",
      "Train Epoch: 1 [8960/60000 (15%)]\tLoss: 1.504576\n",
      "Train Epoch: 1 [9600/60000 (16%)]\tLoss: 1.390304\n",
      "Train Epoch: 1 [10240/60000 (17%)]\tLoss: 1.288033\n",
      "Train Epoch: 1 [10880/60000 (18%)]\tLoss: 1.330191\n",
      "Train Epoch: 1 [11520/60000 (19%)]\tLoss: 1.279855\n",
      "Train Epoch: 1 [12160/60000 (20%)]\tLoss: 1.235899\n",
      "Train Epoch: 1 [12800/60000 (21%)]\tLoss: 0.929147\n",
      "Train Epoch: 1 [13440/60000 (22%)]\tLoss: 1.404189\n",
      "Train Epoch: 1 [14080/60000 (23%)]\tLoss: 0.966116\n",
      "Train Epoch: 1 [14720/60000 (25%)]\tLoss: 1.106026\n",
      "Train Epoch: 1 [15360/60000 (26%)]\tLoss: 0.944270\n",
      "Train Epoch: 1 [16000/60000 (27%)]\tLoss: 1.052586\n",
      "Train Epoch: 1 [16640/60000 (28%)]\tLoss: 0.945543\n",
      "Train Epoch: 1 [17280/60000 (29%)]\tLoss: 0.822237\n",
      "Train Epoch: 1 [17920/60000 (30%)]\tLoss: 1.131034\n",
      "Train Epoch: 1 [18560/60000 (31%)]\tLoss: 0.648273\n",
      "Train Epoch: 1 [19200/60000 (32%)]\tLoss: 0.943114\n",
      "Train Epoch: 1 [19840/60000 (33%)]\tLoss: 0.785334\n",
      "Train Epoch: 1 [20480/60000 (34%)]\tLoss: 0.799708\n",
      "Train Epoch: 1 [21120/60000 (35%)]\tLoss: 0.763748\n",
      "Train Epoch: 1 [21760/60000 (36%)]\tLoss: 0.958006\n",
      "Train Epoch: 1 [22400/60000 (37%)]\tLoss: 0.619170\n",
      "Train Epoch: 1 [23040/60000 (38%)]\tLoss: 0.849705\n",
      "Train Epoch: 1 [23680/60000 (39%)]\tLoss: 0.647399\n",
      "Train Epoch: 1 [24320/60000 (41%)]\tLoss: 0.819322\n",
      "Train Epoch: 1 [24960/60000 (42%)]\tLoss: 0.830374\n",
      "Train Epoch: 1 [25600/60000 (43%)]\tLoss: 0.773291\n",
      "Train Epoch: 1 [26240/60000 (44%)]\tLoss: 0.710245\n",
      "Train Epoch: 1 [26880/60000 (45%)]\tLoss: 0.757523\n",
      "Train Epoch: 1 [27520/60000 (46%)]\tLoss: 0.726834\n",
      "Train Epoch: 1 [28160/60000 (47%)]\tLoss: 0.794422\n",
      "Train Epoch: 1 [28800/60000 (48%)]\tLoss: 0.693738\n",
      "Train Epoch: 1 [29440/60000 (49%)]\tLoss: 0.649581\n",
      "Train Epoch: 1 [30080/60000 (50%)]\tLoss: 1.035795\n",
      "Train Epoch: 1 [30720/60000 (51%)]\tLoss: 0.665711\n",
      "Train Epoch: 1 [31360/60000 (52%)]\tLoss: 0.899346\n",
      "Train Epoch: 1 [32000/60000 (53%)]\tLoss: 0.723367\n",
      "Train Epoch: 1 [32640/60000 (54%)]\tLoss: 0.680147\n",
      "Train Epoch: 1 [33280/60000 (55%)]\tLoss: 0.560959\n",
      "Train Epoch: 1 [33920/60000 (57%)]\tLoss: 0.466236\n",
      "Train Epoch: 1 [34560/60000 (58%)]\tLoss: 0.785494\n",
      "Train Epoch: 1 [35200/60000 (59%)]\tLoss: 0.473234\n",
      "Train Epoch: 1 [35840/60000 (60%)]\tLoss: 0.759721\n",
      "Train Epoch: 1 [36480/60000 (61%)]\tLoss: 0.341270\n",
      "Train Epoch: 1 [37120/60000 (62%)]\tLoss: 0.398562\n",
      "Train Epoch: 1 [37760/60000 (63%)]\tLoss: 0.579587\n",
      "Train Epoch: 1 [38400/60000 (64%)]\tLoss: 0.733158\n",
      "Train Epoch: 1 [39040/60000 (65%)]\tLoss: 0.431104\n",
      "Train Epoch: 1 [39680/60000 (66%)]\tLoss: 0.497196\n",
      "Train Epoch: 1 [40320/60000 (67%)]\tLoss: 0.595555\n",
      "Train Epoch: 1 [40960/60000 (68%)]\tLoss: 0.452608\n",
      "Train Epoch: 1 [41600/60000 (69%)]\tLoss: 0.404510\n",
      "Train Epoch: 1 [42240/60000 (70%)]\tLoss: 0.598078\n",
      "Train Epoch: 1 [42880/60000 (71%)]\tLoss: 0.592884\n",
      "Train Epoch: 1 [43520/60000 (72%)]\tLoss: 0.568513\n",
      "Train Epoch: 1 [44160/60000 (74%)]\tLoss: 0.479752\n",
      "Train Epoch: 1 [44800/60000 (75%)]\tLoss: 0.599319\n",
      "Train Epoch: 1 [45440/60000 (76%)]\tLoss: 0.675242\n",
      "Train Epoch: 1 [46080/60000 (77%)]\tLoss: 0.565966\n",
      "Train Epoch: 1 [46720/60000 (78%)]\tLoss: 0.876904\n",
      "Train Epoch: 1 [47360/60000 (79%)]\tLoss: 0.383339\n",
      "Train Epoch: 1 [48000/60000 (80%)]\tLoss: 0.473649\n",
      "Train Epoch: 1 [48640/60000 (81%)]\tLoss: 0.358558\n",
      "Train Epoch: 1 [49280/60000 (82%)]\tLoss: 0.588562\n",
      "Train Epoch: 1 [49920/60000 (83%)]\tLoss: 0.382787\n",
      "Train Epoch: 1 [50560/60000 (84%)]\tLoss: 0.386201\n",
      "Train Epoch: 1 [51200/60000 (85%)]\tLoss: 0.817967\n",
      "Train Epoch: 1 [51840/60000 (86%)]\tLoss: 0.463438\n",
      "Train Epoch: 1 [52480/60000 (87%)]\tLoss: 0.651270\n",
      "Train Epoch: 1 [53120/60000 (88%)]\tLoss: 0.751410\n",
      "Train Epoch: 1 [53760/60000 (90%)]\tLoss: 0.552535\n",
      "Train Epoch: 1 [54400/60000 (91%)]\tLoss: 0.433734\n",
      "Train Epoch: 1 [55040/60000 (92%)]\tLoss: 0.690585\n",
      "Train Epoch: 1 [55680/60000 (93%)]\tLoss: 0.462209\n",
      "Train Epoch: 1 [56320/60000 (94%)]\tLoss: 0.520871\n",
      "Train Epoch: 1 [56960/60000 (95%)]\tLoss: 0.547580\n",
      "Train Epoch: 1 [57600/60000 (96%)]\tLoss: 0.341141\n",
      "Train Epoch: 1 [58240/60000 (97%)]\tLoss: 0.493493\n",
      "Train Epoch: 1 [58880/60000 (98%)]\tLoss: 0.338448\n",
      "Train Epoch: 1 [59520/60000 (99%)]\tLoss: 0.487384\n",
      "\n",
      "Test set: Avg. loss: 0.1981, Accuracy: 9439/10000 (94%)\n",
      "\n",
      "Train Epoch: 2 [0/60000 (0%)]\tLoss: 0.554419\n",
      "Train Epoch: 2 [640/60000 (1%)]\tLoss: 0.299338\n",
      "Train Epoch: 2 [1280/60000 (2%)]\tLoss: 0.387454\n",
      "Train Epoch: 2 [1920/60000 (3%)]\tLoss: 0.290441\n",
      "Train Epoch: 2 [2560/60000 (4%)]\tLoss: 0.455257\n",
      "Train Epoch: 2 [3200/60000 (5%)]\tLoss: 0.685320\n",
      "Train Epoch: 2 [3840/60000 (6%)]\tLoss: 0.538403\n",
      "Train Epoch: 2 [4480/60000 (7%)]\tLoss: 0.445419\n",
      "Train Epoch: 2 [5120/60000 (9%)]\tLoss: 0.379171\n",
      "Train Epoch: 2 [5760/60000 (10%)]\tLoss: 0.476922\n",
      "Train Epoch: 2 [6400/60000 (11%)]\tLoss: 0.510100\n",
      "Train Epoch: 2 [7040/60000 (12%)]\tLoss: 0.418242\n",
      "Train Epoch: 2 [7680/60000 (13%)]\tLoss: 0.311306\n",
      "Train Epoch: 2 [8320/60000 (14%)]\tLoss: 0.358575\n",
      "Train Epoch: 2 [8960/60000 (15%)]\tLoss: 0.398188\n",
      "Train Epoch: 2 [9600/60000 (16%)]\tLoss: 0.407823\n",
      "Train Epoch: 2 [10240/60000 (17%)]\tLoss: 0.385416\n",
      "Train Epoch: 2 [10880/60000 (18%)]\tLoss: 0.594757\n",
      "Train Epoch: 2 [11520/60000 (19%)]\tLoss: 0.570155\n",
      "Train Epoch: 2 [12160/60000 (20%)]\tLoss: 0.508220\n",
      "Train Epoch: 2 [12800/60000 (21%)]\tLoss: 0.406954\n",
      "Train Epoch: 2 [13440/60000 (22%)]\tLoss: 0.488318\n",
      "Train Epoch: 2 [14080/60000 (23%)]\tLoss: 0.367924\n",
      "Train Epoch: 2 [14720/60000 (25%)]\tLoss: 0.334774\n",
      "Train Epoch: 2 [15360/60000 (26%)]\tLoss: 0.575387\n",
      "Train Epoch: 2 [16000/60000 (27%)]\tLoss: 0.385856\n",
      "Train Epoch: 2 [16640/60000 (28%)]\tLoss: 0.534442\n",
      "Train Epoch: 2 [17280/60000 (29%)]\tLoss: 0.382363\n",
      "Train Epoch: 2 [17920/60000 (30%)]\tLoss: 0.343802\n",
      "Train Epoch: 2 [18560/60000 (31%)]\tLoss: 0.372535\n",
      "Train Epoch: 2 [19200/60000 (32%)]\tLoss: 0.475708\n",
      "Train Epoch: 2 [19840/60000 (33%)]\tLoss: 0.352897\n",
      "Train Epoch: 2 [20480/60000 (34%)]\tLoss: 0.405671\n",
      "Train Epoch: 2 [21120/60000 (35%)]\tLoss: 0.697819\n",
      "Train Epoch: 2 [21760/60000 (36%)]\tLoss: 0.416578\n",
      "Train Epoch: 2 [22400/60000 (37%)]\tLoss: 0.427718\n",
      "Train Epoch: 2 [23040/60000 (38%)]\tLoss: 0.455532\n",
      "Train Epoch: 2 [23680/60000 (39%)]\tLoss: 0.435378\n",
      "Train Epoch: 2 [24320/60000 (41%)]\tLoss: 0.329254\n",
      "Train Epoch: 2 [24960/60000 (42%)]\tLoss: 0.358987\n",
      "Train Epoch: 2 [25600/60000 (43%)]\tLoss: 0.455418\n",
      "Train Epoch: 2 [26240/60000 (44%)]\tLoss: 0.339978\n",
      "Train Epoch: 2 [26880/60000 (45%)]\tLoss: 0.425775\n",
      "Train Epoch: 2 [27520/60000 (46%)]\tLoss: 0.379354\n",
      "Train Epoch: 2 [28160/60000 (47%)]\tLoss: 0.318179\n",
      "Train Epoch: 2 [28800/60000 (48%)]\tLoss: 0.462165\n",
      "Train Epoch: 2 [29440/60000 (49%)]\tLoss: 0.447698\n",
      "Train Epoch: 2 [30080/60000 (50%)]\tLoss: 0.659607\n",
      "Train Epoch: 2 [30720/60000 (51%)]\tLoss: 0.366726\n",
      "Train Epoch: 2 [31360/60000 (52%)]\tLoss: 0.400162\n",
      "Train Epoch: 2 [32000/60000 (53%)]\tLoss: 0.442845\n",
      "Train Epoch: 2 [32640/60000 (54%)]\tLoss: 0.333266\n",
      "Train Epoch: 2 [33280/60000 (55%)]\tLoss: 0.262349\n",
      "Train Epoch: 2 [33920/60000 (57%)]\tLoss: 0.380824\n",
      "Train Epoch: 2 [34560/60000 (58%)]\tLoss: 0.416915\n",
      "Train Epoch: 2 [35200/60000 (59%)]\tLoss: 0.638165\n",
      "Train Epoch: 2 [35840/60000 (60%)]\tLoss: 0.233912\n",
      "Train Epoch: 2 [36480/60000 (61%)]\tLoss: 0.498713\n",
      "Train Epoch: 2 [37120/60000 (62%)]\tLoss: 0.381790\n",
      "Train Epoch: 2 [37760/60000 (63%)]\tLoss: 0.374636\n",
      "Train Epoch: 2 [38400/60000 (64%)]\tLoss: 0.213375\n",
      "Train Epoch: 2 [39040/60000 (65%)]\tLoss: 0.312747\n",
      "Train Epoch: 2 [39680/60000 (66%)]\tLoss: 0.374275\n",
      "Train Epoch: 2 [40320/60000 (67%)]\tLoss: 0.353627\n",
      "Train Epoch: 2 [40960/60000 (68%)]\tLoss: 0.355982\n",
      "Train Epoch: 2 [41600/60000 (69%)]\tLoss: 0.313490\n",
      "Train Epoch: 2 [42240/60000 (70%)]\tLoss: 0.169552\n",
      "Train Epoch: 2 [42880/60000 (71%)]\tLoss: 0.217761\n",
      "Train Epoch: 2 [43520/60000 (72%)]\tLoss: 0.391469\n",
      "Train Epoch: 2 [44160/60000 (74%)]\tLoss: 0.395801\n",
      "Train Epoch: 2 [44800/60000 (75%)]\tLoss: 0.442811\n",
      "Train Epoch: 2 [45440/60000 (76%)]\tLoss: 0.451945\n",
      "Train Epoch: 2 [46080/60000 (77%)]\tLoss: 0.436091\n",
      "Train Epoch: 2 [46720/60000 (78%)]\tLoss: 0.254962\n",
      "Train Epoch: 2 [47360/60000 (79%)]\tLoss: 0.284451\n",
      "Train Epoch: 2 [48000/60000 (80%)]\tLoss: 0.477718\n",
      "Train Epoch: 2 [48640/60000 (81%)]\tLoss: 0.355136\n",
      "Train Epoch: 2 [49280/60000 (82%)]\tLoss: 0.375658\n",
      "Train Epoch: 2 [49920/60000 (83%)]\tLoss: 0.315067\n",
      "Train Epoch: 2 [50560/60000 (84%)]\tLoss: 0.289658\n",
      "Train Epoch: 2 [51200/60000 (85%)]\tLoss: 0.442385\n",
      "Train Epoch: 2 [51840/60000 (86%)]\tLoss: 0.192835\n",
      "Train Epoch: 2 [52480/60000 (87%)]\tLoss: 0.392420\n",
      "Train Epoch: 2 [53120/60000 (88%)]\tLoss: 0.398806\n",
      "Train Epoch: 2 [53760/60000 (90%)]\tLoss: 0.301365\n",
      "Train Epoch: 2 [54400/60000 (91%)]\tLoss: 0.324204\n",
      "Train Epoch: 2 [55040/60000 (92%)]\tLoss: 0.377277\n",
      "Train Epoch: 2 [55680/60000 (93%)]\tLoss: 0.643283\n",
      "Train Epoch: 2 [56320/60000 (94%)]\tLoss: 0.336627\n",
      "Train Epoch: 2 [56960/60000 (95%)]\tLoss: 0.573997\n",
      "Train Epoch: 2 [57600/60000 (96%)]\tLoss: 0.381711\n",
      "Train Epoch: 2 [58240/60000 (97%)]\tLoss: 0.277581\n",
      "Train Epoch: 2 [58880/60000 (98%)]\tLoss: 0.202841\n",
      "Train Epoch: 2 [59520/60000 (99%)]\tLoss: 0.327827\n",
      "\n",
      "Test set: Avg. loss: 0.1273, Accuracy: 9606/10000 (96%)\n",
      "\n",
      "Train Epoch: 3 [0/60000 (0%)]\tLoss: 0.288465\n",
      "Train Epoch: 3 [640/60000 (1%)]\tLoss: 0.308218\n",
      "Train Epoch: 3 [1280/60000 (2%)]\tLoss: 0.367677\n",
      "Train Epoch: 3 [1920/60000 (3%)]\tLoss: 0.283842\n",
      "Train Epoch: 3 [2560/60000 (4%)]\tLoss: 0.395219\n",
      "Train Epoch: 3 [3200/60000 (5%)]\tLoss: 0.442666\n",
      "Train Epoch: 3 [3840/60000 (6%)]\tLoss: 0.409022\n",
      "Train Epoch: 3 [4480/60000 (7%)]\tLoss: 0.149918\n",
      "Train Epoch: 3 [5120/60000 (9%)]\tLoss: 0.247266\n",
      "Train Epoch: 3 [5760/60000 (10%)]\tLoss: 0.433421\n",
      "Train Epoch: 3 [6400/60000 (11%)]\tLoss: 0.358109\n",
      "Train Epoch: 3 [7040/60000 (12%)]\tLoss: 0.275811\n",
      "Train Epoch: 3 [7680/60000 (13%)]\tLoss: 0.390655\n",
      "Train Epoch: 3 [8320/60000 (14%)]\tLoss: 0.224634\n",
      "Train Epoch: 3 [8960/60000 (15%)]\tLoss: 0.414002\n",
      "Train Epoch: 3 [9600/60000 (16%)]\tLoss: 0.381736\n",
      "Train Epoch: 3 [10240/60000 (17%)]\tLoss: 0.426958\n",
      "Train Epoch: 3 [10880/60000 (18%)]\tLoss: 0.323628\n",
      "Train Epoch: 3 [11520/60000 (19%)]\tLoss: 0.276028\n",
      "Train Epoch: 3 [12160/60000 (20%)]\tLoss: 0.452615\n",
      "Train Epoch: 3 [12800/60000 (21%)]\tLoss: 0.288225\n",
      "Train Epoch: 3 [13440/60000 (22%)]\tLoss: 0.205681\n",
      "Train Epoch: 3 [14080/60000 (23%)]\tLoss: 0.211828\n",
      "Train Epoch: 3 [14720/60000 (25%)]\tLoss: 0.298448\n",
      "Train Epoch: 3 [15360/60000 (26%)]\tLoss: 0.178888\n",
      "Train Epoch: 3 [16000/60000 (27%)]\tLoss: 0.412367\n",
      "Train Epoch: 3 [16640/60000 (28%)]\tLoss: 0.285909\n",
      "Train Epoch: 3 [17280/60000 (29%)]\tLoss: 0.466338\n",
      "Train Epoch: 3 [17920/60000 (30%)]\tLoss: 0.268716\n",
      "Train Epoch: 3 [18560/60000 (31%)]\tLoss: 0.170430\n",
      "Train Epoch: 3 [19200/60000 (32%)]\tLoss: 0.577755\n",
      "Train Epoch: 3 [19840/60000 (33%)]\tLoss: 0.232976\n",
      "Train Epoch: 3 [20480/60000 (34%)]\tLoss: 0.339915\n",
      "Train Epoch: 3 [21120/60000 (35%)]\tLoss: 0.349136\n",
      "Train Epoch: 3 [21760/60000 (36%)]\tLoss: 0.287273\n",
      "Train Epoch: 3 [22400/60000 (37%)]\tLoss: 0.323642\n",
      "Train Epoch: 3 [23040/60000 (38%)]\tLoss: 0.434290\n",
      "Train Epoch: 3 [23680/60000 (39%)]\tLoss: 0.299888\n",
      "Train Epoch: 3 [24320/60000 (41%)]\tLoss: 0.313295\n",
      "Train Epoch: 3 [24960/60000 (42%)]\tLoss: 0.142366\n",
      "Train Epoch: 3 [25600/60000 (43%)]\tLoss: 0.274469\n",
      "Train Epoch: 3 [26240/60000 (44%)]\tLoss: 0.447710\n",
      "Train Epoch: 3 [26880/60000 (45%)]\tLoss: 0.259002\n",
      "Train Epoch: 3 [27520/60000 (46%)]\tLoss: 0.390435\n",
      "Train Epoch: 3 [28160/60000 (47%)]\tLoss: 0.239053\n",
      "Train Epoch: 3 [28800/60000 (48%)]\tLoss: 0.143664\n",
      "Train Epoch: 3 [29440/60000 (49%)]\tLoss: 0.195975\n",
      "Train Epoch: 3 [30080/60000 (50%)]\tLoss: 0.233193\n",
      "Train Epoch: 3 [30720/60000 (51%)]\tLoss: 0.331048\n",
      "Train Epoch: 3 [31360/60000 (52%)]\tLoss: 0.332966\n",
      "Train Epoch: 3 [32000/60000 (53%)]\tLoss: 0.313841\n",
      "Train Epoch: 3 [32640/60000 (54%)]\tLoss: 0.369827\n",
      "Train Epoch: 3 [33280/60000 (55%)]\tLoss: 0.337745\n",
      "Train Epoch: 3 [33920/60000 (57%)]\tLoss: 0.194495\n",
      "Train Epoch: 3 [34560/60000 (58%)]\tLoss: 0.287405\n",
      "Train Epoch: 3 [35200/60000 (59%)]\tLoss: 0.169003\n",
      "Train Epoch: 3 [35840/60000 (60%)]\tLoss: 0.320348\n",
      "Train Epoch: 3 [36480/60000 (61%)]\tLoss: 0.180988\n",
      "Train Epoch: 3 [37120/60000 (62%)]\tLoss: 0.411204\n",
      "Train Epoch: 3 [37760/60000 (63%)]\tLoss: 0.297398\n",
      "Train Epoch: 3 [38400/60000 (64%)]\tLoss: 0.187688\n",
      "Train Epoch: 3 [39040/60000 (65%)]\tLoss: 0.358411\n",
      "Train Epoch: 3 [39680/60000 (66%)]\tLoss: 0.147108\n",
      "Train Epoch: 3 [40320/60000 (67%)]\tLoss: 0.285451\n",
      "Train Epoch: 3 [40960/60000 (68%)]\tLoss: 0.311545\n",
      "Train Epoch: 3 [41600/60000 (69%)]\tLoss: 0.152108\n",
      "Train Epoch: 3 [42240/60000 (70%)]\tLoss: 0.201342\n",
      "Train Epoch: 3 [42880/60000 (71%)]\tLoss: 0.206720\n",
      "Train Epoch: 3 [43520/60000 (72%)]\tLoss: 0.252273\n",
      "Train Epoch: 3 [44160/60000 (74%)]\tLoss: 0.314153\n",
      "Train Epoch: 3 [44800/60000 (75%)]\tLoss: 0.242180\n",
      "Train Epoch: 3 [45440/60000 (76%)]\tLoss: 0.250471\n",
      "Train Epoch: 3 [46080/60000 (77%)]\tLoss: 0.269036\n",
      "Train Epoch: 3 [46720/60000 (78%)]\tLoss: 0.492709\n",
      "Train Epoch: 3 [47360/60000 (79%)]\tLoss: 0.356668\n",
      "Train Epoch: 3 [48000/60000 (80%)]\tLoss: 0.414500\n",
      "Train Epoch: 3 [48640/60000 (81%)]\tLoss: 0.218810\n",
      "Train Epoch: 3 [49280/60000 (82%)]\tLoss: 0.153948\n",
      "Train Epoch: 3 [49920/60000 (83%)]\tLoss: 0.480608\n",
      "Train Epoch: 3 [50560/60000 (84%)]\tLoss: 0.307674\n",
      "Train Epoch: 3 [51200/60000 (85%)]\tLoss: 0.266336\n",
      "Train Epoch: 3 [51840/60000 (86%)]\tLoss: 0.231701\n",
      "Train Epoch: 3 [52480/60000 (87%)]\tLoss: 0.225130\n",
      "Train Epoch: 3 [53120/60000 (88%)]\tLoss: 0.236106\n",
      "Train Epoch: 3 [53760/60000 (90%)]\tLoss: 0.393907\n",
      "Train Epoch: 3 [54400/60000 (91%)]\tLoss: 0.449848\n",
      "Train Epoch: 3 [55040/60000 (92%)]\tLoss: 0.302262\n",
      "Train Epoch: 3 [55680/60000 (93%)]\tLoss: 0.263072\n",
      "Train Epoch: 3 [56320/60000 (94%)]\tLoss: 0.312364\n",
      "Train Epoch: 3 [56960/60000 (95%)]\tLoss: 0.326261\n",
      "Train Epoch: 3 [57600/60000 (96%)]\tLoss: 0.178408\n",
      "Train Epoch: 3 [58240/60000 (97%)]\tLoss: 0.100760\n",
      "Train Epoch: 3 [58880/60000 (98%)]\tLoss: 0.187174\n",
      "Train Epoch: 3 [59520/60000 (99%)]\tLoss: 0.309168\n",
      "\n",
      "Test set: Avg. loss: 0.0928, Accuracy: 9719/10000 (97%)\n",
      "\n"
     ]
    }
   ],
   "source": [
    "test()\n",
    "for epoch in range(1, n_epochs + 1):\n",
    "    train(epoch)\n",
    "    test()"
   ]
  },
  {
   "cell_type": "code",
   "execution_count": 23,
   "metadata": {},
   "outputs": [
    {
     "data": {
      "image/png": "[encoded data removed]",
      "text/plain": [
       "<Figure size 432x288 with 1 Axes>"
      ]
     },
     "execution_count": 23,
     "metadata": {},
     "output_type": "execute_result"
    },
    {
     "data": {
      "image/png": "[encoded data removed]",
      "text/plain": [
       "<Figure size 432x288 with 1 Axes>"
      ]
     },
     "metadata": {
      "needs_background": "light"
     },
     "output_type": "display_data"
    }
   ],
   "source": [
    "fig = plt.figure()\n",
    "plt.plot(train_counter, train_losses, color='blue')\n",
    "plt.scatter(test_counter, test_losses, color='red')\n",
    "plt.legend(['Train Loss', 'Test Loss'], loc='upper right')\n",
    "plt.xlabel('number of training examples seen')\n",
    "plt.ylabel('negative log likelihood loss')\n",
    "fig"
   ]
  },
  {
   "cell_type": "code",
   "execution_count": null,
   "metadata": {},
   "outputs": [],
   "source": [
    "np.shape(test_counter), np.shape(test_losses)"
   ]
  },
  {
   "cell_type": "code",
   "execution_count": null,
   "metadata": {},
   "outputs": [],
   "source": [
    "fig = plt.figure(figsize=(5,4))\n",
    "for i in range(10):\n",
    "    ax = fig.add_subplot(4,3,i+1)\n",
    "    ax.imshow(X_train[np.where(y_train==i)[0][1],:].reshape((28,28)), cmap='binary')"
   ]
  },
  {
   "cell_type": "code",
   "execution_count": null,
   "metadata": {},
   "outputs": [],
   "source": []
  },
  {
   "cell_type": "markdown",
   "metadata": {},
   "source": [
    "# End-to-End Pipeline for ASL Data Classification\n",
    "\n",
    "The objective of Lab 4 is to finalize your choice of pre-processing pipeline and classifier selection, provide discussion and motivation for the chosen approach based on outcomes from Labs 1-3.\n",
    "\n",
    "**You can use ```scikit-learn``` or ```PyTorch``` libraries.**\n",
    "\n",
    "**Objectives**\n",
    "\n",
    "By completing this assignment you will practice and master the following skills:\n",
    "\n",
    "* Experimental design\n",
    "* Setup of an end-to-end approach using supervised learning techniques\n",
    "* Library function' implementation and parameter tuning\n",
    "\n",
    "**Create your Repo**\n",
    "\n",
    "You can create the repo for this assignment by visiting the following link: https://classroom.github.com/g/hC0gy-1A"
   ]
  },
  {
   "cell_type": "markdown",
   "metadata": {},
   "source": [
    "# Training Data Set\n",
    "\n",
    "The training data set was collected from the entire class of EEL 4930. The training set contains 1844 samples of $100\\times 100$ RGB images. \n",
    "* You can download both the training data set (**\"train_data.npy\"**) and training labels (**\"train_labels.npy\"**) from our Canvas page [here](https://ufl.instructure.com/courses/395133/files/folder/Project%20Data)."
   ]
  },
  {
   "cell_type": "markdown",
   "metadata": {},
   "source": [
    "# Problem 1 Description\n",
    "\n",
    "As we have moved to a virtual environment communication, I am recommending that each team meet via Zoom.\n",
    "\n",
    "You can schedule meetings that best work for your team here: https://ufl.zoom.us/\n",
    "\n",
    "* Attach a screenshot proof that you have created a meeting and attended the meeting via Zoom.\n",
    "\n",
    "* To facilitate collaborative coding while you are communicating via Zoom, I recommend that you use [Google Colab](https://colab.research.google.com/). \n",
    "    * You can edit all your Jupter Notebooks in this platform. The updates are live so your teammates can view and participate in real time."
   ]
  },
  {
   "cell_type": "markdown",
   "metadata": {},
   "source": [
    "# Problem 2 Description\n",
    "\n",
    "In this lab you will finalize your end-to-end machine learning pipeline whichs includes pre-processing, classification and evaluation of the results for the ASL data set. The choice of your final approach will be based on outcomes from Lasb 1-3.\n",
    "\n",
    "Include a new section of experiments for the classification you choose. Your experiments should include all the standard steps of a machine learning algorithm or deep learning architecture.\n",
    "\n",
    "Provide a discussion for each step of your pipeline. This approach should be the one used to carry out experimental design on your final project code and report."
   ]
  },
  {
   "cell_type": "markdown",
   "metadata": {},
   "source": [
    "## Submit your Solution\n",
    "\n",
    "Along with your Jupyter Notebook answers, create a PDF of the notebook with your solutions.\n",
    "\n",
    "As always, `add` and `commit` the final version of your work, and `push` your code to your GitHub repository.\n",
    "\n",
    "* Submit the **URL** of your GitHub Repository as your assignment submission on Canvas (only one team member needs to do so)."
   ]
  },
  {
   "cell_type": "markdown",
   "metadata": {},
   "source": [
    "Using pooling to reduce parameter space \n",
    "Can adjust stride value to jump 2,3,4, etc... typically want to maintain overlapping regions \n",
    "more popular to use stride for pooling layers\n",
    "input convoluitonal layer\n",
    "pooling layer\n",
    "conv layer\n",
    "pooling layer\n",
    "etc\n",
    "\n",
    "max pooling is most popular (disadvantage include throwing away data)\n",
    "average pooling ( prone to overfitting. more seceptable to noise)"
   ]
  }
 ],
 "metadata": {
  "kernelspec": {
   "display_name": "Python 3",
   "language": "python",
   "name": "python3"
  },
  "language_info": {
   "codemirror_mode": {
    "name": "ipython",
    "version": 3
   },
   "file_extension": ".py",
   "mimetype": "text/x-python",
   "name": "python",
   "nbconvert_exporter": "python",
   "pygments_lexer": "ipython3",
   "version": "3.7.4"
  },
  "latex_envs": {
   "LaTeX_envs_menu_present": true,
   "autoclose": true,
   "autocomplete": true,
   "bibliofile": "biblio.bib",
   "cite_by": "apalike",
   "current_citInitial": 1,
   "eqLabelWithNumbers": true,
   "eqNumInitial": 1,
   "hotkeys": {
    "equation": "Ctrl-E",
    "itemize": "Ctrl-I"
   },
   "labels_anchors": false,
   "latex_user_defs": false,
   "report_style_numbering": false,
   "user_envs_cfg": false
  }
 },
 "nbformat": 4,
 "nbformat_minor": 4
}
