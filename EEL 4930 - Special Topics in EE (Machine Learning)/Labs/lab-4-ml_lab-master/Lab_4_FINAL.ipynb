{
  "nbformat": 4,
  "nbformat_minor": 0,
  "metadata": {
    "colab": {
      "name": "Lab 4.ipynb",
      "provenance": [],
      "collapsed_sections": []
    },
    "kernelspec": {
      "name": "python3",
      "display_name": "Python 3"
    }
  },
  "cells": [
    {
      "cell_type": "code",
      "metadata": {
        "id": "pclJMYFzSFD9",
        "colab_type": "code",
        "colab": {}
      },
      "source": [
        "## Import libraries\n",
        "import numpy as np\n",
        "import matplotlib.pyplot as plt\n",
        "%matplotlib inline\n",
        "from skimage.color import rgb2gray\n",
        "import pylab as pl\n",
        "import pandas as pd"
      ],
      "execution_count": 0,
      "outputs": []
    },
    {
      "cell_type": "code",
      "metadata": {
        "id": "Ad78jmY3Sj4S",
        "colab_type": "code",
        "outputId": "0641fac3-8688-49c1-9adf-aff018098103",
        "colab": {
          "base_uri": "https://localhost:8080/",
          "height": 34
        }
      },
      "source": [
        "from google.colab import drive\n",
        "drive.mount('/content/drive', force_remount=True)"
      ],
      "execution_count": 11,
      "outputs": [
        {
          "output_type": "stream",
          "text": [
            "Mounted at /content/drive\n"
          ],
          "name": "stdout"
        }
      ]
    },
    {
      "cell_type": "code",
      "metadata": {
        "id": "VmF5HFa4TUYS",
        "colab_type": "code",
        "outputId": "fb3433cf-93bc-4d3f-cee8-add223f0fb62",
        "colab": {
          "base_uri": "https://localhost:8080/",
          "height": 34
        }
      },
      "source": [
        "ls \"/content/drive/My Drive/Colab Notebooks/\""
      ],
      "execution_count": 0,
      "outputs": [
        {
          "output_type": "stream",
          "text": [
            "ls: cannot access '/content/drive/My Drive/Colab Notebooks/': No such file or directory\n"
          ],
          "name": "stdout"
        }
      ]
    },
    {
      "cell_type": "code",
      "metadata": {
        "id": "0BKI_R1DSmhI",
        "colab_type": "code",
        "outputId": "0cf4ccf7-c3d9-4600-c24d-a95b17e4a942",
        "colab": {
          "base_uri": "https://localhost:8080/",
          "height": 34
        }
      },
      "source": [
        "X=np.load('/content/drive/My Drive/train_data.npy')\n",
        "Y=np.load('/content/drive/My Drive/train_labels.npy')\n",
        "labels = ['A','B','C','D','E','F','G','H','I']\n",
        "X.shape, Y.shape"
      ],
      "execution_count": 15,
      "outputs": [
        {
          "output_type": "execute_result",
          "data": {
            "text/plain": [
              "((1844, 100, 100, 3), (1844, 1))"
            ]
          },
          "metadata": {
            "tags": []
          },
          "execution_count": 15
        }
      ]
    },
    {
      "cell_type": "code",
      "metadata": {
        "id": "bdoTq2NLU-je",
        "colab_type": "code",
        "outputId": "1c2a4486-39a7-4806-dc04-f81730d9b8e5",
        "colab": {
          "base_uri": "https://localhost:8080/",
          "height": 34
        }
      },
      "source": [
        "# Vectorize origional data so other preprocessing techniques can be used. \n",
        "Xtrain2 = []\n",
        "for k in range(len(X)):   \n",
        "        X_train1 = rgb2gray(X[k,:,:,:])\n",
        "        Xtrain2 += [X_train1.ravel()]\n",
        "Xtrain2 = np.array(Xtrain2)\n",
        "Xtrain2.shape, X.shape, len(X)"
      ],
      "execution_count": 18,
      "outputs": [
        {
          "output_type": "execute_result",
          "data": {
            "text/plain": [
              "((1844, 10000), (1844, 100, 100, 3), 1844)"
            ]
          },
          "metadata": {
            "tags": []
          },
          "execution_count": 18
        }
      ]
    },
    {
      "cell_type": "code",
      "metadata": {
        "id": "-9Jxp8IQVFGO",
        "colab_type": "code",
        "outputId": "d5317c5f-9752-4850-f98b-467e1f2d6854",
        "colab": {
          "base_uri": "https://localhost:8080/",
          "height": 34
        }
      },
      "source": [
        "## Normalize and separate data into training and validation sets.\n",
        "from sklearn.model_selection import train_test_split\n",
        "\n",
        "X_train_norm = Xtrain2/255\n",
        "\n",
        "X_train, X_test, y_train, y_test = train_test_split(X_train_norm, Y, test_size=0.2)\n",
        "y_train = np.array(y_train.ravel())\n",
        "y_test = np.array(y_test.ravel())\n",
        "X_train.shape, X_test.shape, y_train.shape, y_test.shape"
      ],
      "execution_count": 20,
      "outputs": [
        {
          "output_type": "execute_result",
          "data": {
            "text/plain": [
              "((1475, 10000), (369, 10000), (1475,), (369,))"
            ]
          },
          "metadata": {
            "tags": []
          },
          "execution_count": 20
        }
      ]
    },
    {
      "cell_type": "code",
      "metadata": {
        "id": "P-G5POX4VRJE",
        "colab_type": "code",
        "colab": {
          "base_uri": "https://localhost:8080/",
          "height": 265
        },
        "outputId": "4e42c193-a33b-4b13-df50-5356f38cc81a"
      },
      "source": [
        "import sys\n",
        "from sklearn.metrics import confusion_matrix\n",
        "from sklearn.neighbors import KNeighborsClassifier\n",
        "\n",
        "N = 10\n",
        "kset = np.arange(1,N+1)\n",
        "Acc = np.zeros((N,2))\n",
        "\n",
        "for k in kset:\n",
        "    clf = KNeighborsClassifier(n_neighbors=k, weights='uniform',metric = 'minkowski', p = 2)\n",
        "    clf.fit(X_train, y_train)\n",
        "    Acc[k-1,:] = [round(clf.score(X_train, y_train.ravel())*100,2),round(clf.score(X_test, y_test.ravel())*100,2)]\n",
        "\n",
        "plt.plot(kset, Acc[:,0], '-o', label = 'Training')\n",
        "plt.plot(kset, Acc[:,1], '-o', label = 'Test')\n",
        "plt.legend();"
      ],
      "execution_count": 22,
      "outputs": [
        {
          "output_type": "display_data",
          "data": {
            "image/png": "[encoded data removed]",
            "text/plain": [
              "<Figure size 432x288 with 1 Axes>"
            ]
          },
          "metadata": {
            "tags": [],
            "needs_background": "light"
          }
        }
      ]
    },
    {
      "cell_type": "code",
      "metadata": {
        "id": "oGRNoOF-VTp6",
        "colab_type": "code",
        "colab": {
          "base_uri": "https://localhost:8080/",
          "height": 416
        },
        "outputId": "dc91763b-7d1e-4321-93af-2e15abdbefc4"
      },
      "source": [
        "# plot confusion matrix \n",
        "# Recalculate  KNN with best value of K \n",
        "clf = KNeighborsClassifier(n_neighbors=1, weights = 'uniform', metric = 'minkowski', p = 2)\n",
        "model     = clf.fit(X_train, y_train)   \n",
        "predicted = clf.predict(X_test)\n",
        "\n",
        "\n",
        "cm = confusion_matrix(predicted, y_test)\n",
        "print(cm)\n",
        "\n",
        "pl.matshow(cm) \n",
        "pl.title('Confusion matrix of the classifier') \n",
        "\n",
        "pl.colorbar() \n",
        "\n",
        "pl.show()"
      ],
      "execution_count": 23,
      "outputs": [
        {
          "output_type": "stream",
          "text": [
            "[[48  1  0  1  1  0  2  0  0]\n",
            " [ 1 26  5  0  1  4  0  0  0]\n",
            " [ 0  0 38  0  2  2  0  0  0]\n",
            " [ 0  0  0 30  1  2  0  0  0]\n",
            " [ 1  1  1  0 36  2  1  0  0]\n",
            " [ 0  5  0  0  1 32  0  0  0]\n",
            " [ 0  0  0  0  0  0 38  5  0]\n",
            " [ 0  0  0  0  0  0  4 34  0]\n",
            " [ 1  1  0  0  0  1  0  0 40]]\n"
          ],
          "name": "stdout"
        },
        {
          "output_type": "display_data",
          "data": {
            "image/png": "[encoded data removed]",
            "text/plain": [
              "<Figure size 288x288 with 2 Axes>"
            ]
          },
          "metadata": {
            "tags": [],
            "needs_background": "light"
          }
        }
      ]
    },
    {
      "cell_type": "code",
      "metadata": {
        "id": "L7yHynVmVWb7",
        "colab_type": "code",
        "colab": {
          "base_uri": "https://localhost:8080/",
          "height": 51
        },
        "outputId": "ad90fb8b-093f-46c1-a882-d0a22b22347e"
      },
      "source": [
        "clf = KNeighborsClassifier(n_neighbors=1, weights = 'uniform',metric = 'minkowski', p = 2)\n",
        "clf.fit(X_train, y_train)\n",
        "ACC = clf.score(X_train, y_train)\n",
        "ACC2 = clf.score(X_test, y_test)\n",
        "print(\"Best KNN training Accuracy: \", ACC)\n",
        "print(\"Best KNN test Accuracy: \", ACC2)"
      ],
      "execution_count": 24,
      "outputs": [
        {
          "output_type": "stream",
          "text": [
            "Best KNN training Accuracy:  1.0\n",
            "Best KNN test Accuracy:  0.8726287262872628\n"
          ],
          "name": "stdout"
        }
      ]
    },
    {
      "cell_type": "code",
      "metadata": {
        "id": "T8-7BDw9S6AH",
        "colab_type": "code",
        "outputId": "436f1f2b-7dbb-43f0-f615-951da2e8668c",
        "colab": {
          "base_uri": "https://localhost:8080/",
          "height": 581
        }
      },
      "source": [
        "# BASICALLY THE WHOLE LAB USING KNN CLASSIFIER \n",
        "import numpy as np \n",
        "from scipy import ndimage \n",
        "from skimage.color import rgb2gray\n",
        "from skimage import data, filters \n",
        "from sklearn.preprocessing import FunctionTransformer \n",
        "from sklearn.pipeline import Pipeline \n",
        "\n",
        "def grayscale_img(X): \n",
        "    \"\"\"Convert RGB image to grayscale image\"\"\"\n",
        "    if(X.shape[1:] != (100, 100, 3)): \n",
        "        raise ValueError('Grayscale: shape must be (k, 100, 100, 3)!')\n",
        "    output=np.asarray(a=[rgb2gray(X[k,:,:,:]) for k in range(len(X))]).reshape(X.shape[0], 100, 100, 1)\n",
        "    print('Grayscale: X.shape:\\t{}\\n'.format(output.shape))\n",
        "    return output\n",
        "    \n",
        "    \n",
        "def vectorize_img(X): \n",
        "    \"\"\"Flatten image into a 1D vector\"\"\"\n",
        "    if(X.shape[1:] != (100, 100, 1)): \n",
        "        raise ValueError('Vectorize: shape must be (k, 100, 100, 1)!')\n",
        "    output=np.asarray(a=[X[k].flatten() for k in range(len(X))])\n",
        "    print('Vectorize: X.shape:\\t{}\\n'.format(output.shape))\n",
        "    return output \n",
        "    \n",
        "# testing only\n",
        "def vectorize_img_inv(X):\n",
        "    \"\"\"Inverse of vectorize_img by converting flattened image into 100x100 grayscale image\"\"\"\n",
        "    if(X.ndim != 2): \n",
        "        raise ValueError('Vectorize_Inv: each image must be 1D!')\n",
        "    output=X.reshape(X.shape[0], 100, 100, 1)\n",
        "    print('Vectorize_Inv: X.shape:\\t{}\\n'.format(output.shape))\n",
        "    return output \n",
        "\n",
        "def normalize_img(X_vector):\n",
        "    \"\"\"Normalize each pixel intensity value in vectorized image\"\"\"\n",
        "    if(X_vector.ndim != 2): \n",
        "        raise ValueError('Normalize: each image must be 1D!')\n",
        "    output=X_vector/255\n",
        "    print('Normalize: X.shape:\\t{}\\n'.format(output.shape))\n",
        "    return output \n",
        "\n",
        "# testing only \n",
        "def normalize_img_inv(X_vector):\n",
        "    \"\"\"Inverse of normalize_img by scaling intensity of each pixel by 255\"\"\"\n",
        "    if(X_vector.ndim != 2): \n",
        "        raise ValueError('Normalize_Inv: each image must be 1D!')\n",
        "    output=X_vector*255 \n",
        "    print('Normalize_Inv: X.shape:\\t{}\\n'.format(output.shape))\n",
        "    return output \n",
        "\n",
        "# converting each function to FunctionTransformer type to be compatible in Pipeline \n",
        "grayscale_img_func=FunctionTransformer(func=grayscale_img)\n",
        "vectorize_img_func=FunctionTransformer(func=vectorize_img, inverse_func=vectorize_img_inv)\n",
        "normalize_img_func=FunctionTransformer(func=normalize_img, inverse_func=normalize_img_inv)\n",
        "\n",
        "from sklearn.neighbors import KNeighborsClassifier\n",
        "estimators = [\n",
        "    ('Grayscale', grayscale_img_func),\n",
        "    ('Vectorize', vectorize_img_func),\n",
        "    ('Normalize', normalize_img_func), \n",
        "    ('KNN', KNeighborsClassifier(n_neighbors=1, weights='uniform', metric='minkowski', p=2))\n",
        "] \n",
        "img_pipeline=Pipeline(estimators)\n",
        "\n",
        "# generating scores \n",
        "def pipeline_score(X_train, X_test, y_train, y_test): \n",
        "    \"\"\"\n",
        "        Compute the score for model trained by pipeline-preprocessed training set and\n",
        "        then tested on the testing set. \n",
        "    \"\"\"\n",
        "    ip_model=img_pipeline.fit(X=X_train, y=y_train)\n",
        "    return ip_model.score(X=X_test, y=y_test)\n",
        "\n",
        "# example \n",
        "from sklearn.model_selection import train_test_split\n",
        "\n",
        "# use below when running from local desktop \n",
        "# X=np.load('train_data.npy')\n",
        "# Y=np.load('train_labels.npy')\n",
        "\n",
        "# use below when running on Google collab \n",
        "X=np.load('/content/drive/My Drive/train_data.npy')\n",
        "Y=np.load('/content/drive/My Drive/train_labels.npy')\n",
        "\n",
        "X_train, X_test, y_train, y_test = train_test_split(X, Y, test_size=0.2, shuffle=True)\n",
        "print('X_train.shape:\\t{}\\n'.format(X_train.shape)) \n",
        "print('X_test.shape:\\t{}\\n'.format(X_test.shape)) \n",
        "print('y_train.shape:\\t{}\\n'.format(y_train.shape)) \n",
        "print('y_test.shape:\\t{}\\n'.format(y_test.shape)) \n",
        "print('Score:\\t{}\\n'.format(\n",
        "    pipeline_score(X_train=X_train, X_test=X_test, y_train=y_train, y_test=y_test)\n",
        "))\n"
      ],
      "execution_count": 0,
      "outputs": [
        {
          "output_type": "stream",
          "text": [
            "X_train.shape:\t(1475, 100, 100, 3)\n",
            "\n",
            "X_test.shape:\t(369, 100, 100, 3)\n",
            "\n",
            "y_train.shape:\t(1475, 1)\n",
            "\n",
            "y_test.shape:\t(369, 1)\n",
            "\n",
            "Grayscale: X.shape:\t(1475, 100, 100, 1)\n",
            "\n",
            "Vectorize: X.shape:\t(106, 10000)\n",
            "\n",
            "Vectorize_Inv: X.shape:\t(106, 100, 100, 1)\n",
            "\n",
            "Vectorize: X.shape:\t(1475, 10000)\n",
            "\n",
            "Normalize: X.shape:\t(106, 10000)\n",
            "\n",
            "Normalize_Inv: X.shape:\t(106, 10000)\n",
            "\n",
            "Normalize: X.shape:\t(1475, 10000)\n",
            "\n"
          ],
          "name": "stdout"
        },
        {
          "output_type": "stream",
          "text": [
            "/usr/local/lib/python3.6/dist-packages/sklearn/pipeline.py:354: DataConversionWarning: A column-vector y was passed when a 1d array was expected. Please change the shape of y to (n_samples, ), for example using ravel().\n",
            "  self._final_estimator.fit(Xt, y, **fit_params)\n"
          ],
          "name": "stderr"
        },
        {
          "output_type": "stream",
          "text": [
            "Grayscale: X.shape:\t(369, 100, 100, 1)\n",
            "\n",
            "Vectorize: X.shape:\t(369, 10000)\n",
            "\n",
            "Normalize: X.shape:\t(369, 10000)\n",
            "\n",
            "Score:\t0.9051490514905149\n",
            "\n"
          ],
          "name": "stdout"
        }
      ]
    },
    {
      "cell_type": "markdown",
      "metadata": {
        "id": "p1hbmefsl3oP",
        "colab_type": "text"
      },
      "source": [
        "Steps of Pipeline:\n",
        "\n",
        "1. Each image is converted to grayscale using rgb2gray from skimage.color. This is in preparation for Sobel edge detection. Edge detenction only focuses on change between brightness or intensity of color, rather than the rgb value. Converting each image to grayscale allows us to entirely focus on intensity of the pixels. \n",
        "\n",
        "2. Vectorizing i.e. flattening each image into a single 1D vector allows streamlined performance and easier layout for debugging. Most importantly, this reduces the dimensionality of X data set to 2 dimensions with shape (k, 10000). Only a 2D array or matrix is compatible with sklearn estimators. \n",
        "\n",
        "3. Normalizing the intensity of each pixel for all images puts the images on a more equal playing field. Different camera quality and different background lighting may cause a greater variation of average pixel intensities across images for the same letter. Normalization reduces each image to the same but smaller interval of allowed values (0 to 1). This reduces the variation in intensity across images. \n",
        "\n",
        "4. As empirically discovered in Lab 3, SVM beats the other tested estimators as having the best accuracy. Feeding a multi-step preprocessed data set as input into SVM, which is configured with optimal values for C and gamma from empirical testing, should theoretically combine to form the best pipeline. \n"
      ]
    },
    {
      "cell_type": "markdown",
      "metadata": {
        "id": "WvwOuwOtVZGb",
        "colab_type": "text"
      },
      "source": [
        ""
      ]
    }
  ]
}