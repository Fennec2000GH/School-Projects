{
 "cells": [
  {
   "cell_type": "markdown",
   "metadata": {},
   "source": [
    "# Homework 5\n",
    "\n",
    "This is an individual assignment.\n",
    "\n",
    "**Due: Wednesday, April 1 @ 11:59 PM**\n",
    "\n",
    "## Grading Rubric\n",
    "\n",
    "1. **Problem 1 (30 pts):** you've answered all 3 questions (10 points each).\n",
    "\n",
    "2. **Problem 2 (30 pts):** you've answered this question and showed your work. \n",
    "\n",
    "3. **Problem 3 (40 pts):** you've answered all questions and provided the appropriate discussion comments.\n",
    "\n",
    "**Total: 100 pts**"
   ]
  },
  {
   "cell_type": "markdown",
   "metadata": {},
   "source": [
    "# Multi-Layer Perceptrons and Backpropagation\n",
    "\n",
    "In this assignment, you will test your knowledge about all Multi-Layer Perceptrons (MLPs) and the backpropagation algorithm.\n",
    "\n",
    "**You are allowed to use ```scikit-learn``` modules.**\n",
    "\n",
    "**Objectives**\n",
    "\n",
    "By completing this assignment you will practice and master the following skills:\n",
    "\n",
    "* Multi-Layer Perceptron\n",
    "* Backpropagation\n",
    "* Online vs Batch Learning\n",
    "\n",
    "**Create your Repo**\n",
    "\n",
    "You can create the repo for this assignment by visiting the following link: https://classroom.github.com/a/E4a_1GaX"
   ]
  },
  {
   "cell_type": "markdown",
   "metadata": {},
   "source": [
    "# Problem 1 - Decision Boundaries in MLP Layers\n",
    "\n",
    "Suppose you want to create this mask with a two-hidden layer MLP with sigmoid units (threshold non-linearity). Assume that black pixels are 0 and white pixels are 1 (2 class problem).\n",
    "\n",
    "<div><img src=\"mask.png\", width=\"300\"><!div>\n",
    "\n",
    "Answer the following questions:\n",
    "\n",
    "1. What is the smallest number of hidden units/neurons you will need in each layer?\n",
    "\n",
    "2. Explain their role in creating the mask.\n",
    "\n",
    "3. Can you achieve the same goal with a *single hidden layer network*? Why or why not?"
   ]
  },
  {
   "cell_type": "markdown",
   "metadata": {},
   "source": [
    "1. In the first hidden layer, there should be 6 neurons. In the second layer, there should be 4 neurons. Note that this assumes the white border is just a background; only the 5 white shapes are considered since the mask is the black square with white pixel groups inside. "
   ]
  },
  {
   "cell_type": "markdown",
   "metadata": {},
   "source": [
    "2. The first hidden represents 6 linearly discriminatory boundaries that grant each discrete group of white pixels its own local area. The second hidden layer combines together the previous 6 linear boundaries into 4 non-linear, more complex boundaries. "
   ]
  },
  {
   "attachments": {
    "mask%20hidden_layer_2.png": {
     "image/png": "[encoded data removed]"
    },
    "mask_hidden_layer_1.png": {
     "image/png": "[encoded data removed]"
    }
   },
   "cell_type": "markdown",
   "metadata": {},
   "source": [
    "![mask_hidden_layer_1.png](attachment:mask_hidden_layer_1.png)![mask%20hidden_layer_2.png](attachment:mask%20hidden_layer_2.png)"
   ]
  },
  {
   "cell_type": "markdown",
   "metadata": {},
   "source": [
    "3. According to the Universal Approximator Theorem, yes. The theorem states that a MLP with only 1 single hidden layer can approximate any real continuous function with any dimensionality (1D or higher) for the input. Although the original function representing the mask is discrete (range of function is either 0 or 1), the sigmoid activation function is being used and allows outputs to be real decimal numbers between 0 and 1. At the border between black pixels and a white pixel group, the transition is a steep climb or fall without being an abrupt change from 0 to 1 or 1 to 0. This makes the function f(x, y) differentiable and thus continuous, as the sigmoid function itself is already known to be differentiable. Here, x and y are the first and second coordinates of the location of each pixel. "
   ]
  },
  {
   "cell_type": "markdown",
   "metadata": {},
   "source": [
    "# Problem 2 - Backpropagation\n",
    "\n",
    "Consider the following network: 1 input layer, 1 hidden layer and 1 output layer, each layer with 2 neurons.\n",
    "\n",
    "<div><img src=\"network.png\", width=\"700\"><!div>\n",
    "    \n",
    "All weights are initialized to the values shown (and there are no biases for simplicity). Consider the data point $x=[1,1]^T$ with desired output vector $d=[1,0]^T$. Complete one iteration of backpropagation by hand assuming a learning rate of $\\eta=0.1$. \n",
    "\n",
    "What would all the weight values be after one backpropagation iteration? Show your work. \n",
    "\n",
    "Use the sigmoid activation function: $\\phi(x) = \\frac{1}{1 + e^{-x}}$. Note that $\\frac{d\\phi(x)}{dx}=\\phi'(x) = \\phi(x)(1-\\phi(x))$."
   ]
  },
  {
   "cell_type": "markdown",
   "metadata": {},
   "source": []
  },
  {
   "cell_type": "markdown",
   "metadata": {},
   "source": [
    "# Problem 3 - Batch vs Online Learning\n",
    "\n",
    "In this problem, you will be working with the [Optical recognition of handwritten digits dataset](https://archive.ics.uci.edu/ml/datasets/Optical+Recognition+of+Handwritten+Digits).\n",
    "\n",
    "The Digits data set contains $8\\times 8$ images of digits (class labels 0, 1, 2, 3, 4, 5, 6, 7, 8 and 9). This data set has 60,000 images for training and 10,000 images for testing. Each image is a 8-bit grayscale image and so the intensity values per pixel range from 0-255.\n",
    "\n",
    "The following code cell loads the Digits data set."
   ]
  },
  {
   "cell_type": "markdown",
   "metadata": {},
   "source": [
    "In this problem you will be comparing the performance between (1) online and batch learning and (2) using different optimization algorithms (stochastic gradient descent or SGD, SGD with momentum, ADAM, etc.).\n",
    "\n",
    "The ```MLPClassifier``` parameters you will need to consider for this question are:\n",
    "\n",
    "* ```hidden_layer_sizes```, ```solver```, ```alpha```, ```batch_size```, ```learning_rate```, ```learning_rate_init```, ```momentum```, ```nesterovs_momentum``` and ```random_state```.\n",
    "\n",
    "Answer the following questions:\n",
    "\n",
    "1. **Online vs Batch learning** \n",
    "\n",
    "Create a fixed network architecture (for example, single hidden layer with 10 neurons), with a fixed learning rate (e.g. 0.001), consider 0 momentum and no Nesterov's momentum. I recommend you to fix the ```random_state``` to some seed so you can compare the results between runs.\n",
    "\n",
    "Using this setup, experiment with different batch sizes (batch = 1 is the same as doing online learning). Plot the learning curves for all models (single plot) and evaluate the accuracy results in test set for all cases. Provide a discussion about differences and advantages of online vs batch learning.\n",
    "\n",
    "(To plot learning curves, there's a method associated with ```sklearn``` functions called ```loss_curve_```. There is also another function called ```learning_curve``` from the ```model_selection``` module.)\n",
    "\n",
    "2. **Optimization Algorithms**\n",
    "\n",
    "Create a similar setup as in the previous step where now you will experiment with different learning algorithms, in particular: SGD with momentum, SGD with Nesterov's momentum and ADAM.\n",
    "\n",
    "Include learning curves for all models (single plot) and comment on the results. Which one worked better? Using what we learned in class, does the result match your expectation?\n",
    "\n",
    "3. **Comparison of Test Performance**\n",
    "\n",
    "Compare the test set performance for all learning strategies you have experimented with. Provide an overall discussion that addresses your earlier comments on parts 2 and 3 and relate them to how successful each strategy is generalization for test set.\n",
    "\n",
    "Provide any additional insightful comments on any particular of the network that would result in a significant impact in the test performance."
   ]
  },
  {
   "cell_type": "code",
   "execution_count": 43,
   "metadata": {},
   "outputs": [],
   "source": [
    "import numpy as np\n",
    "import matplotlib.pyplot as plt\n",
    "%matplotlib inline\n",
    "\n",
    "from sklearn.datasets import load_digits"
   ]
  },
  {
   "cell_type": "code",
   "execution_count": 44,
   "metadata": {
    "run_control": {
     "marked": false
    }
   },
   "outputs": [
    {
     "name": "stdout",
     "output_type": "stream",
     "text": [
      "(1797, 64)\n",
      "<class 'numpy.ndarray'>\n",
      "(1797,)\n",
      "<class 'numpy.ndarray'>\n",
      "[0 1 2 3 4 5 6 7 8 9]\n"
     ]
    }
   ],
   "source": [
    "X, y = load_digits(return_X_y = True)\n",
    "\n",
    "print(X.shape) \n",
    "print(type(X))\n",
    "print(y.shape)\n",
    "print(type(y))\n",
    "print(np.unique(y))"
   ]
  },
  {
   "cell_type": "code",
   "execution_count": 45,
   "metadata": {
    "scrolled": true
   },
   "outputs": [
    {
     "data": {
      "image/png": "[encoded data removed]",
      "text/plain": [
       "<Figure size 288x504 with 10 Axes>"
      ]
     },
     "metadata": {
      "needs_background": "light"
     },
     "output_type": "display_data"
    }
   ],
   "source": [
    "fig = plt.figure(figsize=(4,7))\n",
    "for i in range(10):\n",
    "    ax = fig.add_subplot(4,3,i+1)\n",
    "    ax.imshow(X[np.where(y==i)[0][1],:].reshape((8,8)), cmap='binary')\n",
    "    plt.title('Label '+str(i))"
   ]
  },
  {
   "cell_type": "code",
   "execution_count": 56,
   "metadata": {},
   "outputs": [
    {
     "name": "stderr",
     "output_type": "stream",
     "text": [
      "/Applications/anaconda3/lib/python3.7/site-packages/sklearn/neural_network/_multilayer_perceptron.py:571: ConvergenceWarning: Stochastic Optimizer: Maximum iterations (200) reached and the optimization hasn't converged yet.\n",
      "  % self.max_iter, ConvergenceWarning)\n",
      "/Applications/anaconda3/lib/python3.7/site-packages/sklearn/neural_network/_multilayer_perceptron.py:571: ConvergenceWarning: Stochastic Optimizer: Maximum iterations (200) reached and the optimization hasn't converged yet.\n",
      "  % self.max_iter, ConvergenceWarning)\n",
      "/Applications/anaconda3/lib/python3.7/site-packages/sklearn/neural_network/_multilayer_perceptron.py:571: ConvergenceWarning: Stochastic Optimizer: Maximum iterations (200) reached and the optimization hasn't converged yet.\n",
      "  % self.max_iter, ConvergenceWarning)\n",
      "/Applications/anaconda3/lib/python3.7/site-packages/sklearn/neural_network/_multilayer_perceptron.py:571: ConvergenceWarning: Stochastic Optimizer: Maximum iterations (200) reached and the optimization hasn't converged yet.\n",
      "  % self.max_iter, ConvergenceWarning)\n",
      "/Applications/anaconda3/lib/python3.7/site-packages/sklearn/neural_network/_multilayer_perceptron.py:571: ConvergenceWarning: Stochastic Optimizer: Maximum iterations (200) reached and the optimization hasn't converged yet.\n",
      "  % self.max_iter, ConvergenceWarning)\n"
     ]
    },
    {
     "data": {
      "image/png": "[encoded data removed]",
      "text/plain": [
       "<Figure size 432x288 with 1 Axes>"
      ]
     },
     "metadata": {
      "needs_background": "light"
     },
     "output_type": "display_data"
    }
   ],
   "source": [
    "import matplotlib.pyplot as plt \n",
    "import numpy as np \n",
    "import seaborn as sns\n",
    "from sklearn.neural_network import MLPClassifier \n",
    "from sklearn.model_selection import learning_curve\n",
    "%matplotlib inline \n",
    "\n",
    "scores=[]\n",
    "batch_size_list=[1, 100, 200, 300, 400, 500]\n",
    "for batch_size in batch_size_list: \n",
    "    mlp=MLPClassifier(hidden_layer_sizes=10, batch_size=batch_size, activation='logistic', learning_rate_init=0.001, random_state=0)\n",
    "    mlp.fit(X=X, y=y)\n",
    "    scores.append(mlp.score(X=X_train, y=y_train))\n",
    "\n",
    "sns.lineplot(x=batch_size_list, y=scores, color='blue')\n",
    "plt.grid(b=True, which='major', axis='both')\n",
    "plt.title(label='Accuracy Compared to Batch Size in MLP')\n",
    "plt.xlabel(xlabel='Batch Size')\n",
    "plt.ylabel(ylabel='Accuracy')\n",
    "plt.show()"
   ]
  },
  {
   "cell_type": "markdown",
   "metadata": {},
   "source": [
    "In essence, online learning updates the weights in a MLP after each input value, while batch learning updates weights only after a whole batch has gone through the neural network. If the total amount of input data is too big, then batch learning is not feasible in terms of time consumption. Online learning offers tuning on the go. Since online learning is the most frequent method of updating weights, accuracy tends to be higher than batch learning. Technically, the term 'batch learning' refers to accumulating the preferred changes to the weights over the whole dataset first. What was done in the previous cell is known as mini-batch learning, where the input data is broken into roughly equal-sized subsets first. As the batch size becomes smaller, weights change more frequently and accuracy goes up. "
   ]
  },
  {
   "cell_type": "code",
   "execution_count": 59,
   "metadata": {},
   "outputs": [
    {
     "name": "stderr",
     "output_type": "stream",
     "text": [
      "/Applications/anaconda3/lib/python3.7/site-packages/sklearn/neural_network/_multilayer_perceptron.py:571: ConvergenceWarning: Stochastic Optimizer: Maximum iterations (200) reached and the optimization hasn't converged yet.\n",
      "  % self.max_iter, ConvergenceWarning)\n",
      "/Applications/anaconda3/lib/python3.7/site-packages/sklearn/neural_network/_multilayer_perceptron.py:571: ConvergenceWarning: Stochastic Optimizer: Maximum iterations (200) reached and the optimization hasn't converged yet.\n",
      "  % self.max_iter, ConvergenceWarning)\n",
      "/Applications/anaconda3/lib/python3.7/site-packages/sklearn/neural_network/_multilayer_perceptron.py:571: ConvergenceWarning: Stochastic Optimizer: Maximum iterations (200) reached and the optimization hasn't converged yet.\n",
      "  % self.max_iter, ConvergenceWarning)\n",
      "/Applications/anaconda3/lib/python3.7/site-packages/sklearn/neural_network/_multilayer_perceptron.py:571: ConvergenceWarning: Stochastic Optimizer: Maximum iterations (200) reached and the optimization hasn't converged yet.\n",
      "  % self.max_iter, ConvergenceWarning)\n",
      "/Applications/anaconda3/lib/python3.7/site-packages/sklearn/neural_network/_multilayer_perceptron.py:571: ConvergenceWarning: Stochastic Optimizer: Maximum iterations (200) reached and the optimization hasn't converged yet.\n",
      "  % self.max_iter, ConvergenceWarning)\n",
      "/Applications/anaconda3/lib/python3.7/site-packages/sklearn/neural_network/_multilayer_perceptron.py:571: ConvergenceWarning: Stochastic Optimizer: Maximum iterations (200) reached and the optimization hasn't converged yet.\n",
      "  % self.max_iter, ConvergenceWarning)\n",
      "/Applications/anaconda3/lib/python3.7/site-packages/ipykernel_launcher.py:52: UserWarning: Legend does not support 'SGD w/ Momentum' instances.\n",
      "A proxy artist may be used instead.\n",
      "See: http://matplotlib.org/users/legend_guide.html#creating-artists-specifically-for-adding-to-the-legend-aka-proxy-artists\n",
      "/Applications/anaconda3/lib/python3.7/site-packages/ipykernel_launcher.py:52: UserWarning: Legend does not support 'SGD w/ Nesterov Momentum' instances.\n",
      "A proxy artist may be used instead.\n",
      "See: http://matplotlib.org/users/legend_guide.html#creating-artists-specifically-for-adding-to-the-legend-aka-proxy-artists\n",
      "/Applications/anaconda3/lib/python3.7/site-packages/ipykernel_launcher.py:52: UserWarning: Legend does not support 'ADAM' instances.\n",
      "A proxy artist may be used instead.\n",
      "See: http://matplotlib.org/users/legend_guide.html#creating-artists-specifically-for-adding-to-the-legend-aka-proxy-artists\n"
     ]
    },
    {
     "data": {
      "image/png": "[encoded data removed]",
      "text/plain": [
       "<Figure size 432x288 with 1 Axes>"
      ]
     },
     "metadata": {
      "needs_background": "light"
     },
     "output_type": "display_data"
    }
   ],
   "source": [
    "import matplotlib.pyplot as plt \n",
    "import numpy as np \n",
    "from sklearn.neural_network import MLPClassifier \n",
    "from sklearn.model_selection import learning_curve\n",
    "%matplotlib inline \n",
    "\n",
    "mlp_sgd_m=MLPClassifier(\n",
    "    hidden_layer_sizes=10, \n",
    "    solver='sgd', \n",
    "    activation='logistic', \n",
    "    learning_rate_init=0.001, \n",
    "    random_state=0, \n",
    "    momentum=1.0, \n",
    "    nesterovs_momentum=False\n",
    ")\n",
    "\n",
    "mlp_sgd_nm=MLPClassifier(\n",
    "    hidden_layer_sizes=10, \n",
    "    solver='sgd', \n",
    "    activation='logistic', \n",
    "    learning_rate_init=0.001, \n",
    "    random_state=0, \n",
    "    momentum=1.0, \n",
    "    nesterovs_momentum=True\n",
    ")\n",
    "\n",
    "mlp_adam=MLPClassifier(\n",
    "    hidden_layer_sizes=10, \n",
    "    solver='adam', \n",
    "    activation='logistic', \n",
    "    learning_rate_init=0.001, \n",
    "    random_state=0, \n",
    "    momentum=0,\n",
    "    nesterovs_momentum=False\n",
    ")\n",
    "\n",
    "sgd_m_scores=[]\n",
    "sgd_mn_scores=[]\n",
    "adam_scores=[]\n",
    "batch_size_list=[1, 100, 200, 300, 400, 500]\n",
    "for batch_size in batch_size_list: \n",
    "    mlp_sgd_m.fit(X=X, y=y)\n",
    "    sgd_m_scores.append(mlp_sgd_m.score(X=X, y=y))\n",
    "    mlp_sgd_nm.fit(X=X, y=y)\n",
    "    sgd_mn_scores.append(mlp_sgd_nm.score(X=X, y=y))\n",
    "    mlp_adam.fit(X=X, y=y) \n",
    "    adam_scores.append(mlp_adam.score(X=X, y=y))\n",
    "\n",
    "sns.lineplot(x=batch_size_list, y=sgd_m_scores, color='blue')\n",
    "sns.lineplot(x=batch_size_list, y=sgd_mn_scores, color='green')\n",
    "sns.lineplot(x=batch_size_list, y=adam_scores, color='purple')\n",
    "plt.legend(['SGD w/ Momentum', 'SGD w/ Nesterov Momentum', 'ADAM'], 'lower right')\n",
    "plt.grid(b=True, which='major', axis='both')\n",
    "plt.title(label='Accuracy Between MLP Learning Algorithms')\n",
    "plt.xlabel(xlabel='Batch Size')\n",
    "plt.ylabel(ylabel='Accuracy')\n",
    "plt.show()"
   ]
  },
  {
   "cell_type": "markdown",
   "metadata": {},
   "source": [
    "All 3 learning algorithms performed pretty well in terms of accuracy. However, ADAM performed the best. While SGD computes stochastic estimates of the gradient, ADAM is an upgrade by combining RMSProp and features of SGD. By using squared gradients and taking benefit of momentum too, ADAM is a preferred learning method for deep learning. "
   ]
  },
  {
   "cell_type": "markdown",
   "metadata": {},
   "source": [
    "## Submit your Solution\n",
    "\n",
    "Along with your Jupyter Notebook answers, create a PDF of the notebook with your solutions.\n",
    "\n",
    "As always, `add` and `commit` the final version of your work, and `push` your code to your GitHub repository.\n",
    "\n",
    "* Submit the **URL** of your GitHub Repository as your assignment submission on Canvas."
   ]
  }
 ],
 "metadata": {
  "kernelspec": {
   "display_name": "Python 3",
   "language": "python",
   "name": "python3"
  },
  "language_info": {
   "codemirror_mode": {
    "name": "ipython",
    "version": 3
   },
   "file_extension": ".py",
   "mimetype": "text/x-python",
   "name": "python",
   "nbconvert_exporter": "python",
   "pygments_lexer": "ipython3",
   "version": "3.7.3"
  },
  "latex_envs": {
   "LaTeX_envs_menu_present": true,
   "autoclose": true,
   "autocomplete": true,
   "bibliofile": "biblio.bib",
   "cite_by": "apalike",
   "current_citInitial": 1,
   "eqLabelWithNumbers": true,
   "eqNumInitial": 1,
   "hotkeys": {
    "equation": "Ctrl-E",
    "itemize": "Ctrl-I"
   },
   "labels_anchors": false,
   "latex_user_defs": false,
   "report_style_numbering": false,
   "user_envs_cfg": false
  }
 },
 "nbformat": 4,
 "nbformat_minor": 2
}
