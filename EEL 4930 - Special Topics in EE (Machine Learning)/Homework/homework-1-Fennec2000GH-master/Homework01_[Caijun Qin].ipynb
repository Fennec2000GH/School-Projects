{
 "cells": [
  {
   "cell_type": "markdown",
   "metadata": {},
   "source": [
    "#Homework 01"
   ]
  },
  {
   "cell_type": "markdown",
   "metadata": {},
   "source": [
    "Step 1\n",
    "-------"
   ]
  },
  {
   "cell_type": "markdown",
   "metadata": {},
   "source": [
    "What is Machine Learning? \n",
    "\n",
    "Machine Learning (ML) is a very far-reaching subject in computer science with important uses in data science, artificial intelligence, and more. It is a data-oriented approach to train a system into completing a certain task. Regardless of purpose, most machine learning models depend on data being fed into it. For models that predict or classify data into categories, more data used in training usually equates to higher accuracy when utilizing the model on new data. ML uses many features in statistics and computer science to help make more accurate decisions, such as regression models, decision trees, and error analysis functions. "
   ]
  },
  {
   "cell_type": "markdown",
   "metadata": {},
   "source": [
    "Step 2\n",
    "--------"
   ]
  },
  {
   "cell_type": "code",
   "execution_count": 1,
   "metadata": {},
   "outputs": [
    {
     "data": {
      "text/plain": [
       "<Figure size 640x480 with 1 Axes>"
      ]
     },
     "metadata": {},
     "output_type": "display_data"
    },
    {
     "data": {
      "text/plain": [
       "[Text(0, 0.5, 'y = sin(x)'), Text(0.5, 0, 'x'), Text(0.5, 1.0, 'Step 2')]"
      ]
     },
     "execution_count": 1,
     "metadata": {},
     "output_type": "execute_result"
    }
   ],
   "source": [
    "import numpy as np\n",
    "import matplotlib.pyplot as plt \n",
    "x = np.linspace(0, 10, 100)\n",
    "plt.plot(x, np.sin(x), c = \"green\")\n",
    "plt.title(\"Step 2\")\n",
    "plt.xlabel(\"x\")\n",
    "plt.ylabel(\"y = sin(x)\")\n",
    "plt.grid(b = True, which = \"Major\", axis = \"both\", c = \"gray\", alpha = 0.5)\n",
    "plt.show()\n",
    "\n",
    "import seaborn as sb \n",
    "plot2 = sb.lineplot(x = x, y = np.sin(x), color = \"green\") \n",
    "sb.set_style(\"whitegrid\", {\"grid.color\": \"gray\", \"grid.alpha\": \"0.5\"}) \n",
    "plot2.set(title = \"Step 2\", xlabel = \"x\", ylabel = \"y = sin(x)\")\n",
    "\n"
   ]
  },
  {
   "cell_type": "markdown",
   "metadata": {},
   "source": [
    "Step 3\n",
    "--------"
   ]
  },
  {
   "cell_type": "code",
   "execution_count": 2,
   "metadata": {
    "scrolled": false
   },
   "outputs": [
    {
     "data": {
      "text/plain": [
       "Text(0, 0.5, 'y')"
      ]
     },
     "execution_count": 2,
     "metadata": {},
     "output_type": "execute_result"
    },
    {
     "data": {
      "image/png": "[encoded data removed]",
      "text/plain": [
       "<Figure size 432x288 with 1 Axes>"
      ]
     },
     "metadata": {
      "needs_background": "light"
     },
     "output_type": "display_data"
    }
   ],
   "source": [
    "import numpy.random as npr \n",
    "import matplotlib.pyplot as plt \n",
    "\n",
    "x = npr.random_sample(size = 100)\n",
    "z = npr.random_sample(size = 100) \n",
    "y = 2*x - 10 + z\n",
    "\n",
    "plt.scatter(x = x, y = y, c = \"purple\", alpha = 0.65)\n",
    "plt.grid(b = True, which = \"Major\", axis = \"both\", c = \"black\") \n",
    "plt.title(\"Step 3\") \n",
    "plt.xlabel(\"x\") \n",
    "plt.ylabel(\"y\") \n"
   ]
  },
  {
   "cell_type": "markdown",
   "metadata": {},
   "source": [
    "Step 4\n",
    "--------"
   ]
  },
  {
   "cell_type": "code",
   "execution_count": 3,
   "metadata": {},
   "outputs": [],
   "source": [
    "f = 50*x - 20*x*y + 10*y + 18 + z "
   ]
  },
  {
   "cell_type": "markdown",
   "metadata": {},
   "source": [
    "The above model is a function of 2 variables (x, y) with z being noise. This model to predict age assumes that x and y have way more impact on the output than noise z. The model takes the general form f = Ax - Bxy + Cy + c + z, with A, B, C, and c being positive constants. This model takes into consideration of all edge cases i.e. combinations of cane present/absent and suitcase present/absent. The constant c = 18 describes the age if neither cane nor suitcase are present. 18 is a good initial age being the age when people just graduate high school. Noise z may result in younger ages which obviously do not work and do not rely on a cane to walk, or result in ages slightly above 18 corresponding to young adults in college and not yet employed. If only the suitcase is present, then y = 1 and 10 is added, resulting in age centered around 28. This approximately aligns with Ph.D., medical school, and some vocational school graduates who just entered the workforce. Middle-age working people are represented by positive z added to 28. People who have worked for a long time but not retired yet have a predicted age centered around 58, with x = y = 1. Finally, retirees and elders indicate that only x = 1, resulting in a predicted age centered around 68. Of course, coefficients may be tweaked differently for different scenarios, such as adjusting to a specific country's labor laws and retirement laws. "
   ]
  }
 ],
 "metadata": {
  "kernelspec": {
   "display_name": "Python 3",
   "language": "python",
   "name": "python3"
  },
  "language_info": {
   "codemirror_mode": {
    "name": "ipython",
    "version": 3
   },
   "file_extension": ".py",
   "mimetype": "text/x-python",
   "name": "python",
   "nbconvert_exporter": "python",
   "pygments_lexer": "ipython3",
   "version": "3.7.3"
  }
 },
 "nbformat": 4,
 "nbformat_minor": 2
}
