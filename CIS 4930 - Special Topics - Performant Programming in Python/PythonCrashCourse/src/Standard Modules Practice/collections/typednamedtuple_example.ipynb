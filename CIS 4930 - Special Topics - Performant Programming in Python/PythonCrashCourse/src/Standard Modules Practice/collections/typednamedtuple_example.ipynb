{
 "cells": [
  {
   "cell_type": "markdown",
   "metadata": {},
   "source": [
    "# Typed NameTuple"
   ]
  },
  {
   "cell_type": "markdown",
   "metadata": {},
   "source": [
    "class typing.NamedTuple\n",
    "\n",
    "Typed version of collections.namedtuple()"
   ]
  },
  {
   "cell_type": "code",
   "execution_count": 9,
   "metadata": {},
   "outputs": [
    {
     "name": "stdout",
     "output_type": "stream",
     "text": [
      "<class '__main__.Employee'>\n",
      "Employee(name='SpongeBob', id=120)\n",
      "Employee(name=0, id='120')\n"
     ]
    }
   ],
   "source": [
    "\n",
    "from typing import NamedTuple\n",
    "\n",
    "class Employee(NamedTuple): \n",
    "    name: str\n",
    "    id: int\n",
    "\n",
    "e = Employee(name='SpongeBob', id=120)\n",
    "print(type(e))\n",
    "print(e)\n",
    "e = Employee(name=0, id='120')\n",
    "print(e)\n"
   ]
  },
  {
   "cell_type": "code",
   "execution_count": 10,
   "metadata": {},
   "outputs": [
    {
     "name": "stdout",
     "output_type": "stream",
     "text": [
      "<class '__main__.Employee'>\n",
      "Employee(name='nobody', id=0)\n"
     ]
    }
   ],
   "source": [
    "\n",
    "from typing import NamedTuple\n",
    "\n",
    "class Employee(NamedTuple):\n",
    "    name: str='nobody'\n",
    "    id: int=0\n",
    "\n",
    "e = Employee()\n",
    "print(type(e))\n",
    "print(e)\n"
   ]
  },
  {
   "cell_type": "code",
   "execution_count": 13,
   "metadata": {},
   "outputs": [
    {
     "name": "stdout",
     "output_type": "stream",
     "text": [
      "<class 'type'>\n",
      "<class '__main__.Employee'>\n"
     ]
    }
   ],
   "source": [
    "\n",
    "e = NamedTuple(typename='Employee')\n",
    "print(type(e))\n",
    "print(e)\n"
   ]
  }
 ],
 "metadata": {
  "kernelspec": {
   "display_name": "Python 3",
   "language": "python",
   "name": "python3"
  },
  "language_info": {
   "codemirror_mode": {
    "name": "ipython",
    "version": 3
   },
   "file_extension": ".py",
   "mimetype": "text/x-python",
   "name": "python",
   "nbconvert_exporter": "python",
   "pygments_lexer": "ipython3",
   "version": "3.7.6"
  },
  "varInspector": {
   "cols": {
    "lenName": 16,
    "lenType": 16,
    "lenVar": 40
   },
   "kernels_config": {
    "python": {
     "delete_cmd_postfix": "",
     "delete_cmd_prefix": "del ",
     "library": "var_list.py",
     "varRefreshCmd": "print(var_dic_list())"
    },
    "r": {
     "delete_cmd_postfix": ") ",
     "delete_cmd_prefix": "rm(",
     "library": "var_list.r",
     "varRefreshCmd": "cat(var_dic_list()) "
    }
   },
   "types_to_exclude": [
    "module",
    "function",
    "builtin_function_or_method",
    "instance",
    "_Feature"
   ],
   "window_display": false
  }
 },
 "nbformat": 4,
 "nbformat_minor": 4
}
