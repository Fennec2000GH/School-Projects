{
 "cells": [
  {
   "cell_type": "markdown",
   "metadata": {},
   "source": [
    "# Collections.Deque"
   ]
  },
  {
   "cell_type": "markdown",
   "metadata": {},
   "source": [
    "class collections.deque([iterable[, maxlen]])\n",
    "Returns a new deque object initialized left-to-right (using append()) with data from iterable. If iterable is not specified,the new deque is empty.\n",
    "\n",
    "Deques are a generalization of stacks and queues (the name is pronounced “deck” and is short for “double-ended queue”).\n",
    "\n",
    "Deques support thread-safe, memory efficient appends and pops from either side of the deque with approximately the same O(1) performance in either direction."
   ]
  },
  {
   "cell_type": "markdown",
   "metadata": {},
   "source": [
    "append(x)\n",
    "Add x to the right side of the deque."
   ]
  },
  {
   "cell_type": "code",
   "execution_count": 61,
   "metadata": {},
   "outputs": [
    {
     "name": "stdout",
     "output_type": "stream",
     "text": [
      "<class 'collections.deque'>\n",
      "deque([1, 2, 3, 4, 5, 6, 7, 8, 9, 10], maxlen=52)\n"
     ]
    }
   ],
   "source": [
    "\n",
    "from collections import deque\n",
    "import numpy as np\n",
    "\n",
    "card_deck = deque(iterable=range(1, 11), maxlen=52)\n",
    "print(type(card_deck))\n",
    "print(card_deck)\n"
   ]
  },
  {
   "cell_type": "markdown",
   "metadata": {},
   "source": [
    "appendleft(x)\n",
    "Add x to the left side of the deque."
   ]
  },
  {
   "cell_type": "code",
   "execution_count": 62,
   "metadata": {},
   "outputs": [
    {
     "name": "stdout",
     "output_type": "stream",
     "text": [
      "deque(['6', '3', 'A'])\n"
     ]
    }
   ],
   "source": [
    "\n",
    "card_deck = deque()\n",
    "card_deck.appendleft('A')\n",
    "card_deck.appendleft('3')\n",
    "card_deck.appendleft('6')\n",
    "print(card_deck)\n"
   ]
  },
  {
   "cell_type": "markdown",
   "metadata": {},
   "source": [
    "clear()\n",
    "Remove all elements from the deque leaving it with length 0."
   ]
  },
  {
   "cell_type": "code",
   "execution_count": 63,
   "metadata": {},
   "outputs": [
    {
     "name": "stdout",
     "output_type": "stream",
     "text": [
      "deque(['a', 'b', 'c', 'd', 'e', 'f', 'g', 'h'])\n",
      "0\n",
      "deque([])\n"
     ]
    }
   ],
   "source": [
    "\n",
    "card_deck = deque(iterable=list('abcdefgh'))\n",
    "print(card_deck)\n",
    "card_deck.clear()\n",
    "print(len(card_deck))\n",
    "print(card_deck)\n"
   ]
  },
  {
   "cell_type": "markdown",
   "metadata": {},
   "source": [
    "copy()\n",
    "Create a shallow copy of the deque."
   ]
  },
  {
   "cell_type": "code",
   "execution_count": 64,
   "metadata": {},
   "outputs": [
    {
     "name": "stdout",
     "output_type": "stream",
     "text": [
      "True\n",
      "deque(['A', 'J', 'Q', 'K', 'Joker'])\n",
      "deque(['A', 'J', 'Q', 'K'])\n"
     ]
    }
   ],
   "source": [
    "\n",
    "royal = deque(iterable=['A', 'J', 'Q', 'K'])\n",
    "card_deck = royal.copy()\n",
    "print(royal == card_deck)\n",
    "royal.append('Joker')\n",
    "print(royal)\n",
    "print(card_deck)\n"
   ]
  },
  {
   "cell_type": "code",
   "execution_count": 65,
   "metadata": {},
   "outputs": [
    {
     "name": "stdout",
     "output_type": "stream",
     "text": [
      "deque([1, 2, 3, 4, 5, 6, 7, 8, 9, 10, 4, 4, 4, 4, 4, 4, 4, 4, 4, 4, 4, 4])\n",
      "13\n"
     ]
    }
   ],
   "source": [
    "# count(x)\n",
    "# Count the number of deque elements equal to x.\n",
    "\n",
    "card_deck = deque(iterable=range(1, 11))\n",
    "card_deck.extend(np.tile(4, reps=12))\n",
    "print(card_deck)\n",
    "print(card_deck.count(4))\n"
   ]
  },
  {
   "cell_type": "markdown",
   "metadata": {},
   "source": [
    "extend(iterable)\n",
    "Extend the right side of the deque by appending elements from the iterable argument."
   ]
  },
  {
   "cell_type": "code",
   "execution_count": 66,
   "metadata": {},
   "outputs": [
    {
     "name": "stdout",
     "output_type": "stream",
     "text": [
      "deque([1, 1, 1, 1, 1, 1, 1, 1, 1, 1, 1, 1])\n"
     ]
    }
   ],
   "source": [
    "\n",
    "card_deck = deque()\n",
    "card_deck.extend(np.ones(shape=(12, ), dtype='int32'))\n",
    "print(card_deck)\n"
   ]
  },
  {
   "cell_type": "markdown",
   "metadata": {},
   "source": [
    "extendleft(iterable)\n",
    "Extend the left side of the deque by appending elements from iterable. Note, the series of left appends results in reversing the order of elements in the iterable argument."
   ]
  },
  {
   "cell_type": "code",
   "execution_count": 67,
   "metadata": {},
   "outputs": [
    {
     "name": "stdout",
     "output_type": "stream",
     "text": [
      "deque([0.0, 0.0, 0.0, 0.0, 0.0, 0.0, 0.0, 0.0, 0.0, 0.0, 0.0, 0.0, 1, 1, 1, 1, 1, 1, 1, 1, 1, 1, 1, 1])\n"
     ]
    }
   ],
   "source": [
    "\n",
    "card_deck.extendleft(np.zeros(shape=(12, )).flatten())\n",
    "print(card_deck)\n"
   ]
  },
  {
   "cell_type": "markdown",
   "metadata": {},
   "source": [
    "index(x[, start[, stop]])\n",
    "Return the position of x in the deque (at or after index start and before index stop). Returns the first match or raises ValueError if not found."
   ]
  },
  {
   "cell_type": "code",
   "execution_count": 68,
   "metadata": {},
   "outputs": [
    {
     "name": "stdout",
     "output_type": "stream",
     "text": [
      "A is not an existing value!\n",
      "deque([0.0, 0.0, 0.0, 0.0, 0.0, 0.0, 0.0, 0.0, 0.0, 0.0, 0.0, 0.0, 1, 1, 1, 1, 1, 1, 1, 1, 1, 1, 1, 1])\n",
      "0\n",
      "12\n"
     ]
    }
   ],
   "source": [
    "\n",
    "try:\n",
    "    A_index = card_deck.index('A')\n",
    "except:\n",
    "    print('A is not an existing value!')\n",
    "\n",
    "print(card_deck)\n",
    "print(card_deck.index(0, 0, 4))\n",
    "print(card_deck.index(1, 0, len(card_deck)))\n"
   ]
  },
  {
   "cell_type": "markdown",
   "metadata": {},
   "source": [
    "insert(i, x)\n",
    "Insert x into the deque at position i. If the insertion would cause a bounded deque to grow beyond maxlen, an IndexError is raised."
   ]
  },
  {
   "cell_type": "code",
   "execution_count": 69,
   "metadata": {},
   "outputs": [
    {
     "name": "stdout",
     "output_type": "stream",
     "text": [
      "deque([2, 3, 0, 1, 6], maxlen=10)\n",
      "deque([2, 0, 0, 0, 0, 0, 3, 0, 1, 6], maxlen=10)\n",
      "deque([-1, 0, 0, 0, 0, 0, 3, 0, 1, 6], maxlen=10)\n"
     ]
    }
   ],
   "source": [
    "\n",
    "card_deck = deque(iterable=[2 ^ x for x in np.arange(5)], maxlen=10)\n",
    "print(card_deck)\n",
    "for count in range(5):\n",
    "    card_deck.insert(1, 0)\n",
    "print(card_deck)\n",
    "card_deck[0] = -1\n",
    "print(card_deck)\n"
   ]
  },
  {
   "cell_type": "markdown",
   "metadata": {},
   "source": [
    "pop()\n",
    "Remove and return an element from the right side of the deque. If no elements are present, raises an IndexError."
   ]
  },
  {
   "cell_type": "code",
   "execution_count": 70,
   "metadata": {},
   "outputs": [
    {
     "name": "stdout",
     "output_type": "stream",
     "text": [
      "deque(['A', 'B', 'C', 'D'])\n",
      "D\n",
      "deque(['A', 'B', 'C'])\n"
     ]
    }
   ],
   "source": [
    "\n",
    "card_deck = deque(iterable=['A', 'B', 'C', 'D'])\n",
    "print(card_deck)\n",
    "right = card_deck.pop()\n",
    "print(right)\n",
    "print(card_deck)\n"
   ]
  },
  {
   "cell_type": "markdown",
   "metadata": {},
   "source": [
    "popleft()\n",
    "Remove and return an element from the left side of the deque. If no elements are present, raises an IndexError."
   ]
  },
  {
   "cell_type": "code",
   "execution_count": 71,
   "metadata": {},
   "outputs": [
    {
     "name": "stdout",
     "output_type": "stream",
     "text": [
      "A\n",
      "deque(['B', 'C'])\n"
     ]
    }
   ],
   "source": [
    "\n",
    "left = card_deck.popleft()\n",
    "print(left)\n",
    "print(card_deck)\n"
   ]
  },
  {
   "cell_type": "markdown",
   "metadata": {},
   "source": [
    "remove(value)\n",
    "Remove the first occurrence of value. If not found, raises a ValueError."
   ]
  },
  {
   "cell_type": "code",
   "execution_count": 72,
   "metadata": {},
   "outputs": [
    {
     "name": "stdout",
     "output_type": "stream",
     "text": [
      "deque([10, 14, 16, 18, 20])\n"
     ]
    }
   ],
   "source": [
    "\n",
    "card_deck = deque(iterable=range(10, 21, 2))\n",
    "card_deck.remove(12)\n",
    "print(card_deck)\n"
   ]
  },
  {
   "cell_type": "markdown",
   "metadata": {},
   "source": [
    "reverse()\n",
    "Reverse the elements of the deque in-place and then return None."
   ]
  },
  {
   "cell_type": "code",
   "execution_count": 73,
   "metadata": {},
   "outputs": [
    {
     "name": "stdout",
     "output_type": "stream",
     "text": [
      "deque(['6', '5', '4', '3', '2', '1'])\n"
     ]
    }
   ],
   "source": [
    "\n",
    "card_deck = deque(iterable=['1', '2', '3', '4', '5', '6'])\n",
    "card_deck.reverse()\n",
    "print(card_deck)\n"
   ]
  },
  {
   "cell_type": "markdown",
   "metadata": {},
   "source": [
    "rotate(n=1)\n",
    "Rotate the deque n steps to the right. If n is negative, rotate to the left. When the deque is not empty, rotating one step to the right is equivalent to d.appendleft(d.pop()), and rotating one step to the left is equivalent to d.append(d.popleft())."
   ]
  },
  {
   "cell_type": "code",
   "execution_count": 74,
   "metadata": {},
   "outputs": [
    {
     "name": "stdout",
     "output_type": "stream",
     "text": [
      "deque(['cat', 'dog', 'goat', 'sheep', 'snake', 'zebra'])\n",
      "deque(['sheep', 'snake', 'zebra', 'cat', 'dog', 'goat'])\n"
     ]
    }
   ],
   "source": [
    "\n",
    "card_deck = deque(iterable=[\"cat\", \"dog\", \"goat\", \"sheep\", \"snake\", \"zebra\"])\n",
    "print(card_deck)\n",
    "card_deck.rotate(3)\n",
    "print(card_deck)\n"
   ]
  },
  {
   "cell_type": "markdown",
   "metadata": {},
   "source": [
    "Deque objects also provide one read-only attribute:\n",
    "maxlen\n",
    "Maximum size of a deque or None if unbounded."
   ]
  },
  {
   "cell_type": "code",
   "execution_count": 75,
   "metadata": {},
   "outputs": [
    {
     "name": "stdout",
     "output_type": "stream",
     "text": [
      "deque([18, 9, 7, 8, 9, 10, 9, 15, 14, 1], maxlen=120)\n",
      "120\n"
     ]
    }
   ],
   "source": [
    "\n",
    "card_deck = deque(iterable=np.random.randint(1, 20, 10), maxlen=120)\n",
    "print(card_deck)\n",
    "print(card_deck.maxlen)\n"
   ]
  }
 ],
 "metadata": {
  "kernelspec": {
   "display_name": "Python 3",
   "language": "python",
   "name": "python3"
  },
  "language_info": {
   "codemirror_mode": {
    "name": "ipython",
    "version": 3
   },
   "file_extension": ".py",
   "mimetype": "text/x-python",
   "name": "python",
   "nbconvert_exporter": "python",
   "pygments_lexer": "ipython3",
   "version": "3.7.6"
  },
  "varInspector": {
   "cols": {
    "lenName": 16,
    "lenType": 16,
    "lenVar": 40
   },
   "kernels_config": {
    "python": {
     "delete_cmd_postfix": "",
     "delete_cmd_prefix": "del ",
     "library": "var_list.py",
     "varRefreshCmd": "print(var_dic_list())"
    },
    "r": {
     "delete_cmd_postfix": ") ",
     "delete_cmd_prefix": "rm(",
     "library": "var_list.r",
     "varRefreshCmd": "cat(var_dic_list()) "
    }
   },
   "types_to_exclude": [
    "module",
    "function",
    "builtin_function_or_method",
    "instance",
    "_Feature"
   ],
   "window_display": false
  }
 },
 "nbformat": 4,
 "nbformat_minor": 4
}
