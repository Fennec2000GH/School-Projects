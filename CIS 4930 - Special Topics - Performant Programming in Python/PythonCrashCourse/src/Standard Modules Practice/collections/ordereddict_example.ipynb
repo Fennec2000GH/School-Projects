{
 "cells": [
  {
   "cell_type": "markdown",
   "metadata": {},
   "source": [
    "# Collections.OrderedDict"
   ]
  },
  {
   "cell_type": "markdown",
   "metadata": {},
   "source": [
    "class collections.OrderedDict([items])\n",
    "\n",
    "Return an instance of a dict subclass that has methods specialized for rearranging dictionary order."
   ]
  },
  {
   "cell_type": "code",
   "execution_count": 13,
   "metadata": {},
   "outputs": [
    {
     "name": "stdout",
     "output_type": "stream",
     "text": [
      "OrderedDict([(0, 1), (1, 10), (2, 100), (3, 1000), (4, 10000), (5, 100000), (6, 1000000), (7, 10000000), (8, 100000000), (9, 1000000000)])\n"
     ]
    }
   ],
   "source": [
    "\n",
    "from collections import OrderedDict\n",
    "\n",
    "od = OrderedDict()\n",
    "od.update((n, pow(10, n)) for n in range(10))\n",
    "print(od)\n"
   ]
  },
  {
   "cell_type": "markdown",
   "metadata": {},
   "source": [
    "popitem(last=True)\n",
    "\n",
    "The popitem() method for ordered dictionaries returns and removes a (key, value) pair. The pairs are returned in LIFO order if last is true or FIFO order if false."
   ]
  },
  {
   "cell_type": "code",
   "execution_count": 14,
   "metadata": {},
   "outputs": [
    {
     "name": "stdout",
     "output_type": "stream",
     "text": [
      "OrderedDict([(0, 1), (1, 10), (2, 100), (3, 1000), (4, 10000), (5, 100000), (6, 1000000), (7, 10000000), (8, 100000000)])\n",
      "OrderedDict([(1, 10), (2, 100), (3, 1000), (4, 10000), (5, 100000), (6, 1000000), (7, 10000000), (8, 100000000)])\n"
     ]
    }
   ],
   "source": [
    "\n",
    "od.popitem(last=True)\n",
    "print(od)\n",
    "od.popitem(last=False)\n",
    "print(od)\n"
   ]
  },
  {
   "cell_type": "markdown",
   "metadata": {},
   "source": [
    "move_to_end(key, last=True)\n",
    "\n",
    "Move an existing key to either end of an ordered dictionary. The item is moved to the right end if last is true (the default) or to the beginning if last is false. Raises KeyError if the key does not exist:"
   ]
  },
  {
   "cell_type": "code",
   "execution_count": 15,
   "metadata": {},
   "outputs": [
    {
     "name": "stdout",
     "output_type": "stream",
     "text": [
      "OrderedDict([(1, 10), (2, 100), (3, 1000), (5, 100000), (6, 1000000), (7, 10000000), (8, 100000000), (4, 10000)])\n",
      "OrderedDict([(3, 1000), (1, 10), (2, 100), (5, 100000), (6, 1000000), (7, 10000000), (8, 100000000), (4, 10000)])\n"
     ]
    }
   ],
   "source": [
    "\n",
    "od.move_to_end(key=4, last=True)\n",
    "print(od)\n",
    "od.move_to_end(key=3, last=False)\n",
    "print(od)\n"
   ]
  }
 ],
 "metadata": {
  "kernelspec": {
   "display_name": "Python 3",
   "language": "python",
   "name": "python3"
  },
  "language_info": {
   "codemirror_mode": {
    "name": "ipython",
    "version": 3
   },
   "file_extension": ".py",
   "mimetype": "text/x-python",
   "name": "python",
   "nbconvert_exporter": "python",
   "pygments_lexer": "ipython3",
   "version": "3.7.6"
  },
  "varInspector": {
   "cols": {
    "lenName": 16,
    "lenType": 16,
    "lenVar": 40
   },
   "kernels_config": {
    "python": {
     "delete_cmd_postfix": "",
     "delete_cmd_prefix": "del ",
     "library": "var_list.py",
     "varRefreshCmd": "print(var_dic_list())"
    },
    "r": {
     "delete_cmd_postfix": ") ",
     "delete_cmd_prefix": "rm(",
     "library": "var_list.r",
     "varRefreshCmd": "cat(var_dic_list()) "
    }
   },
   "types_to_exclude": [
    "module",
    "function",
    "builtin_function_or_method",
    "instance",
    "_Feature"
   ],
   "window_display": false
  }
 },
 "nbformat": 4,
 "nbformat_minor": 4
}
