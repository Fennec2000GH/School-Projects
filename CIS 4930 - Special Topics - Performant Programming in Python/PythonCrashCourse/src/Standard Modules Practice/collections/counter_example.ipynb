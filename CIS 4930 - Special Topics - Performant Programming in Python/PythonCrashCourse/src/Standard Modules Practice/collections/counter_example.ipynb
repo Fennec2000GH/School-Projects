{
 "cells": [
  {
   "cell_type": "markdown",
   "metadata": {},
   "source": [
    "# Collections.Counter"
   ]
  },
  {
   "cell_type": "markdown",
   "metadata": {},
   "source": [
    "class collections.Counter([iterable-or-mapping])\n",
    "\n",
    "A Counter is a dict subclass for counting hashable objects. It is a collection where elements are stored as dictionary keys and their counts are stored as dictionary values. Counts are allowed to be any integer value including zero or negative counts. The Counter class is similar to bags or multisets in other languages."
   ]
  },
  {
   "cell_type": "code",
   "execution_count": 1,
   "metadata": {},
   "outputs": [],
   "source": [
    "from collections import Counter\n",
    "\n",
    "C = Counter() # empty Counter\n",
    "C = Counter(['a' * 3, 'b' * 2, 'c']) # Counter from iterable\n",
    "C = Counter({'violet': 3, 'purple': 6}) # Counter from dictionary\n",
    "C = Counter(rabbit=24, duck=12) # Counter from keyword args\n"
   ]
  },
  {
   "cell_type": "code",
   "execution_count": 3,
   "metadata": {},
   "outputs": [
    {
     "name": "stdout",
     "output_type": "stream",
     "text": [
      "Counter({1: 6, 2: 3, 3: 1, 4: 1})\n",
      "0\n",
      "6\n",
      "3\n",
      "Counter({1: 3, 2: 3, 3: 1, 4: 1})\n",
      "0\n",
      "Counter({2: 3, 3: 1, 4: 1})\n"
     ]
    }
   ],
   "source": [
    "\n",
    "C = Counter([1, 1, 1, 1, 1, 1, 2, 2, 2, 3, 4])\n",
    "print(C)\n",
    "print(C['missing item'])\n",
    "\n",
    "# setting count of specific eleent to another number does not physically change original iterable\n",
    "print(C[1])\n",
    "C[1] = 3\n",
    "print(C[1])\n",
    "print(C)\n",
    "del C[1]\n",
    "print(C[1])\n",
    "print(C)\n"
   ]
  },
  {
   "cell_type": "markdown",
   "metadata": {},
   "source": [
    "elements()\n",
    "\n",
    "Return an iterator over elements repeating each as many times as its count. Elements are returned in the order first encountered. If an element’s count is less than one, elements() will ignore it."
   ]
  },
  {
   "cell_type": "code",
   "execution_count": 7,
   "metadata": {},
   "outputs": [
    {
     "name": "stdout",
     "output_type": "stream",
     "text": [
      "['a', 'a', 'a', 'a', 'b', 'b', 'c', 'c', 'd', 'd', 'e', 'f']\n",
      "['a', 'a', 'a', 'a', 'b', 'b', 'c', 'c', 'd', 'd', 'e', 'f']\n"
     ]
    }
   ],
   "source": [
    "\n",
    "C = Counter(a=4, b=2, c=2, d=2, e=1, f=1)\n",
    "print(list(C.elements()))\n",
    "print(sorted(C.elements()))\n"
   ]
  },
  {
   "cell_type": "markdown",
   "metadata": {},
   "source": [
    "most_common([n])\n",
    "\n",
    "Return a list of the n most common elements and their counts from the most common to the least. If n is omitted or None, most_common() returns all elements in the counter. Elements with equal counts are ordered in the order first encountered:"
   ]
  },
  {
   "cell_type": "code",
   "execution_count": 8,
   "metadata": {},
   "outputs": [
    {
     "name": "stdout",
     "output_type": "stream",
     "text": [
      "[('a', 4), ('b', 2), ('c', 2)]\n"
     ]
    }
   ],
   "source": [
    "\n",
    "print(C.most_common(n=3))\n"
   ]
  },
  {
   "cell_type": "markdown",
   "metadata": {},
   "source": [
    "subtract([iterable-or-mapping])\n",
    "\n",
    "Elements are subtracted from an iterable or from another mapping (or counter). Like dict.update() but subtracts counts instead of replacing them. Both inputs and outputs may be zero or negative."
   ]
  },
  {
   "cell_type": "code",
   "execution_count": 11,
   "metadata": {},
   "outputs": [
    {
     "name": "stdout",
     "output_type": "stream",
     "text": [
      "Counter({'a': 2, 'b': 0, 'c': 0, 'd': 0, 'e': -1, 'f': -1, 'g': -2})\n",
      "Counter({'a': 1, 'b': 1, 'c': 1, 'd': 1, 'e': 1, 'f': 1, 'g': 1})\n",
      "Counter({'a': 1, 'b': -1, 'c': -1, 'd': -1, 'e': -2, 'f': -2, 'g': -3})\n"
     ]
    }
   ],
   "source": [
    "\n",
    "\n",
    "print(C)\n",
    "subtrahend = Counter(a=1, b=1, c=1, d=1, e=1, f=1, g=1)\n",
    "print(subtrahend)\n",
    "C.subtract(subtrahend)\n",
    "print(C)\n"
   ]
  },
  {
   "cell_type": "markdown",
   "metadata": {},
   "source": [
    "update([iterable-or-mapping])\n",
    "\n",
    "Elements are counted from an iterable or added-in from another mapping (or counter). Like dict.update() but adds counts instead of replacing them. Also, the iterable is expected to be a sequence of elements, not a sequence of (key, value) pairs."
   ]
  },
  {
   "cell_type": "code",
   "execution_count": 12,
   "metadata": {},
   "outputs": [
    {
     "name": "stdout",
     "output_type": "stream",
     "text": [
      "Counter({'a': 1, 'b': -1, 'c': -1, 'd': -1, 'e': -2, 'f': -2, 'g': -3})\n",
      "{'a': 4, 'b': 8}\n",
      "Counter({'b': 7, 'a': 5, 'c': -1, 'd': -1, 'e': -2, 'f': -2, 'g': -3})\n"
     ]
    }
   ],
   "source": [
    "\n",
    "print(C)\n",
    "addend = Counter({'a': 4, 'b': 8})\n",
    "print(addend)\n",
    "C.update(addend)\n",
    "print(C)\n"
   ]
  }
 ],
 "metadata": {
  "kernelspec": {
   "display_name": "Python 3",
   "language": "python",
   "name": "python3"
  },
  "language_info": {
   "codemirror_mode": {
    "name": "ipython",
    "version": 3
   },
   "file_extension": ".py",
   "mimetype": "text/x-python",
   "name": "python",
   "nbconvert_exporter": "python",
   "pygments_lexer": "ipython3",
   "version": "3.7.6"
  },
  "varInspector": {
   "cols": {
    "lenName": 16,
    "lenType": 16,
    "lenVar": 40
   },
   "kernels_config": {
    "python": {
     "delete_cmd_postfix": "",
     "delete_cmd_prefix": "del ",
     "library": "var_list.py",
     "varRefreshCmd": "print(var_dic_list())"
    },
    "r": {
     "delete_cmd_postfix": ") ",
     "delete_cmd_prefix": "rm(",
     "library": "var_list.r",
     "varRefreshCmd": "cat(var_dic_list()) "
    }
   },
   "types_to_exclude": [
    "module",
    "function",
    "builtin_function_or_method",
    "instance",
    "_Feature"
   ],
   "window_display": false
  }
 },
 "nbformat": 4,
 "nbformat_minor": 4
}
