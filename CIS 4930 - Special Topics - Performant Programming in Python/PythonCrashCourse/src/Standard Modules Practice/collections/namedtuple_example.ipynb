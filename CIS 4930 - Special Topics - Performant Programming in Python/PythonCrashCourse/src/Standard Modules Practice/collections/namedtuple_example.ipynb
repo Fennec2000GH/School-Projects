{
 "cells": [
  {
   "cell_type": "markdown",
   "metadata": {},
   "source": [
    "# Collections.NamedTuple"
   ]
  },
  {
   "cell_type": "markdown",
   "metadata": {},
   "source": [
    "collections.namedtuple(typename, field_names, *, rename=False, defaults=None, module=None)\n",
    "Returns a new tuple subclass named typename. The new subclass is used to create tuple-like objects that have fields accessible by attribute lookup as well as being indexable and iterable. Instances of the subclass also have a helpful\n",
    "\n",
    "docstring (with typename and field_names) and a helpful __repr__() method which lists the tuple contents in a name=value format. The field_names are a sequence of strings such as ['x', 'y']. Alternatively, field_names can be a single string with each fieldname separated by whitespace and/or commas, for example 'x y' or 'x, y'. Any valid Python identifier may be used for a fieldname except for names starting with an underscore. Valid identifiers consist of letters, digits, and underscores but do not start with a digit or underscore and cannot be a keyword such as class, for, return, global, pass, or raise. If rename is true, invalid fieldnames are automatically replaced with positional names. For example, ['abc', 'def', 'ghi', 'abc'] is converted to ['abc', '_1', 'ghi', '_3'], eliminating the keyword def and the duplicate fieldname abc. defaults can be None or an iterable of default values. Since fields with a default value must come after any fields without a default, the defaults are applied to the rightmost parameters. For example, if the fieldnames are ['x', 'y', 'z'] and the defaults are (1, 2), then x will be a required argument, y will default to 1, and z will default to 2.If module is defined, the __module__ attribute of the named tuple is set to that value. Named tuple instances do not have per-instance dictionaries, so they are lightweight and require no more memory than regular tuples.\n"
   ]
  },
  {
   "cell_type": "code",
   "execution_count": 1,
   "metadata": {},
   "outputs": [
    {
     "name": "stdout",
     "output_type": "stream",
     "text": [
      "Address(Street_No=245, Street='Gale Lemerand Dr.', APT=None, City='Gainesville', State='FL', Zip_Code=32611)\n",
      "<class '__main__.Address'>\n"
     ]
    }
   ],
   "source": [
    "from collections import namedtuple\n",
    "\n",
    "Address = namedtuple(typename='Address',\n",
    "           field_names=['Street_No', 'Street', 'APT', 'City', 'State', 'Zip_Code'],\n",
    "           rename=False,\n",
    "           defaults=[None, None, None, None, None, None],\n",
    "           module=None\n",
    "        )\n",
    "\n",
    "UF_address = Address(Street_No=245, Street='Gale Lemerand Dr.', APT=None, City='Gainesville', State='FL', Zip_Code=32611)\n",
    "print(UF_address)\n",
    "print(type(UF_address))\n"
   ]
  },
  {
   "cell_type": "markdown",
   "metadata": {},
   "source": [
    "classmethod somenamedtuple._make(iterable)\n",
    "Class method that makes a new instance from an existing sequence or iterable."
   ]
  },
  {
   "cell_type": "code",
   "execution_count": 2,
   "metadata": {},
   "outputs": [
    {
     "name": "stdout",
     "output_type": "stream",
     "text": [
      "Address(Street_No=3750, Street='SW Archer Rd.', APT=None, City='Gainesville', State='FL', Zip_Code=32608)\n"
     ]
    }
   ],
   "source": [
    "\n",
    "best_buy = Address._make(iterable=[3750, 'SW Archer Rd.', None, 'Gainesville', 'FL', 32608])\n",
    "print(best_buy)\n"
   ]
  },
  {
   "cell_type": "markdown",
   "metadata": {},
   "source": [
    "somenamedtuple._asdict()\n",
    "Return a new dict which maps field names to their corresponding values:"
   ]
  },
  {
   "cell_type": "code",
   "execution_count": 3,
   "metadata": {},
   "outputs": [
    {
     "name": "stdout",
     "output_type": "stream",
     "text": [
      "OrderedDict([('Street_No', 3750), ('Street', 'SW Archer Rd.'), ('APT', None), ('City', 'Gainesville'), ('State', 'FL'), ('Zip_Code', 32608)])\n"
     ]
    }
   ],
   "source": [
    "\n",
    "print(best_buy._asdict())\n"
   ]
  },
  {
   "cell_type": "markdown",
   "metadata": {},
   "source": [
    "somenamedtuple._replace(**kwargs)\n",
    "Return a new instance of the named tuple replacing specified fields with new values:"
   ]
  },
  {
   "cell_type": "code",
   "execution_count": 4,
   "metadata": {},
   "outputs": [
    {
     "name": "stdout",
     "output_type": "stream",
     "text": [
      "Address(Street_No=None, Street=None, APT=None, City=None, State=None, Zip_Code=None)\n",
      "Address(Street_No='0000', Street='Street St.', APT=None, City=None, State=None, Zip_Code=None)\n"
     ]
    }
   ],
   "source": [
    "\n",
    "default_address = Address()\n",
    "print(default_address)\n",
    "default_address = default_address._replace(Street_No='0000', Street='Street St.', APT=None, City=None, State=None, Zip_Code=None)\n",
    "print(default_address)\n"
   ]
  },
  {
   "cell_type": "markdown",
   "metadata": {},
   "source": [
    "somenamedtuple._fields\n",
    "Tuple of strings listing the field names. Useful for introspection and for creating new named tuple types from existing named tuples."
   ]
  },
  {
   "cell_type": "code",
   "execution_count": 5,
   "metadata": {},
   "outputs": [
    {
     "name": "stdout",
     "output_type": "stream",
     "text": [
      "('Street_No', 'Street', 'APT', 'City', 'State', 'Zip_Code')\n"
     ]
    }
   ],
   "source": [
    "\n",
    "print(Address._fields)\n"
   ]
  },
  {
   "cell_type": "markdown",
   "metadata": {},
   "source": [
    "somenamedtuple._field_defaults\n",
    "Dictionary mapping field names to default values."
   ]
  },
  {
   "cell_type": "code",
   "execution_count": 6,
   "metadata": {},
   "outputs": [
    {
     "name": "stdout",
     "output_type": "stream",
     "text": [
      "{'Street_No': None, 'Street': None, 'APT': None, 'City': None, 'State': None, 'Zip_Code': None}\n"
     ]
    }
   ],
   "source": [
    "\n",
    "print(Address._field_defaults)\n"
   ]
  }
 ],
 "metadata": {
  "kernelspec": {
   "display_name": "Python 3",
   "language": "python",
   "name": "python3"
  },
  "language_info": {
   "codemirror_mode": {
    "name": "ipython",
    "version": 3
   },
   "file_extension": ".py",
   "mimetype": "text/x-python",
   "name": "python",
   "nbconvert_exporter": "python",
   "pygments_lexer": "ipython3",
   "version": "3.7.6"
  },
  "varInspector": {
   "cols": {
    "lenName": 16,
    "lenType": 16,
    "lenVar": 40
   },
   "kernels_config": {
    "python": {
     "delete_cmd_postfix": "",
     "delete_cmd_prefix": "del ",
     "library": "var_list.py",
     "varRefreshCmd": "print(var_dic_list())"
    },
    "r": {
     "delete_cmd_postfix": ") ",
     "delete_cmd_prefix": "rm(",
     "library": "var_list.r",
     "varRefreshCmd": "cat(var_dic_list()) "
    }
   },
   "types_to_exclude": [
    "module",
    "function",
    "builtin_function_or_method",
    "instance",
    "_Feature"
   ],
   "window_display": false
  }
 },
 "nbformat": 4,
 "nbformat_minor": 4
}
