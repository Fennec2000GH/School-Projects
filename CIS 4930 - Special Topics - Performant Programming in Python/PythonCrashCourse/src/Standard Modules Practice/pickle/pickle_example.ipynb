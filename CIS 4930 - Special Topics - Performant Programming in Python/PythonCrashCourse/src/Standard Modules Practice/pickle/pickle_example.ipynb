{
 "cells": [
  {
   "cell_type": "markdown",
   "metadata": {},
   "source": [
    "# Pickle Module"
   ]
  },
  {
   "cell_type": "markdown",
   "metadata": {},
   "source": [
    "## pickling (dump)"
   ]
  },
  {
   "cell_type": "code",
   "execution_count": 6,
   "metadata": {},
   "outputs": [],
   "source": [
    "\n",
    "import pickle\n",
    "\n",
    "dogs_dict = {\n",
    "    'Ozzy': 3, \n",
    "    'Filou': 8, \n",
    "    'Luna': 5, \n",
    "    'Skippy': 10, \n",
    "    'Barco': 12, \n",
    "    'Balou': 9, \n",
    "    'Laika': 16\n",
    "}\n",
    "filename = 'dogs.txt'\n",
    "outfile = open(filename, 'wb')\n",
    "pickle.dump(obj=dogs_dict, file=outfile)\n",
    "outfile.close()\n"
   ]
  },
  {
   "cell_type": "markdown",
   "metadata": {},
   "source": [
    "## unpickling (load)"
   ]
  },
  {
   "cell_type": "code",
   "execution_count": 7,
   "metadata": {},
   "outputs": [
    {
     "name": "stdout",
     "output_type": "stream",
     "text": [
      "{'Ozzy': 3, 'Filou': 8, 'Luna': 5, 'Skippy': 10, 'Barco': 12, 'Balou': 9, 'Laika': 16}\n",
      "True\n",
      "<class 'dict'>\n"
     ]
    }
   ],
   "source": [
    "\n",
    "import pickle\n",
    "\n",
    "infile = open(filename, 'rb')\n",
    "new_dict = pickle.load(file=infile, encoding='ASCII', errors='strict')\n",
    "infile.close()\n",
    "print(new_dict)\n",
    "print(new_dict == dogs_dict)\n",
    "print(type(new_dict))\n"
   ]
  },
  {
   "cell_type": "markdown",
   "metadata": {},
   "source": [
    "### unpickling objects from Python2 in Python3"
   ]
  },
  {
   "cell_type": "code",
   "execution_count": 8,
   "metadata": {},
   "outputs": [
    {
     "name": "stdout",
     "output_type": "stream",
     "text": [
      "{'Ozzy': 3, 'Filou': 8, 'Luna': 5, 'Skippy': 10, 'Barco': 12, 'Balou': 9, 'Laika': 16}\n"
     ]
    }
   ],
   "source": [
    "\n",
    "import pickle\n",
    "\n",
    "infile = open(file=filename, mode='rb')\n",
    "new_dict = pickle.load(file=infile, encoding='latin1', errors='strict')\n",
    "infile.close()\n",
    "print(new_dict)\n"
   ]
  },
  {
   "cell_type": "markdown",
   "metadata": {},
   "source": [
    "### unpickling numpy arrays"
   ]
  },
  {
   "cell_type": "code",
   "execution_count": 9,
   "metadata": {},
   "outputs": [
    {
     "name": "stdout",
     "output_type": "stream",
     "text": [
      "[[1 1 1]\n",
      " [1 1 1]\n",
      " [1 1 1]]\n",
      "[[1 1 1]\n",
      " [1 1 1]\n",
      " [1 1 1]]\n"
     ]
    }
   ],
   "source": [
    "\n",
    "import numpy as np\n",
    "import pickle\n",
    "\n",
    "ones = np.ones(shape=(3, 3), dtype='i8')\n",
    "print(ones)\n",
    "filename = 'ones.txt'\n",
    "outfile = open(filename, mode='wb')\n",
    "pickle.dump(obj=ones, file=outfile)\n",
    "outfile.close()\n",
    "\n",
    "infile = open(file=filename, mode='rb')\n",
    "new_ones = pickle.load(file=infile, encoding='bytes', errors='strict')\n",
    "infile.close()\n",
    "print(new_ones)\n"
   ]
  },
  {
   "cell_type": "markdown",
   "metadata": {},
   "source": [
    "## Compressing Pickle Files"
   ]
  },
  {
   "cell_type": "code",
   "execution_count": 10,
   "metadata": {},
   "outputs": [],
   "source": [
    "\n",
    "import bz2\n",
    "import pickle\n",
    "\n",
    "sfile = bz2.BZ2File(filename='smallerfile', mode='w', buffering=None, compresslevel=9)\n",
    "pickle.dump(obj=dogs_dict, file=sfile)\n"
   ]
  },
  {
   "cell_type": "code",
   "execution_count": null,
   "metadata": {},
   "outputs": [],
   "source": []
  }
 ],
 "metadata": {
  "kernelspec": {
   "display_name": "Python 3",
   "language": "python",
   "name": "python3"
  },
  "language_info": {
   "codemirror_mode": {
    "name": "ipython",
    "version": 3
   },
   "file_extension": ".py",
   "mimetype": "text/x-python",
   "name": "python",
   "nbconvert_exporter": "python",
   "pygments_lexer": "ipython3",
   "version": "3.7.6"
  },
  "varInspector": {
   "cols": {
    "lenName": 16,
    "lenType": 16,
    "lenVar": 40
   },
   "kernels_config": {
    "python": {
     "delete_cmd_postfix": "",
     "delete_cmd_prefix": "del ",
     "library": "var_list.py",
     "varRefreshCmd": "print(var_dic_list())"
    },
    "r": {
     "delete_cmd_postfix": ") ",
     "delete_cmd_prefix": "rm(",
     "library": "var_list.r",
     "varRefreshCmd": "cat(var_dic_list()) "
    }
   },
   "types_to_exclude": [
    "module",
    "function",
    "builtin_function_or_method",
    "instance",
    "_Feature"
   ],
   "window_display": false
  }
 },
 "nbformat": 4,
 "nbformat_minor": 4
}
