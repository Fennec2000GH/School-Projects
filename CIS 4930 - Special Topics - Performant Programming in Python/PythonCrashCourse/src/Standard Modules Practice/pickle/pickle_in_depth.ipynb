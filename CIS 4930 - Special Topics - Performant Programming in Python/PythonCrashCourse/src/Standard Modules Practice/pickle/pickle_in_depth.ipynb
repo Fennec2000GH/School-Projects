{
 "cells": [
  {
   "cell_type": "markdown",
   "metadata": {},
   "source": [
    "# Pickle"
   ]
  },
  {
   "cell_type": "markdown",
   "metadata": {},
   "source": [
    "This is an in depth go-through of each core function under the <i>pickle</i> module."
   ]
  },
  {
   "cell_type": "markdown",
   "metadata": {},
   "source": [
    "Constants"
   ]
  },
  {
   "cell_type": "code",
   "execution_count": 75,
   "metadata": {},
   "outputs": [
    {
     "name": "stdout",
     "output_type": "stream",
     "text": [
      "4\n",
      "3\n",
      "b'\\x90'\n",
      "b'a'\n",
      "b'e'\n",
      "b'B'\n",
      "b'\\x8e'\n",
      "b'G'\n",
      "b'h'\n",
      "b'J'\n",
      "b'K'\n",
      "b'M'\n",
      "b'Q'\n",
      "b'q'\n",
      "b'T'\n",
      "b'X'\n",
      "b'\\x8d'\n"
     ]
    }
   ],
   "source": [
    "\n",
    "import pickle\n",
    "\n",
    "# an integer, the highest protocol version available. This value can be passed as a protocol \n",
    "# value to functions dump() and dumps() as well as the Pickler constructor\n",
    "print(pickle.HIGHEST_PROTOCOL)\n",
    "\n",
    "# an integer, the default protocol version used for pickling. May be less than HIGHEST_PROTOCOL.\n",
    "# Currently the default protocol is 4, first introduced in Python 3.4 and incompatible with \n",
    "# previous versions\n",
    "print(pickle.DEFAULT_PROTOCOL)\n",
    "\n",
    "pickle_list = [pickle.ADDITEMS, pickle.APPEND, pickle.APPENDS, pickle.BINBYTES, pickle.BINBYTES8,\n",
    "                pickle.BINFLOAT, pickle.BINGET, pickle.BININT, pickle.BININT1, pickle.BININT2, \n",
    "               pickle.BINPERSID, pickle.BINPUT, pickle.BINSTRING, pickle.BINUNICODE, pickle.BINUNICODE8\n",
    "              ]\n",
    "for const in pickle_list:\n",
    "    print(const)\n"
   ]
  },
  {
   "cell_type": "markdown",
   "metadata": {},
   "source": [
    "pickle.dump(obj, file, protocol=None, *, fix_imports=True, buffer_callback=None) <br><br>\n",
    "\n",
    "Write the pickled representation of the object obj to the open file object file. This is equivalent to Pickler(file, protocol).dump(obj)."
   ]
  },
  {
   "cell_type": "markdown",
   "metadata": {},
   "source": [
    "pickle.load(file, *, fix_imports=True, encoding=\"ASCII\", errors=\"strict\", buffers=None) <br><br>\n",
    "\n",
    "Read the pickled representation of an object from the open file object file and return the reconstituted object hierarchy specified therein. This is equivalent to Unpickler(file).load()."
   ]
  },
  {
   "cell_type": "code",
   "execution_count": 76,
   "metadata": {},
   "outputs": [
    {
     "name": "stdout",
     "output_type": "stream",
     "text": [
      "[0, 1.23456789, 'cat', [0.1, 0.2, 0.3], {'a': 97, 'b': 98, 'c': 99}]\n"
     ]
    }
   ],
   "source": [
    "\n",
    "import pickle\n",
    "\n",
    "mixed_list = [\n",
    "    0, \n",
    "    1.234567890, \n",
    "    'cat', \n",
    "    [0.1, 0.2, 0.3], \n",
    "    {'a': ord('a'), 'b': ord('b'), 'c': ord('c')}\n",
    "]\n",
    "filename = 'mixed.txt'\n",
    "outfile = open(file=filename, mode='wb')\n",
    "pickle.dump(obj=mixed_list, file=outfile)\n",
    "outfile.close()\n",
    "infile = open(file=filename, mode='rb')\n",
    "new_mixed_list = pickle.load(file=infile, fix_imports=True, encoding='ASCII', errors='strict')\n",
    "print(new_mixed_list)\n"
   ]
  },
  {
   "cell_type": "code",
   "execution_count": 77,
   "metadata": {},
   "outputs": [],
   "source": [
    "\n",
    "class House:\n",
    "    \"\"\"Simple model for a house\"\"\"\n",
    "    def __init__(self, area, height, number_of_floors, furniture=None):\n",
    "        \"\"\"Metadata and furniture of house\"\"\"\n",
    "        self.area = area\n",
    "        self.height = height\n",
    "        self.number_of_floors = number_of_floors\n",
    "        self.furniture=furniture\n",
    "    \n",
    "    def get_area(self):\n",
    "        \"\"\"Get area of house\"\"\"\n",
    "        return self.area\n",
    "    \n",
    "    def get_height(self):\n",
    "        \"\"\"Get height of house\"\"\"\n",
    "        return self.height\n",
    "        \n",
    "    def get_num_floors(self):\n",
    "        \"\"\"Get number of floors\"\"\"\n",
    "        return self.number_of_floors\n",
    "    \n",
    "    def get_furnitures(self):\n",
    "        \"\"\"Print out all furnitures\"\"\"\n",
    "        for furniture in self.furniture:\n",
    "            print(furniture)\n",
    "        \n",
    "    def has_furniture(self, furniture):\n",
    "        \"\"\"Check for existence of furniture\"\"\"\n",
    "        return furniture in self.furniture\n"
   ]
  },
  {
   "cell_type": "code",
   "execution_count": 78,
   "metadata": {},
   "outputs": [
    {
     "name": "stdout",
     "output_type": "stream",
     "text": [
      "<__main__.House object at 0x11f07e710>\n",
      "Dinner Table\n",
      "Bed\n",
      "Sofa\n",
      "<__main__.House object at 0x11f904b10>\n",
      "Dinner Table\n",
      "Bed\n",
      "Sofa\n"
     ]
    }
   ],
   "source": [
    "\n",
    "import pickle\n",
    "\n",
    "house = House(area=3600, height=20, number_of_floors=2, furniture=['Dinner Table', 'Bed', 'Sofa'])\n",
    "print(house)\n",
    "house.get_furnitures()\n",
    "filename = 'house.txt'\n",
    "with open(file=filename, mode='wb') as outfile:\n",
    "    pickle.dump(obj=house, file=outfile)\n",
    "    outfile.close()\n",
    "\n",
    "with open(file=filename, mode='rb') as infile:\n",
    "    new_house = pickle.load(file=infile, fix_imports=True, encoding='ascii', errors='strict')\n",
    "    infile.close()\n",
    "print(new_house)\n",
    "new_house.get_furnitures()\n"
   ]
  },
  {
   "cell_type": "markdown",
   "metadata": {},
   "source": [
    "pickle.loads(data, *, fix_imports=True, encoding=\"ASCII\", errors=\"strict\", buffers=None) <br><br>\n",
    "Return the reconstituted object hierarchy of the pickled representation data of an object. data must be a bytes-like object."
   ]
  },
  {
   "cell_type": "code",
   "execution_count": 79,
   "metadata": {},
   "outputs": [
    {
     "name": "stdout",
     "output_type": "stream",
     "text": [
      "range(0, 100)\n",
      "b'\\x00\\x01\\x02\\x03\\x04\\x05\\x06\\x07\\x08\\t\\n\\x0b\\x0c\\r\\x0e\\x0f\\x10\\x11\\x12\\x13\\x14\\x15\\x16\\x17\\x18\\x19\\x1a\\x1b\\x1c\\x1d\\x1e\\x1f !\"#$%&\\'()*+,-./0123456789:;<=>?@ABCDEFGHIJKLMNOPQRSTUVWXYZ[\\\\]^_`abc'\n"
     ]
    },
    {
     "ename": "UnpicklingError",
     "evalue": "invalid load key, '\\x00'.",
     "output_type": "error",
     "traceback": [
      "\u001b[0;31m---------------------------------------------------------------------------\u001b[0m",
      "\u001b[0;31mUnpicklingError\u001b[0m                           Traceback (most recent call last)",
      "\u001b[0;32m<ipython-input-79-8815c27b4747>\u001b[0m in \u001b[0;36m<module>\u001b[0;34m\u001b[0m\n\u001b[1;32m      5\u001b[0m \u001b[0mone_hundred_bytes\u001b[0m \u001b[0;34m=\u001b[0m \u001b[0mbytes\u001b[0m\u001b[0;34m(\u001b[0m\u001b[0mone_hundred\u001b[0m\u001b[0;34m)\u001b[0m\u001b[0;34m\u001b[0m\u001b[0;34m\u001b[0m\u001b[0m\n\u001b[1;32m      6\u001b[0m \u001b[0mprint\u001b[0m\u001b[0;34m(\u001b[0m\u001b[0mone_hundred_bytes\u001b[0m\u001b[0;34m)\u001b[0m\u001b[0;34m\u001b[0m\u001b[0;34m\u001b[0m\u001b[0m\n\u001b[0;32m----> 7\u001b[0;31m \u001b[0mpickle\u001b[0m\u001b[0;34m.\u001b[0m\u001b[0mloads\u001b[0m\u001b[0;34m(\u001b[0m\u001b[0mbytearray\u001b[0m\u001b[0;34m(\u001b[0m\u001b[0mone_hundred_bytes\u001b[0m\u001b[0;34m)\u001b[0m\u001b[0;34m,\u001b[0m \u001b[0mfix_imports\u001b[0m\u001b[0;34m=\u001b[0m\u001b[0;32mTrue\u001b[0m\u001b[0;34m,\u001b[0m \u001b[0mencoding\u001b[0m\u001b[0;34m=\u001b[0m\u001b[0;34m'bytes'\u001b[0m\u001b[0;34m,\u001b[0m \u001b[0merrors\u001b[0m\u001b[0;34m=\u001b[0m\u001b[0;34m'strict'\u001b[0m\u001b[0;34m)\u001b[0m\u001b[0;34m\u001b[0m\u001b[0;34m\u001b[0m\u001b[0m\n\u001b[0m",
      "\u001b[0;31mUnpicklingError\u001b[0m: invalid load key, '\\x00'."
     ]
    }
   ],
   "source": [
    "\n",
    "import pickle\n",
    "\n",
    "one_hundred = range(100)\n",
    "print(one_hundred)\n",
    "one_hundred_bytes = bytes(one_hundred)\n",
    "print(one_hundred_bytes)\n",
    "pickle.loads(bytearray(one_hundred_bytes), fix_imports=True, encoding='bytes', errors='strict')\n"
   ]
  },
  {
   "cell_type": "markdown",
   "metadata": {},
   "source": [
    "class pickle.Pickler(file, protocol=None, *, fix_imports=True, buffer_callback=None) <br><br>\n",
    "This takes a binary file for writing a pickle data stream.\n",
    "\n",
    "The optional protocol argument, an integer, tells the pickler to use the given protocol; supported protocols are 0 to HIGHEST_PROTOCOL. If not specified, the default is DEFAULT_PROTOCOL. If a negative number is specified, HIGHEST_PROTOCOL is selected.\n",
    "\n",
    "The file argument must have a write() method that accepts a single bytes argument. It can thus be an on-disk file opened for binary writing, an io.BytesIO instance, or any other custom object that meets this interface.\n",
    "\n",
    "If fix_imports is true and protocol is less than 3, pickle will try to map the new Python 3 names to the old module names used in Python 2, so that the pickle data stream is readable with Python 2.\n",
    "\n",
    "If buffer_callback is None (the default), buffer views are serialized into file as part of the pickle stream.\n",
    "\n",
    "If buffer_callback is not None, then it can be called any number of times with a buffer view. If the callback returns a false value (such as None), the given buffer is out-of-band; otherwise the buffer is serialized in-band, i.e. inside the pickle stream.\n",
    "\n",
    "It is an error if buffer_callback is not None and protocol is None or smaller than 5."
   ]
  },
  {
   "cell_type": "markdown",
   "metadata": {},
   "source": [
    "dump(obj) <br><br>\n",
    "\n",
    "Write the pickled representation of obj to the open file object given in the constructor."
   ]
  },
  {
   "cell_type": "markdown",
   "metadata": {},
   "source": [
    "persistent_id(obj) <br><br>\n",
    "Do nothing by default. This exists so a subclass can override it.\n",
    "\n",
    "If persistent_id() returns None, obj is pickled as usual. Any other value causes Pickler to emit the returned value as a persistent ID for obj. The meaning of this persistent ID should be defined by Unpickler.persistent_load(). Note that the value returned by persistent_id() cannot itself have a persistent ID."
   ]
  },
  {
   "cell_type": "markdown",
   "metadata": {},
   "source": [
    "dispatch_table <br><br>\n",
    "A pickler object’s dispatch table is a registry of reduction functions of the kind which can be declared using copyreg.pickle(). It is a mapping whose keys are classes and whose values are reduction functions. A reduction function takes a single argument of the associated class and should conform to the same interface as a __reduce__() method.\n",
    "\n",
    "By default, a pickler object will not have a dispatch_table attribute, and it will instead use the global dispatch table managed by the copyreg module. However, to customize the pickling for a specific pickler object one can set the dispatch_table attribute to a dict-like object. Alternatively, if a subclass of Pickler has a dispatch_table attribute then this will be used as the default dispatch table for instances of that class."
   ]
  },
  {
   "cell_type": "markdown",
   "metadata": {},
   "source": [
    "reducer_override(self, obj) <br><br>\n",
    "Special reducer that can be defined in Pickler subclasses. This method has priority over any reducer in the dispatch_table. It should conform to the same interface as a __reduce__() method, and can optionally return NotImplemented to fallback on dispatch_table-registered reducers to pickle obj.\n",
    "\n",
    "For a detailed example, see Custom Reduction for Types, Functions, and Other Objects."
   ]
  },
  {
   "cell_type": "code",
   "execution_count": 84,
   "metadata": {},
   "outputs": [],
   "source": [
    "\n",
    "import pickle\n",
    "from pickle import Pickler\n",
    "import random\n",
    "import os\n",
    "\n",
    "filename = 'mixed.txt'\n",
    "file = open(file=filename, mode='wb')\n",
    "p = Pickler(file=file, protocol=pickle.HIGHEST_PROTOCOL, fix_imports=True)\n",
    "\n",
    "mixed_list = [True, False, 1, 0, '1', '0', bytes([x for x in random.sample(range(100), 10)])]\n",
    "p.dump(mixed_list)\n"
   ]
  },
  {
   "cell_type": "markdown",
   "metadata": {},
   "source": [
    "class pickle.Unpickler(file, *, fix_imports=True, encoding=\"ASCII\", errors=\"strict\", buffers=None) <br><br>\n",
    "This takes a binary file for reading a pickle data stream.\n",
    "\n",
    "The protocol version of the pickle is detected automatically, so no protocol argument is needed.\n",
    "\n",
    "The argument file must have three methods, a read() method that takes an integer argument, a readinto() method that takes a buffer argument and a readline() method that requires no arguments, as in the io.BufferedIOBase interface. Thus file can be an on-disk file opened for binary reading, an io.BytesIO object, or any other custom object that meets this interface.\n",
    "\n",
    "The optional arguments fix_imports, encoding and errors are used to control compatibility support for pickle stream generated by Python 2. If fix_imports is true, pickle will try to map the old Python 2 names to the new names used in Python 3. The encoding and errors tell pickle how to decode 8-bit string instances pickled by Python 2; these default to ‘ASCII’ and ‘strict’, respectively. The encoding can be ‘bytes’ to read these 8-bit string instances as bytes objects. Using encoding='latin1' is required for unpickling NumPy arrays and instances of datetime, date and time pickled by Python 2.\n",
    "\n",
    "If buffers is None (the default), then all data necessary for deserialization must be contained in the pickle stream. This means that the buffer_callback argument was None when a Pickler was instantiated (or when dump() or dumps() was called).\n",
    "\n",
    "If buffers is not None, it should be an iterable of buffer-enabled objects that is consumed each time the pickle stream references an out-of-band buffer view. Such buffers have been given in order to the buffer_callback of a Pickler object."
   ]
  },
  {
   "cell_type": "markdown",
   "metadata": {},
   "source": [
    "load() <br><br>\n",
    "Read the pickled representation of an object from the open file object given in the constructor, and return the reconstituted object hierarchy specified therein. Bytes past the pickled representation of the object are ignored."
   ]
  },
  {
   "cell_type": "markdown",
   "metadata": {},
   "source": [
    "persistent_load(pid) <br><br>\n",
    "Raise an UnpicklingError by default.\n",
    "\n",
    "If defined, persistent_load() should return the object specified by the persistent ID pid. If an invalid persistent ID is encountered, an UnpicklingError should be raised.\n",
    "\n",
    "See Persistence of External Objects for details and examples of uses."
   ]
  },
  {
   "cell_type": "markdown",
   "metadata": {},
   "source": [
    "find_class(module, name) <br><br>\n",
    "Import module if necessary and return the object called name from it, where the module and name arguments are str objects. Note, unlike its name suggests, find_class() is also used for finding functions.\n",
    "\n",
    "Subclasses may override this to gain control over what type of objects and how they can be loaded, potentially reducing security risks. Refer to Restricting Globals for details."
   ]
  },
  {
   "cell_type": "code",
   "execution_count": 116,
   "metadata": {},
   "outputs": [
    {
     "name": "stdout",
     "output_type": "stream",
     "text": [
      "[True, False, 1, 0, '1', '0', b'@!]0\\x1fRbO7&']\n",
      "[True, False, 1, 0, '1', '0', b'#\\x1dPC?\\x0b\\x01 9c']\n",
      "<built-in function load>\n"
     ]
    }
   ],
   "source": [
    "\n",
    "import pickle\n",
    "from pickle import Unpickler\n",
    "\n",
    "print(mixed_list)\n",
    "filename = 'mixed.txt'\n",
    "file = open(file=filename, mode='rb')\n",
    "up = Unpickler(file=file, fix_imports=True, encoding='ASCII', errors='strict')\n",
    "loaded_mixed_list = up.load()\n",
    "print(loaded_mixed_list)\n",
    "\n",
    "from pickle import UnpicklingError\n",
    "try:\n",
    "#     up.persistent_load(pid=0)\n",
    "    pass\n",
    "except UnpicklingError or AttributeError:\n",
    "    print('persistent_load called')\n",
    "\n",
    "print(up.find_class('pickle', 'load'))\n"
   ]
  },
  {
   "cell_type": "markdown",
   "metadata": {},
   "source": [
    "class pickle.PickleBuffer(buffer) <br><br>\n",
    "A wrapper for a buffer representing picklable data. buffer must be a buffer-providing object, such as a bytes-like object or a N-dimensional array.\n",
    "\n",
    "PickleBuffer is itself a buffer provider, therefore it is possible to pass it to other APIs expecting a buffer-providing object, such as memoryview.\n",
    "\n",
    "PickleBuffer objects can only be serialized using pickle protocol 5 or higher. They are eligible for out-of-band serialization."
   ]
  },
  {
   "cell_type": "markdown",
   "metadata": {},
   "source": [
    "raw() <br><br>\n",
    "Return a memoryview of the memory area underlying this buffer. The returned object is a one-dimensional, C-contiguous memoryview with format B (unsigned bytes). BufferError is raised if the buffer is neither C- nor Fortran-contiguous."
   ]
  },
  {
   "cell_type": "markdown",
   "metadata": {},
   "source": [
    "release() <br><br>\n",
    "Release the underlying buffer exposed by the PickleBuffer object."
   ]
  },
  {
   "cell_type": "code",
   "execution_count": 124,
   "metadata": {},
   "outputs": [
    {
     "name": "stdout",
     "output_type": "stream",
     "text": [
      "\u001b[31mERROR: Could not find a version that satisfies the requirement pickle (from versions: none)\u001b[0m\n",
      "\u001b[31mERROR: No matching distribution found for pickle\u001b[0m\n",
      "Note: you may need to restart the kernel to use updated packages.\n"
     ]
    }
   ],
   "source": [
    "%pip install pickle"
   ]
  },
  {
   "cell_type": "code",
   "execution_count": 125,
   "metadata": {},
   "outputs": [
    {
     "ename": "ImportError",
     "evalue": "cannot import name 'PickleBuffer' from 'pickle' (/usr/local/anaconda3/lib/python3.7/pickle.py)",
     "output_type": "error",
     "traceback": [
      "\u001b[0;31m---------------------------------------------------------------------------\u001b[0m",
      "\u001b[0;31mImportError\u001b[0m                               Traceback (most recent call last)",
      "\u001b[0;32m<ipython-input-125-2bb38681a903>\u001b[0m in \u001b[0;36m<module>\u001b[0;34m\u001b[0m\n\u001b[1;32m      1\u001b[0m \u001b[0;32mimport\u001b[0m \u001b[0mpickle\u001b[0m\u001b[0;34m\u001b[0m\u001b[0;34m\u001b[0m\u001b[0m\n\u001b[0;32m----> 2\u001b[0;31m \u001b[0;32mfrom\u001b[0m \u001b[0mpickle\u001b[0m \u001b[0;32mimport\u001b[0m \u001b[0mPickleBuffer\u001b[0m\u001b[0;34m\u001b[0m\u001b[0;34m\u001b[0m\u001b[0m\n\u001b[0m\u001b[1;32m      3\u001b[0m \u001b[0;34m\u001b[0m\u001b[0m\n\u001b[1;32m      4\u001b[0m \u001b[0;31m# note that PickleBuffer is new in Python 3.8.3\u001b[0m\u001b[0;34m\u001b[0m\u001b[0;34m\u001b[0m\u001b[0;34m\u001b[0m\u001b[0m\n",
      "\u001b[0;31mImportError\u001b[0m: cannot import name 'PickleBuffer' from 'pickle' (/usr/local/anaconda3/lib/python3.7/pickle.py)"
     ]
    }
   ],
   "source": [
    "\n",
    "import pickle\n",
    "from pickle import PickleBuffer\n",
    "\n",
    "# note that PickleBuffer is new in Python 3.8.3\n"
   ]
  },
  {
   "cell_type": "code",
   "execution_count": null,
   "metadata": {},
   "outputs": [],
   "source": []
  }
 ],
 "metadata": {
  "kernelspec": {
   "display_name": "Python 3",
   "language": "python",
   "name": "python3"
  },
  "language_info": {
   "codemirror_mode": {
    "name": "ipython",
    "version": 3
   },
   "file_extension": ".py",
   "mimetype": "text/x-python",
   "name": "python",
   "nbconvert_exporter": "python",
   "pygments_lexer": "ipython3",
   "version": "3.7.6"
  },
  "varInspector": {
   "cols": {
    "lenName": 16,
    "lenType": 16,
    "lenVar": 40
   },
   "kernels_config": {
    "python": {
     "delete_cmd_postfix": "",
     "delete_cmd_prefix": "del ",
     "library": "var_list.py",
     "varRefreshCmd": "print(var_dic_list())"
    },
    "r": {
     "delete_cmd_postfix": ") ",
     "delete_cmd_prefix": "rm(",
     "library": "var_list.r",
     "varRefreshCmd": "cat(var_dic_list()) "
    }
   },
   "types_to_exclude": [
    "module",
    "function",
    "builtin_function_or_method",
    "instance",
    "_Feature"
   ],
   "window_display": false
  }
 },
 "nbformat": 4,
 "nbformat_minor": 4
}
