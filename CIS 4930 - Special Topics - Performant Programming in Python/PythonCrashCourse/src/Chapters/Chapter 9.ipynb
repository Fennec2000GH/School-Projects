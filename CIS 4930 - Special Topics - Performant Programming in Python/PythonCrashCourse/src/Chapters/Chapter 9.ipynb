{
 "cells": [
  {
   "cell_type": "markdown",
   "metadata": {},
   "source": [
    "# Chapter 9: Classes"
   ]
  },
  {
   "cell_type": "code",
   "execution_count": 6,
   "metadata": {
    "code_folding": []
   },
   "outputs": [],
   "source": [
    "\n",
    "class Dog:\n",
    "    \"\"\"A simple attempt to model a dog\"\"\"\n",
    "    \n",
    "    def __init__(self, name, age):\n",
    "        \"\"\"Initialize name and age attributes.\"\"\"\n",
    "        self.name = name\n",
    "        self.age = age\n",
    "    \n",
    "    def sit(self):\n",
    "        \"\"\"Simulating a dog sitting in response to a command.\"\"\"\n",
    "        print(f'{self.name} is now sitting.')\n",
    "    \n",
    "    def roll_over(self):\n",
    "        \"\"\"Simulating rollin over in response to a command.\"\"\"\n",
    "        print(f'{self.name} rolled over!')\n",
    "        "
   ]
  },
  {
   "cell_type": "code",
   "execution_count": 7,
   "metadata": {
    "code_folding": []
   },
   "outputs": [
    {
     "name": "stdout",
     "output_type": "stream",
     "text": [
      "My dog's name is Willie.\n",
      "My dog is 6 years old.\n",
      "Willie is now sitting.\n",
      "\n",
      "Your dog's name is Lucy.\n",
      "Your dog is 3 years old.\n",
      "Lucy is now sitting.\n"
     ]
    }
   ],
   "source": [
    "\n",
    "my_dog = Dog('Willie', 6)\n",
    "print(f'My dog\\'s name is {my_dog.name}.')\n",
    "print(f'My dog is {my_dog.age} years old.')\n",
    "my_dog.sit()\n",
    "\n",
    "your_dog = Dog('Lucy', 3)\n",
    "print(f\"\\nYour dog's name is {your_dog.name}.\")\n",
    "print(f\"Your dog is {your_dog.age} years old.\")\n",
    "your_dog.sit()\n"
   ]
  },
  {
   "cell_type": "markdown",
   "metadata": {
    "code_folding": []
   },
   "source": [
    "## Example Exercise"
   ]
  },
  {
   "cell_type": "markdown",
   "metadata": {
    "code_folding": []
   },
   "source": [
    "9-1. Restaurant: Make a class called Restaurant. The __init__() method for Restaurant should store two attributes: a restaurant_name and a cuisine_type. Make a method called describe_restaurant() that prints these two pieces of information, and a method called open_restaurant() that prints a message indicating that the restaurant is open.\n",
    "<br><br>\n",
    "Make an instance called restaurant from your class. Print the two attri- butes individually, and then call both methods."
   ]
  },
  {
   "cell_type": "code",
   "execution_count": 8,
   "metadata": {
    "code_folding": []
   },
   "outputs": [],
   "source": [
    "\n",
    "class Restaurant:\n",
    "    \"\"\"Model of a restaurant\"\"\"\n",
    "    \n",
    "    def __init__(self, restaurant_name, cuisine_type):\n",
    "        \"\"\"Sets the restaurant name and the cuisine type.\"\"\"\n",
    "        self.restaurant_name = restaurant_name\n",
    "        self.cuisine_type = cuisine_type\n",
    "    \n",
    "    def describe_restaurant(self):\n",
    "        \"\"\"Shows the two restaurants\"\"\"\n",
    "        print(f'Restaurant Name: {self.restaurant_name}')\n",
    "        print(f'Cuisine Type: {self.cuisine_type}')\n",
    "        \n",
    "    def open_restaurant(self):\n",
    "        \"\"\"Displays that the restaurant is open.\"\"\"\n",
    "        print('OPEN NOW')\n"
   ]
  },
  {
   "cell_type": "code",
   "execution_count": 9,
   "metadata": {
    "code_folding": []
   },
   "outputs": [
    {
     "name": "stdout",
     "output_type": "stream",
     "text": [
      "Dragonfly\n",
      "Sushi\n",
      "Restaurant Name: Dragonfly\n",
      "Cuisine Type: Sushi\n"
     ]
    }
   ],
   "source": [
    "\n",
    "restaurant = Restaurant('Dragonfly', 'Sushi')\n",
    "print(restaurant.restaurant_name)\n",
    "print(restaurant.cuisine_type)\n",
    "restaurant.describe_restaurant()\n"
   ]
  },
  {
   "cell_type": "markdown",
   "metadata": {
    "code_folding": []
   },
   "source": [
    "9-2. Three Restaurants: <br>\n",
    "\n",
    "Start with your class from Exercise 9-1. Create three different instances from the class, and call describe_restaurant() for each instance."
   ]
  },
  {
   "cell_type": "code",
   "execution_count": 10,
   "metadata": {
    "code_folding": []
   },
   "outputs": [
    {
     "name": "stdout",
     "output_type": "stream",
     "text": [
      "Restaurant Name: Ocean Buffet\n",
      "Cuisine Type: Chinese\n",
      "Restaurant Name: KFC\n",
      "Cuisine Type: Fast Food\n",
      "Restaurant Name: Krusty Krab\n",
      "Cuisine Type: Seafood\n"
     ]
    }
   ],
   "source": [
    "\n",
    "res1 = Restaurant('Ocean Buffet', 'Chinese')\n",
    "res2 = Restaurant('KFC', 'Fast Food')\n",
    "res3 = Restaurant('Krusty Krab', 'Seafood')\n",
    "\n",
    "restaurants = [res1, res2, res3]\n",
    "for res in restaurants:\n",
    "    res.describe_restaurant()\n"
   ]
  },
  {
   "cell_type": "markdown",
   "metadata": {
    "code_folding": []
   },
   "source": [
    "9-3. Users: <br>\n",
    "\n",
    "Make a class called User. Create two attributes called first_name and last_name, and then create several other attributes that are typically stored in a user profile. Make a method called describe_user() that prints a summary of the user’s information. Make another method called greet_user() that prints a personalized greeting to the user.\n",
    "Create several instances representing different users, and call both methods for each user."
   ]
  },
  {
   "cell_type": "code",
   "execution_count": 11,
   "metadata": {
    "code_folding": []
   },
   "outputs": [],
   "source": [
    "\n",
    "class User:\n",
    "    \"\"\"Model for computer user at login\"\"\"\n",
    "    def __init__(self, first_name, last_name, user_name, passwd_hint=None):\n",
    "        \"\"\"Initializes most common user attributes.\"\"\"\n",
    "        self.first_name = first_name\n",
    "        self.last_name = last_name\n",
    "        self.user_name = user_name\n",
    "        self.passwd_hint = passwd_hint\n",
    "    \n",
    "    def describe_user(self):\n",
    "        \"\"\"Prints out attributes that is stored about user.\"\"\"\n",
    "        print(f'First Name: {self.first_name}')\n",
    "        print(f'Last Name: {self.last_name}')\n",
    "        print(f'Username: {self.user_name}')\n",
    "        print(f'Password Hint: {self.passwd_hint}')\n",
    "        \n",
    "    def greet_user(self):\n",
    "        \"\"\"Greets user.\"\"\"\n",
    "        print(f'Hi, {self.first_name}!')\n",
    "        "
   ]
  },
  {
   "cell_type": "code",
   "execution_count": 12,
   "metadata": {
    "code_folding": []
   },
   "outputs": [
    {
     "name": "stdout",
     "output_type": "stream",
     "text": [
      "First Name: Bill\n",
      "Last Name: Gates\n",
      "Username: BGates\n",
      "Password Hint: Microsoft > Apple\n",
      "Hi, Bill!\n",
      "First Name: Tim\n",
      "Last Name: Cook\n",
      "Username: The Cook\n",
      "Password Hint: Windows is trash!\n",
      "Hi, Tim!\n",
      "First Name: Larry\n",
      "Last Name: Page\n",
      "Username: Forgot Username\n",
      "Password Hint: None\n",
      "Hi, Larry!\n"
     ]
    }
   ],
   "source": [
    "\n",
    "usr1 = User(first_name='Bill', last_name='Gates', user_name='BGates', passwd_hint='Microsoft > Apple')\n",
    "usr2 = User(first_name='Tim', last_name='Cook', user_name='The Cook', passwd_hint='Windows is trash!')\n",
    "usr3 = User(first_name='Larry', last_name='Page', user_name='Forgot Username')\n",
    "\n",
    "users = [usr1, usr2, usr3]\n",
    "for user in users:\n",
    "    user.describe_user()\n",
    "    user.greet_user()\n"
   ]
  },
  {
   "cell_type": "markdown",
   "metadata": {
    "code_folding": []
   },
   "source": [
    "## Working with Classes and Instances"
   ]
  },
  {
   "cell_type": "code",
   "execution_count": 28,
   "metadata": {
    "code_folding": []
   },
   "outputs": [],
   "source": [
    "\n",
    "class Car:\n",
    "    \"\"\"A simple attempt to represent a car.\"\"\"\n",
    "    def __init__(self, make, model, year):\n",
    "        \"\"\"Initialize attributes to describe a car.\"\"\"\n",
    "        self.make = make\n",
    "        self.model = model\n",
    "        self.year = year\n",
    "        self.odometer_reading = 0\n",
    "        self.gas_tank = 1\n",
    "    \n",
    "    def get_descriptive_name(self):\n",
    "        \"\"\"Return a neatly formatted descriptive name.\"\"\"\n",
    "        long_name = f\"{self.year} {self.make} {self.model}\"\n",
    "        return long_name.title()\n",
    "    \n",
    "    def read_odometer(self):\n",
    "        \"\"\"Print a statement showing the car's mileage.\"\"\"\n",
    "        print(f\"This car has {self.odometer_reading} miles on it.\")\n",
    "        \n",
    "    def update_odometer(self, mileage):\n",
    "        \"\"\"Set the odometer reading to the given value.\"\"\"\n",
    "        self.odometer_reading = mileage\n",
    "        \n",
    "    def increment_odometer(self, miles):\n",
    "        \"\"\"Add the given amount to the odometer reading.\"\"\"\n",
    "        self.odometer_reading += miles\n",
    "        \n",
    "    def fill_gas_tank(self):\n",
    "        \"\"\"Fills gas tank back to 100%\"\"\"\n",
    "        print(\"This car doesn't need a gas tank!\")\n",
    "    "
   ]
  },
  {
   "cell_type": "code",
   "execution_count": 14,
   "metadata": {
    "code_folding": []
   },
   "outputs": [
    {
     "name": "stdout",
     "output_type": "stream",
     "text": [
      "2019 Audi A4\n",
      "This car has 0 miles on it.\n"
     ]
    }
   ],
   "source": [
    "\n",
    "my_new_car = Car('audi', 'a4', 2019)\n",
    "print(my_new_car.get_descriptive_name())\n",
    "my_new_car.read_odometer()\n"
   ]
  },
  {
   "cell_type": "markdown",
   "metadata": {
    "code_folding": []
   },
   "source": [
    "## Modifying Attribute Values"
   ]
  },
  {
   "cell_type": "code",
   "execution_count": 15,
   "metadata": {
    "code_folding": []
   },
   "outputs": [
    {
     "name": "stdout",
     "output_type": "stream",
     "text": [
      "This car has 23 miles on it.\n",
      "This car has 23 miles on it.\n",
      "This car has 183 miles on it.\n"
     ]
    }
   ],
   "source": [
    "\n",
    "# modifying directly\n",
    "my_new_car.odometer_reading = 23\n",
    "my_new_car.read_odometer()\n",
    "\n",
    "# modifying through a method\n",
    "my_new_car.update_odometer(mileage=23)\n",
    "my_new_car.read_odometer()\n",
    "\n",
    "# incrementing through a method\n",
    "my_new_car.increment_odometer(miles=160)\n",
    "my_new_car.read_odometer()\n"
   ]
  },
  {
   "cell_type": "code",
   "execution_count": 16,
   "metadata": {
    "code_folding": []
   },
   "outputs": [
    {
     "name": "stdout",
     "output_type": "stream",
     "text": [
      "2015 Subaru Outback\n",
      "This car has 23500 miles on it.\n",
      "This car has 23600 miles on it.\n"
     ]
    }
   ],
   "source": [
    "\n",
    "my_used_car = Car('subaru', 'outback', 2015)\n",
    "print(my_used_car.get_descriptive_name())\n",
    "my_used_car.update_odometer(23_500)\n",
    "my_used_car.read_odometer()\n",
    "my_used_car.increment_odometer(100)\n",
    "my_used_car.read_odometer()\n"
   ]
  },
  {
   "cell_type": "markdown",
   "metadata": {
    "code_folding": []
   },
   "source": [
    "## Example Exercises"
   ]
  },
  {
   "cell_type": "markdown",
   "metadata": {
    "code_folding": []
   },
   "source": [
    "9-4. Number Served: <br><br>\n",
    "\n",
    "Start with your program from Exercise 9-1 (page 162). Add an attribute called number_served with a default value of 0. Create an instance called restaurant from this class. Print the number of customers the restaurant has served, and then change this value and print it again.\n",
    "<br>\n",
    "\n",
    "Add a method called set_number_served() that lets you set the number of customers that have been served. Call this method with a new number and print the value again.\n",
    "<br>\n",
    "\n",
    "Add a method called increment_number_served() that lets you increment the number of customers who’ve been served. Call this method with any num- ber you like that could represent how many customers were served in, say, a day of business."
   ]
  },
  {
   "cell_type": "code",
   "execution_count": 17,
   "metadata": {
    "code_folding": []
   },
   "outputs": [],
   "source": [
    "\n",
    "class Restaurant:\n",
    "    \"\"\"Model of a restaurant\"\"\"\n",
    "    \n",
    "    def __init__(self, restaurant_name, cuisine_type):\n",
    "        \"\"\"Sets the restaurant name and the cuisine type.\"\"\"\n",
    "        self.restaurant_name = restaurant_name\n",
    "        self.cuisine_type = cuisine_type\n",
    "        self.number_served = 0\n",
    "        \n",
    "    def describe_restaurant(self):\n",
    "        \"\"\"Shows the two restaurants\"\"\"\n",
    "        print(f'Restaurant Name: {self.restaurant_name}')\n",
    "        print(f'Cuisine Type: {self.cuisine_type}')\n",
    "        \n",
    "    def open_restaurant(self):\n",
    "        \"\"\"Displays that the restaurant is open.\"\"\"\n",
    "        print('OPEN NOW')\n",
    "    \n",
    "    def set_number_served(self, number_served):\n",
    "        \"\"\"Sets new number of customers served.\"\"\"\n",
    "        self.number_served = number_served\n",
    "\n",
    "    def increment_number_served(self, increment):\n",
    "        \"\"\"Increments number of customers served.\"\"\"\n",
    "        self.number_served += increment\n",
    "        "
   ]
  },
  {
   "cell_type": "code",
   "execution_count": 18,
   "metadata": {
    "code_folding": []
   },
   "outputs": [
    {
     "name": "stdout",
     "output_type": "stream",
     "text": [
      "0\n",
      "24\n",
      "120\n",
      "140\n"
     ]
    }
   ],
   "source": [
    "\n",
    "restaurant = Restaurant(restaurant_name='Jollibee', cuisine_type='Exotic Fast Food')\n",
    "print(restaurant.number_served)\n",
    "restaurant.number_served = 24\n",
    "print(restaurant.number_served)\n",
    "\n",
    "restaurant.set_number_served(number_served=120)\n",
    "print(restaurant.number_served)\n",
    "\n",
    "restaurant.increment_number_served(increment=20)\n",
    "print(restaurant.number_served)\n"
   ]
  },
  {
   "cell_type": "markdown",
   "metadata": {
    "code_folding": []
   },
   "source": [
    "9-5. Login Attempts: <br><br>\n",
    "\n",
    "Add an attribute called login_attempts to your User class from Exercise 9-3 (page 162). Write a method called increment_login _attempts() that increments the value of login_attempts by 1. Write another method called reset_login_attempts() that resets the value of login_attempts to 0.\n",
    "<br><br>\n",
    "Make an instance of the User class and call increment_login_attempts() several times. Print the value of login_attempts to make sure it was incremented properly, and then call reset_login_attempts(). Print login_attempts again to make sure it was reset to 0."
   ]
  },
  {
   "cell_type": "code",
   "execution_count": 19,
   "metadata": {},
   "outputs": [],
   "source": [
    "class User:\n",
    "    \"\"\"Model for computer user at login\"\"\"\n",
    "    def __init__(self, first_name, last_name, user_name, passwd_hint=None):\n",
    "        \"\"\"Initializes most common user attributes.\"\"\"\n",
    "        self.first_name = first_name\n",
    "        self.last_name = last_name\n",
    "        self.user_name = user_name\n",
    "        self.passwd_hint = passwd_hint\n",
    "        self.login_attempts = 0\n",
    "    \n",
    "    def describe_user(self):\n",
    "        \"\"\"Prints out attributes that is stored about user.\"\"\"\n",
    "        print(f'First Name: {self.first_name}')\n",
    "        print(f'Last Name: {self.last_name}')\n",
    "        print(f'Username: {self.user_name}')\n",
    "        print(f'Password Hint: {self.passwd_hint}')\n",
    "        \n",
    "    def greet_user(self):\n",
    "        \"\"\"Greets user.\"\"\"\n",
    "        print(f'Hi, {self.first_name}!')\n",
    "        \n",
    "    def increment_login_attempts(self):\n",
    "        \"\"\"Increments the number of login attempts by 1.\"\"\"\n",
    "        self.login_attempts += 1\n",
    "    \n",
    "    def reset_login_attempts(self):\n",
    "        \"\"\"Clears number of login attempts bac to 0.\"\"\"\n",
    "        self.login_attempts = 0\n",
    "        "
   ]
  },
  {
   "cell_type": "code",
   "execution_count": 20,
   "metadata": {},
   "outputs": [
    {
     "name": "stdout",
     "output_type": "stream",
     "text": [
      "25\n",
      "0\n"
     ]
    }
   ],
   "source": [
    "\n",
    "user = User(first_name='Hong', last_name='Guan', user_name='darren_chen')\n",
    "for i in range(25):\n",
    "    user.increment_login_attempts()\n",
    "\n",
    "print(user.login_attempts)\n",
    "user.reset_login_attempts()\n",
    "print(user.login_attempts)\n"
   ]
  },
  {
   "cell_type": "markdown",
   "metadata": {},
   "source": [
    "## Inheritance"
   ]
  },
  {
   "cell_type": "code",
   "execution_count": 26,
   "metadata": {},
   "outputs": [],
   "source": [
    "\n",
    "class ElectricCar(Car):\n",
    "    \"\"\"Represent aspects of a car, specific to electric vehicles.\"\"\"\n",
    "    \n",
    "    def __init__(self, make, model, year):\n",
    "        \"\"\"Initialize attributes of the parent class.\"\"\"\n",
    "        super().__init__(make, model, year)\n",
    "        self.battery_size = 75\n",
    "        \n",
    "    def describe_battery(self):\n",
    "        \"\"\"Print a statement describing the battery size.\"\"\"\n",
    "        print(f\"This car has a {self.battery_size}-kWh battery.\")\n",
    "    \n",
    "    def fill_gas_tank(self):\n",
    "        \"\"\"Electric cars don't have gas tanks.\"\"\"\n",
    "        print(\"This car doesn't need a gas tank!\")\n",
    "        "
   ]
  },
  {
   "cell_type": "code",
   "execution_count": 27,
   "metadata": {},
   "outputs": [
    {
     "name": "stdout",
     "output_type": "stream",
     "text": [
      "2019 Tesla Model S\n",
      "This car has a 75-kWh battery.\n"
     ]
    }
   ],
   "source": [
    "\n",
    "my_tesla = ElectricCar('tesla', 'model s', 2019)\n",
    "print(my_tesla.get_descriptive_name())\n",
    "my_tesla.describe_battery()\n"
   ]
  },
  {
   "cell_type": "markdown",
   "metadata": {},
   "source": [
    "### Instances as Attributes"
   ]
  },
  {
   "cell_type": "code",
   "execution_count": 38,
   "metadata": {},
   "outputs": [],
   "source": [
    "\n",
    "class Battery:\n",
    "    \"\"\"A simple attempt to model a battery for an electric car.\"\"\"\n",
    "    \n",
    "    def __init__(self, battery_size=75):\n",
    "        \"\"\"Initialize the battery's attributes.\"\"\"\n",
    "        self.battery_size = battery_size\n",
    "\n",
    "    def describe_battery(self):\n",
    "        \"\"\"Print a statement describing the battery size.\"\"\"\n",
    "        print(f\"This car has a {self.battery_size}-kWh battery.\")\n",
    "        \n",
    "    def get_range(self):\n",
    "        \"\"\"Print a statement about the range this battery provides.\"\"\"\n",
    "        if self.battery_size == 75:\n",
    "            range = 260\n",
    "        elif self.battery_size == 100:\n",
    "            range = 315\n",
    "        print(f\"This car can go about {range} miles on a full charge.\")\n",
    "            "
   ]
  },
  {
   "cell_type": "code",
   "execution_count": 39,
   "metadata": {},
   "outputs": [],
   "source": [
    "\n",
    "class ElectricCar(Car):\n",
    "    \"\"\"Represent aspects of a car, specific to electric vehicles.\"\"\"\n",
    "    \n",
    "    def __init__(self, make, model, year):\n",
    "        \"\"\"Initialize attributes of the parent class.\"\"\"\n",
    "        super().__init__(make, model, year)\n",
    "        self.battery_size = 75\n",
    "        self.battery = Battery()\n",
    "        \n",
    "    def describe_battery(self):\n",
    "        \"\"\"Print a statement describing the battery size.\"\"\"\n",
    "        print(f\"This car has a {self.battery_size}-kWh battery.\")\n",
    "    \n",
    "    def fill_gas_tank(self):\n",
    "        \"\"\"Electric cars don't have gas tanks.\"\"\"\n",
    "        print(\"This car doesn't need a gas tank!\")\n",
    "        "
   ]
  },
  {
   "cell_type": "code",
   "execution_count": 41,
   "metadata": {},
   "outputs": [
    {
     "name": "stdout",
     "output_type": "stream",
     "text": [
      "2019 Tesla Model S\n",
      "This car has a 75-kWh battery.\n",
      "This car can go about 260 miles on a full charge.\n"
     ]
    }
   ],
   "source": [
    "\n",
    "my_tesla = ElectricCar('tesla', 'model s', 2019)\n",
    "print(my_tesla.get_descriptive_name())\n",
    "my_tesla.battery.describe_battery()\n",
    "my_tesla.battery.get_range()\n"
   ]
  },
  {
   "cell_type": "markdown",
   "metadata": {},
   "source": [
    "9-6. Ice Cream Stand: <br><br>\n",
    "\n",
    "An ice cream stand is a specific kind of restaurant. Write a class called IceCreamStand that inherits from the Restaurant class you wrote in Exercise 9-1 (page 162) or Exercise 9-4 (page 167). Either version of the class will work; just pick the one you like better. Add an attribute called flavors that stores a list of ice cream flavors. Write a method that displays these flavors. Create an instance of IceCreamStand, and call this method."
   ]
  },
  {
   "cell_type": "code",
   "execution_count": 50,
   "metadata": {},
   "outputs": [],
   "source": [
    "\n",
    "class IceCreamStand(Restaurant):\n",
    "    \"\"\"Model for an ice-cream stand restaurant\"\"\"\n",
    "    \n",
    "    def __init__(self, icecream_stand_name):\n",
    "        \"\"\"Constructs ice-cream stand instance.\"\"\"\n",
    "        super().__init__(restaurant_name=icecream_stand_name, cuisine_type='dessert')\n",
    "        self.flavors = ['Vanilla', 'Milk Chocolate', 'Dark Chocolate', 'Mint', 'Banana', 'Strawberry']\n",
    "    \n",
    "    def get_flavors(self):\n",
    "        \"\"\"Displays all available flavors at specific ice=cream stand.\"\"\"\n",
    "        for flavor in self.flavors:\n",
    "            print(flavor)\n",
    "        "
   ]
  },
  {
   "cell_type": "code",
   "execution_count": 51,
   "metadata": {},
   "outputs": [
    {
     "name": "stdout",
     "output_type": "stream",
     "text": [
      "Vanilla\n",
      "Milk Chocolate\n",
      "Dark Chocolate\n",
      "Mint\n",
      "Banana\n",
      "Strawberry\n"
     ]
    }
   ],
   "source": [
    "\n",
    "wonka_icecream = IceCreamStand(icecream_stand_name='Wonka\\'s Icecream')\n",
    "wonka_icecream.get_flavors()\n"
   ]
  },
  {
   "cell_type": "markdown",
   "metadata": {},
   "source": [
    "9-7. Admin: <br><br>\n",
    "\n",
    "An administrator is a special kind of user. Write a class called Admin that inherits from the User class you wrote in Exercise 9-3 (page 162)\n",
    "or Exercise 9-5 (page 167). Add an attribute, privileges, that stores a list\n",
    "of strings like \"can add post\", \"can delete post\", \"can ban user\", and so on. Write a method called show_privileges() that lists the administrator’s set of privileges. Create an instance of Admin, and call your method."
   ]
  },
  {
   "cell_type": "code",
   "execution_count": 60,
   "metadata": {},
   "outputs": [],
   "source": [
    "\n",
    "class Admin(User):\n",
    "    \"\"\"Models special user called administrator\"\"\"\n",
    "\n",
    "    def __init__(self, first_name, last_name, user_name, passwd_hint=None):\n",
    "        \"\"\"Constructs admin user.\"\"\"\n",
    "        super().__init__(first_name=first_name, last_name=last_name, user_name=user_name, passwd_hint=passwd_hint)\n",
    "        self.privileges = [\"can add post\", \"can delete post\", \"can ban user\"]\n",
    "\n",
    "    def show_privileges(self):\n",
    "        \"\"\"Shows every privilege.\"\"\"\n",
    "        for p in self.privileges:\n",
    "            print(p)\n",
    "        "
   ]
  },
  {
   "cell_type": "code",
   "execution_count": 61,
   "metadata": {},
   "outputs": [
    {
     "name": "stdout",
     "output_type": "stream",
     "text": [
      "can add post\n",
      "can delete post\n",
      "can ban user\n"
     ]
    }
   ],
   "source": [
    "\n",
    "admin = Admin(first_name='Alexander', last_name='Hamilton', user_name='im_richhhhhh', passwd_hint='$')\n",
    "admin.show_privileges()\n"
   ]
  },
  {
   "cell_type": "markdown",
   "metadata": {},
   "source": [
    "9-8. Privileges: <br><br>\n",
    "\n",
    "Write a separate Privileges class. The class should have one attribute, privileges, that stores a list of strings as described in Exercise 9-7. Move the show_privileges() method to this class. Make a Privileges instance as an attribute in the Admin class. Create a new instance of Admin and use your method to show its privileges."
   ]
  },
  {
   "cell_type": "code",
   "execution_count": 63,
   "metadata": {},
   "outputs": [],
   "source": [
    "\n",
    "class Privileges:\n",
    "    \"\"\"Models admin privileges\"\"\"\n",
    "    \n",
    "    def __init__(self):\n",
    "        \"\"\"Constructor for admin privileges\"\"\"\n",
    "        self.privileges = [\"can add post\", \"can delete post\", \"can ban user\"]\n",
    "        "
   ]
  },
  {
   "cell_type": "code",
   "execution_count": 65,
   "metadata": {},
   "outputs": [],
   "source": [
    "\n",
    "class Admin(User):\n",
    "    \"\"\"Models special user called administrator\"\"\"\n",
    "\n",
    "    def __init__(self, first_name, last_name, user_name, passwd_hint=None):\n",
    "        \"\"\"Constructs admin user.\"\"\"\n",
    "        super().__init__(first_name=first_name, last_name=last_name, user_name=user_name, passwd_hint=passwd_hint)\n",
    "        self.privileges = Privileges()\n",
    "\n",
    "    def show_privileges(self):\n",
    "        \"\"\"Shows every privilege.\"\"\"\n",
    "        for p in self.privileges.privileges:\n",
    "            print(p)\n",
    "        "
   ]
  },
  {
   "cell_type": "code",
   "execution_count": 66,
   "metadata": {},
   "outputs": [
    {
     "name": "stdout",
     "output_type": "stream",
     "text": [
      "can add post\n",
      "can delete post\n",
      "can ban user\n"
     ]
    }
   ],
   "source": [
    "\n",
    "admin = Admin(first_name='Alexander', last_name='Hamilton', user_name='im_richhhhhh', passwd_hint='$')\n",
    "admin.show_privileges()\n"
   ]
  },
  {
   "cell_type": "markdown",
   "metadata": {},
   "source": [
    " 9-9. Battery Upgrade: <br><br>\n",
    " \n",
    "Use the final version of electric_car.py from this section. Add a method to the Battery class called upgrade_battery(). This method should check the battery size and set the capacity to 100 if it isn’t already. Make an electric car with a default battery size, call get_range() once, and then call get_range() a second time after upgrading the battery. You should see an increase in the car’s range."
   ]
  },
  {
   "cell_type": "code",
   "execution_count": 73,
   "metadata": {},
   "outputs": [],
   "source": [
    "\n",
    "\n",
    "class Battery:\n",
    "    \"\"\"A simple attempt to model a battery for an electric car.\"\"\"\n",
    "    \n",
    "    def __init__(self, battery_size=75):\n",
    "        \"\"\"Initialize the battery's attributes.\"\"\"\n",
    "        self.battery_size = battery_size\n",
    "\n",
    "    def describe_battery(self):\n",
    "        \"\"\"Print a statement describing the battery size.\"\"\"\n",
    "        print(f\"This car has a {self.battery_size}-kWh battery.\")\n",
    "        \n",
    "    def get_range(self):\n",
    "        \"\"\"Print a statement about the range this battery provides.\"\"\"\n",
    "        if self.battery_size == 75:\n",
    "            range = 260\n",
    "        elif self.battery_size == 100:\n",
    "            range = 315\n",
    "        print(f\"This car can go about {range} miles on a full charge.\")\n",
    "    \n",
    "    def upgrade_battery(self):\n",
    "        \"\"\"Checks battery size and adjusts if not 100\"\"\"\n",
    "        if self.battery_size != 100:\n",
    "            self.battery_size = 100 \n",
    "        "
   ]
  },
  {
   "cell_type": "code",
   "execution_count": 75,
   "metadata": {},
   "outputs": [
    {
     "name": "stdout",
     "output_type": "stream",
     "text": [
      "This car can go about 260 miles on a full charge.\n",
      "This car can go about 315 miles on a full charge.\n"
     ]
    }
   ],
   "source": [
    "\n",
    "cybertruck = ElectricCar(make='Tesla', model='Cybertruck', year=2021)\n",
    "cybertruck.battery.get_range()\n",
    "cybertruck.battery.upgrade_battery()\n",
    "cybertruck.battery.get_range()\n"
   ]
  }
 ],
 "metadata": {
  "kernelspec": {
   "display_name": "Python 3",
   "language": "python",
   "name": "python3"
  },
  "language_info": {
   "codemirror_mode": {
    "name": "ipython",
    "version": 3
   },
   "file_extension": ".py",
   "mimetype": "text/x-python",
   "name": "python",
   "nbconvert_exporter": "python",
   "pygments_lexer": "ipython3",
   "version": "3.7.6"
  },
  "varInspector": {
   "cols": {
    "lenName": 16,
    "lenType": 16,
    "lenVar": 40
   },
   "kernels_config": {
    "python": {
     "delete_cmd_postfix": "",
     "delete_cmd_prefix": "del ",
     "library": "var_list.py",
     "varRefreshCmd": "print(var_dic_list())"
    },
    "r": {
     "delete_cmd_postfix": ") ",
     "delete_cmd_prefix": "rm(",
     "library": "var_list.r",
     "varRefreshCmd": "cat(var_dic_list()) "
    }
   },
   "types_to_exclude": [
    "module",
    "function",
    "builtin_function_or_method",
    "instance",
    "_Feature"
   ],
   "window_display": false
  }
 },
 "nbformat": 4,
 "nbformat_minor": 4
}
