{
 "cells": [
  {
   "cell_type": "markdown",
   "metadata": {},
   "source": [
    "# Lab 2"
   ]
  },
  {
   "cell_type": "code",
   "execution_count": 30,
   "metadata": {},
   "outputs": [],
   "source": [
    "pairwise_minmax_ratio <- function(n, p) {\n",
    "    x <- matrix(rnorm(n=n * p), nrow=n)\n",
    "    distMat <- as.matrix(dist(x=x))\n",
    "    distances <- as.vector(distMat[which(upper.tri(distMat) == TRUE)])\n",
    "    max(distances) / min(distances)\n",
    "}"
   ]
  },
  {
   "cell_type": "code",
   "execution_count": 46,
   "metadata": {},
   "outputs": [
    {
     "name": "stdout",
     "output_type": "stream",
     "text": [
      "n =  100 , p =  5 \n",
      "[1] 13.60067\n",
      "n =  100 , p =  50 \n",
      "[1] 2.309217\n",
      "n =  1000 , p =  5 \n",
      "[1] 38.07083\n",
      "n =  1000 , p =  50 \n",
      "[1] 2.549794\n"
     ]
    }
   ],
   "source": [
    "for (n_ in c(100, 1000)) {\n",
    "    for (p_ in c(5, 50)) {\n",
    "        cat('n = ', n_, ', p = ', p_, '\\n')\n",
    "        print(pairwise_minmax_ratio(n=n_, p=p_))\n",
    "    }\n",
    "}"
   ]
  },
  {
   "cell_type": "code",
   "execution_count": null,
   "metadata": {},
   "outputs": [],
   "source": []
  }
 ],
 "metadata": {
  "kernelspec": {
   "display_name": "R",
   "language": "R",
   "name": "ir"
  },
  "language_info": {
   "codemirror_mode": "r",
   "file_extension": ".r",
   "mimetype": "text/x-r-source",
   "name": "R",
   "pygments_lexer": "r",
   "version": "4.1.1"
  }
 },
 "nbformat": 4,
 "nbformat_minor": 4
}
